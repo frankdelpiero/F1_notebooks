{
 "cells": [
  {
   "cell_type": "code",
   "execution_count": 1,
   "metadata": {},
   "outputs": [],
   "source": [
    "from F1_library import libraryF1dataNotebook as libraryDataF1\n",
    "import pandas as pd\n",
    "import fastf1 as ff1"
   ]
  },
  {
   "cell_type": "markdown",
   "metadata": {},
   "source": [
    "# FORMULA 1 MOET CHANDON BELGIAN GRAND PRIX 2025\n",
    "The Belgian Grand Prix (French: Grand Prix de Belgique; Dutch: Grote Prijs van België; German: Großer Preis von Belgien) is a motor racing event which forms part of the Formula One World Championship. The first national race of Belgium was held in 1925 at the Spa region's race course, an area of the country that had been associated with motor sport since the very early years of racing. To accommodate Grand Prix motor racing, the Circuit de Spa-Francorchamps race course was built in 1921 but until 1924 it was used only for motorcycle racing. After the 1923 success of the new 24 hours of Le Mans in France, the Spa 24 Hours, a similar 24-hour endurance race, was run at the Spa track.\n",
    "\n",
    "Since its inception, Spa-Francorchamps has been known for its unpredictable weather. At one stage in its history it had rained at the Belgian Grand Prix for twenty years in a row. Frequently drivers confront a part of the course that is clear and bright while another stretch is rainy and slippery.\n",
    "\n",
    "The Belgian Grand Prix was designated the European Grand Prix six times between 1925 and 1973, when this title was an honorary designation given each year to one Grand Prix race in Europe. It is one of the most popular races on the Formula One calendar, due to the scenic and historical Spa-Francorchamps circuit being a favourite of drivers and fans.\n",
    "Source: Wikipedia\n",
    "Analyzed by Franccy del Piero Sambrano Ganoza"
   ]
  },
  {
   "cell_type": "markdown",
   "metadata": {},
   "source": [
    "## Obtain session information"
   ]
  },
  {
   "cell_type": "code",
   "execution_count": 2,
   "metadata": {},
   "outputs": [
    {
     "data": {
      "text/html": [
       "<div>\n",
       "<style scoped>\n",
       "    .dataframe tbody tr th:only-of-type {\n",
       "        vertical-align: middle;\n",
       "    }\n",
       "\n",
       "    .dataframe tbody tr th {\n",
       "        vertical-align: top;\n",
       "    }\n",
       "\n",
       "    .dataframe thead th {\n",
       "        text-align: right;\n",
       "    }\n",
       "</style>\n",
       "<table border=\"1\" class=\"dataframe\">\n",
       "  <thead>\n",
       "    <tr style=\"text-align: right;\">\n",
       "      <th></th>\n",
       "      <th>meeting_key</th>\n",
       "      <th>session_key</th>\n",
       "      <th>location</th>\n",
       "      <th>date_start</th>\n",
       "      <th>date_end</th>\n",
       "      <th>session_type</th>\n",
       "      <th>session_name</th>\n",
       "      <th>country_key</th>\n",
       "      <th>country_code</th>\n",
       "      <th>country_name</th>\n",
       "      <th>circuit_key</th>\n",
       "      <th>circuit_short_name</th>\n",
       "      <th>gmt_offset</th>\n",
       "      <th>year</th>\n",
       "    </tr>\n",
       "  </thead>\n",
       "  <tbody>\n",
       "    <tr>\n",
       "      <th>0</th>\n",
       "      <td>1265</td>\n",
       "      <td>9929</td>\n",
       "      <td>Spa-Francorchamps</td>\n",
       "      <td>2025-07-25T10:30:00+00:00</td>\n",
       "      <td>2025-07-25T11:30:00+00:00</td>\n",
       "      <td>Practice</td>\n",
       "      <td>Practice 1</td>\n",
       "      <td>16</td>\n",
       "      <td>BEL</td>\n",
       "      <td>Belgium</td>\n",
       "      <td>7</td>\n",
       "      <td>Spa-Francorchamps</td>\n",
       "      <td>02:00:00</td>\n",
       "      <td>2025</td>\n",
       "    </tr>\n",
       "    <tr>\n",
       "      <th>1</th>\n",
       "      <td>1265</td>\n",
       "      <td>9930</td>\n",
       "      <td>Spa-Francorchamps</td>\n",
       "      <td>2025-07-25T14:30:00+00:00</td>\n",
       "      <td>2025-07-25T15:14:00+00:00</td>\n",
       "      <td>Qualifying</td>\n",
       "      <td>Sprint Qualifying</td>\n",
       "      <td>16</td>\n",
       "      <td>BEL</td>\n",
       "      <td>Belgium</td>\n",
       "      <td>7</td>\n",
       "      <td>Spa-Francorchamps</td>\n",
       "      <td>02:00:00</td>\n",
       "      <td>2025</td>\n",
       "    </tr>\n",
       "  </tbody>\n",
       "</table>\n",
       "</div>"
      ],
      "text/plain": [
       "   meeting_key  session_key           location                 date_start  \\\n",
       "0         1265         9929  Spa-Francorchamps  2025-07-25T10:30:00+00:00   \n",
       "1         1265         9930  Spa-Francorchamps  2025-07-25T14:30:00+00:00   \n",
       "\n",
       "                    date_end session_type       session_name  country_key  \\\n",
       "0  2025-07-25T11:30:00+00:00     Practice         Practice 1           16   \n",
       "1  2025-07-25T15:14:00+00:00   Qualifying  Sprint Qualifying           16   \n",
       "\n",
       "  country_code country_name  circuit_key circuit_short_name gmt_offset  year  \n",
       "0          BEL      Belgium            7  Spa-Francorchamps   02:00:00  2025  \n",
       "1          BEL      Belgium            7  Spa-Francorchamps   02:00:00  2025  "
      ]
     },
     "execution_count": 2,
     "metadata": {},
     "output_type": "execute_result"
    }
   ],
   "source": [
    "libraryDataF1.obtain_information('sessions',year=2025,country_acronym='BEL')"
   ]
  },
  {
   "cell_type": "markdown",
   "metadata": {},
   "source": [
    "## Free Practice 1\n",
    "### Obtain setup"
   ]
  },
  {
   "cell_type": "code",
   "execution_count": 23,
   "metadata": {},
   "outputs": [],
   "source": [
    "practice = libraryDataF1.obtain_information('laps',session_key=9929)\n",
    "stintInformation = libraryDataF1.obtain_information('stints',session_key=9929)\n",
    "drivers = libraryDataF1.obtain_information('drivers',session_key=9929)"
   ]
  },
  {
   "cell_type": "code",
   "execution_count": 24,
   "metadata": {},
   "outputs": [],
   "source": [
    "stintsDataFrame =libraryDataF1.stint_configuration(drivers,stintInformation)\n",
    "jointables2 = pd.merge(practice,stintsDataFrame,on=['lap_number','driver_number'])\n",
    "libraryDataF1.obtain_drivers_colours(drivers)"
   ]
  },
  {
   "cell_type": "markdown",
   "metadata": {},
   "source": [
    "### Speed trap\n",
    "Red Bull is the fastest on the straights being remarkable in sector 1 and 3. Sauber and Mercedes did the same strategy."
   ]
  },
  {
   "cell_type": "code",
   "execution_count": 25,
   "metadata": {},
   "outputs": [
    {
     "data": {
      "image/png": "[encoded data removed]",
      "text/plain": [
       "<Figure size 1200x900 with 1 Axes>"
      ]
     },
     "metadata": {},
     "output_type": "display_data"
    }
   ],
   "source": [
    "top_speed = jointables2.loc[jointables2.groupby(['name_acronym'])['st_speed'].idxmax()].sort_values(by=['st_speed'],ascending=False)\n",
    "libraryDataF1.obtainchart(\"name_acronym\",\"st_speed\",top_speed)"
   ]
  },
  {
   "cell_type": "code",
   "execution_count": 26,
   "metadata": {},
   "outputs": [
    {
     "data": {
      "image/png": "[encoded data removed]",
      "text/plain": [
       "<Figure size 1200x900 with 1 Axes>"
      ]
     },
     "metadata": {},
     "output_type": "display_data"
    }
   ],
   "source": [
    "top_speed = jointables2.loc[jointables2.groupby(['name_acronym'])['i1_speed'].idxmax()].sort_values(by=['i1_speed'],ascending=False)\n",
    "libraryDataF1.obtainchart(\"name_acronym\",\"i1_speed\",top_speed)"
   ]
  },
  {
   "cell_type": "code",
   "execution_count": 27,
   "metadata": {},
   "outputs": [
    {
     "data": {
      "image/png": "[encoded data removed]",
      "text/plain": [
       "<Figure size 1200x900 with 1 Axes>"
      ]
     },
     "metadata": {},
     "output_type": "display_data"
    }
   ],
   "source": [
    "top_speed = jointables2.loc[jointables2.groupby(['name_acronym'])['i2_speed'].idxmax()].sort_values(by=['i2_speed'],ascending=False)\n",
    "libraryDataF1.obtainchart(\"name_acronym\",\"i2_speed\",top_speed)"
   ]
  },
  {
   "cell_type": "markdown",
   "metadata": {},
   "source": [
    "### Fastest lap per compound\n",
    "In this section, I will show the best lap with the different compounds of the session. "
   ]
  },
  {
   "cell_type": "code",
   "execution_count": 28,
   "metadata": {},
   "outputs": [
    {
     "data": {
      "text/html": [
       "<div>\n",
       "<style scoped>\n",
       "    .dataframe tbody tr th:only-of-type {\n",
       "        vertical-align: middle;\n",
       "    }\n",
       "\n",
       "    .dataframe tbody tr th {\n",
       "        vertical-align: top;\n",
       "    }\n",
       "\n",
       "    .dataframe thead th {\n",
       "        text-align: right;\n",
       "    }\n",
       "</style>\n",
       "<table border=\"1\" class=\"dataframe\">\n",
       "  <thead>\n",
       "    <tr style=\"text-align: right;\">\n",
       "      <th></th>\n",
       "      <th>full_name</th>\n",
       "      <th>compound</th>\n",
       "      <th>duration_sector_1</th>\n",
       "      <th>duration_sector_2</th>\n",
       "      <th>duration_sector_3</th>\n",
       "      <th>lap_duration</th>\n",
       "    </tr>\n",
       "  </thead>\n",
       "  <tbody>\n",
       "    <tr>\n",
       "      <th>146</th>\n",
       "      <td>Charles LECLERC</td>\n",
       "      <td>HARD</td>\n",
       "      <td>30.534</td>\n",
       "      <td>45.231</td>\n",
       "      <td>28.383</td>\n",
       "      <td>104.148</td>\n",
       "    </tr>\n",
       "    <tr>\n",
       "      <th>355</th>\n",
       "      <td>George RUSSELL</td>\n",
       "      <td>MEDIUM</td>\n",
       "      <td>30.038</td>\n",
       "      <td>44.544</td>\n",
       "      <td>28.016</td>\n",
       "      <td>102.598</td>\n",
       "    </tr>\n",
       "    <tr>\n",
       "      <th>393</th>\n",
       "      <td>Oscar PIASTRI</td>\n",
       "      <td>SOFT</td>\n",
       "      <td>30.207</td>\n",
       "      <td>43.604</td>\n",
       "      <td>28.211</td>\n",
       "      <td>102.022</td>\n",
       "    </tr>\n",
       "  </tbody>\n",
       "</table>\n",
       "</div>"
      ],
      "text/plain": [
       "           full_name compound  duration_sector_1  duration_sector_2  \\\n",
       "146  Charles LECLERC     HARD             30.534             45.231   \n",
       "355   George RUSSELL   MEDIUM             30.038             44.544   \n",
       "393    Oscar PIASTRI     SOFT             30.207             43.604   \n",
       "\n",
       "     duration_sector_3  lap_duration  \n",
       "146             28.383       104.148  \n",
       "355             28.016       102.598  \n",
       "393             28.211       102.022  "
      ]
     },
     "execution_count": 28,
     "metadata": {},
     "output_type": "execute_result"
    }
   ],
   "source": [
    "compoundsPace = jointables2.loc[jointables2.groupby(['compound'])['lap_duration'].idxmin()]\n",
    "compoundsPace[['full_name','compound','duration_sector_1','duration_sector_2','duration_sector_3','lap_duration']]"
   ]
  },
  {
   "cell_type": "markdown",
   "metadata": {},
   "source": [
    "### Deltas\n",
    "Everyone, except Colapinto, did their fastest lap attemp at the final of the session. BEA had a problem in sector 2 and TSU were unable to improve his fastest attemp.\n",
    "If it does not rain, McLaren could take advantage of their strong second sector for fighting for pole. Alpine will suffer here due to lack of engine power and entering in Q2 will be very difficult."
   ]
  },
  {
   "cell_type": "code",
   "execution_count": null,
   "metadata": {},
   "outputs": [],
   "source": [
    "practiceCleaned = jointables2.query(\"lap_duration >1\")\n",
    "drivers_list = list(practiceCleaned['driver_number'].unique())\n",
    "newdataset = pd.DataFrame()\n",
    "for driver in drivers_list:\n",
    "    newdataset =libraryDataF1.obtain_fastest_lap(driver,practiceCleaned,newdataset)\n",
    "\n",
    "arr= libraryDataF1.obtain_deltas(newdataset)\n",
    "newdataset.insert(3,'delta',arr)\n"
   ]
  },
  {
   "cell_type": "code",
   "execution_count": 30,
   "metadata": {},
   "outputs": [
    {
     "data": {
      "image/png": "[encoded data removed]",
      "text/plain": [
       "<Figure size 1200x900 with 1 Axes>"
      ]
     },
     "metadata": {},
     "output_type": "display_data"
    }
   ],
   "source": [
    "dt = newdataset.sort_values(ascending=True,by='delta')\n",
    "libraryDataF1.obtainchart(\"name_acronym\",\"delta\",dt)"
   ]
  },
  {
   "cell_type": "markdown",
   "metadata": {},
   "source": [
    "### Track dominance\n",
    "S1: As we watched in Speed Track session, Red Bull is the fastest here. Sauber and Mercedes have to take advantage at maximum this sector because is the strongest for the setup. On the other hand, McLaren and Williams are in the midfield. Setup is crucial because RB with the same engine are the 17th and 19th.\n",
    "S2: This is the McLaren sector where they dominated. RB and Ferrari stand out in this sector while the teams that standed out in S1 suffer in S2.\n",
    "S3: This sector is a long straight where teams that standed out in S1 will be in the same situation."
   ]
  },
  {
   "cell_type": "code",
   "execution_count": 31,
   "metadata": {},
   "outputs": [
    {
     "data": {
      "image/png": "[encoded data removed]",
      "text/plain": [
       "<Figure size 1200x900 with 1 Axes>"
      ]
     },
     "metadata": {},
     "output_type": "display_data"
    }
   ],
   "source": [
    "sectorPace = jointables2.loc[jointables2.groupby(['driver_number'])['duration_sector_1'].idxmin().dropna()].sort_values(by=['duration_sector_1'],ascending=True)\n",
    "libraryDataF1.obtainchart(\"name_acronym\",\"duration_sector_1\",sectorPace)"
   ]
  },
  {
   "cell_type": "code",
   "execution_count": 32,
   "metadata": {},
   "outputs": [
    {
     "data": {
      "image/png": "[encoded data removed]",
      "text/plain": [
       "<Figure size 1200x900 with 1 Axes>"
      ]
     },
     "metadata": {},
     "output_type": "display_data"
    }
   ],
   "source": [
    "sectorPace = jointables2.loc[jointables2.groupby(['driver_number'])['duration_sector_2'].idxmin().dropna()].sort_values(by=['duration_sector_2'],ascending=True)\n",
    "libraryDataF1.obtainchart(\"name_acronym\",\"duration_sector_2\",sectorPace)"
   ]
  },
  {
   "cell_type": "code",
   "execution_count": 33,
   "metadata": {},
   "outputs": [
    {
     "data": {
      "image/png": "[encoded data removed]",
      "text/plain": [
       "<Figure size 1200x900 with 1 Axes>"
      ]
     },
     "metadata": {},
     "output_type": "display_data"
    }
   ],
   "source": [
    "sectorPace = jointables2.loc[jointables2.groupby(['driver_number'])['duration_sector_3'].idxmin().dropna()].sort_values(by=['duration_sector_3'],ascending=True)\n",
    "libraryDataF1.obtainchart(\"name_acronym\",\"duration_sector_3\",sectorPace)"
   ]
  },
  {
   "cell_type": "markdown",
   "metadata": {},
   "source": [
    "### Mean pace with the different compound used on the session"
   ]
  },
  {
   "cell_type": "code",
   "execution_count": 34,
   "metadata": {},
   "outputs": [
    {
     "data": {
      "text/html": [
       "<div>\n",
       "<style scoped>\n",
       "    .dataframe tbody tr th:only-of-type {\n",
       "        vertical-align: middle;\n",
       "    }\n",
       "\n",
       "    .dataframe tbody tr th {\n",
       "        vertical-align: top;\n",
       "    }\n",
       "\n",
       "    .dataframe thead th {\n",
       "        text-align: right;\n",
       "    }\n",
       "</style>\n",
       "<table border=\"1\" class=\"dataframe\">\n",
       "  <thead>\n",
       "    <tr style=\"text-align: right;\">\n",
       "      <th></th>\n",
       "      <th>lap_duration</th>\n",
       "    </tr>\n",
       "    <tr>\n",
       "      <th>compound</th>\n",
       "      <th></th>\n",
       "    </tr>\n",
       "  </thead>\n",
       "  <tbody>\n",
       "    <tr>\n",
       "      <th>MEDIUM</th>\n",
       "      <td>108.783643</td>\n",
       "    </tr>\n",
       "    <tr>\n",
       "      <th>HARD</th>\n",
       "      <td>109.888304</td>\n",
       "    </tr>\n",
       "    <tr>\n",
       "      <th>SOFT</th>\n",
       "      <td>110.058000</td>\n",
       "    </tr>\n",
       "  </tbody>\n",
       "</table>\n",
       "</div>"
      ],
      "text/plain": [
       "          lap_duration\n",
       "compound              \n",
       "MEDIUM      108.783643\n",
       "HARD        109.888304\n",
       "SOFT        110.058000"
      ]
     },
     "execution_count": 34,
     "metadata": {},
     "output_type": "execute_result"
    }
   ],
   "source": [
    "race_pace = pd.DataFrame(jointables2.query(\"is_pit_out_lap == False and lap_duration >108  and lap_duration <=112.5\").groupby(\"compound\")['lap_duration'].mean().sort_values(ascending=True))\n",
    "race_pace"
   ]
  },
  {
   "cell_type": "markdown",
   "metadata": {},
   "source": [
    "## Sprint Qualyfing\n",
    "### Race control\n",
    "This section has been added in order to know which laps has been deleted and knowing what happened on track during this session as well."
   ]
  },
  {
   "cell_type": "code",
   "execution_count": 101,
   "metadata": {},
   "outputs": [
    {
     "data": {
      "text/plain": [
       "[['2025-07-25T14:30:00+00:00'],\n",
       " ['2025-07-25T14:55:00+00:00'],\n",
       " ['2025-07-25T15:18:00+00:00']]"
      ]
     },
     "execution_count": 101,
     "metadata": {},
     "output_type": "execute_result"
    }
   ],
   "source": [
    "qualy_session = list(libraryDataF1.obtain_information('race_control',session_key=9930).query('message.str.contains(\"GREEN\")').date.str.split())\n",
    "qualy_session\n"
   ]
  },
  {
   "cell_type": "code",
   "execution_count": 67,
   "metadata": {},
   "outputs": [
    {
     "data": {
      "text/html": [
       "<div>\n",
       "<style scoped>\n",
       "    .dataframe tbody tr th:only-of-type {\n",
       "        vertical-align: middle;\n",
       "    }\n",
       "\n",
       "    .dataframe tbody tr th {\n",
       "        vertical-align: top;\n",
       "    }\n",
       "\n",
       "    .dataframe thead th {\n",
       "        text-align: right;\n",
       "    }\n",
       "</style>\n",
       "<table border=\"1\" class=\"dataframe\">\n",
       "  <thead>\n",
       "    <tr style=\"text-align: right;\">\n",
       "      <th></th>\n",
       "      <th>meeting_key</th>\n",
       "      <th>session_key</th>\n",
       "      <th>date</th>\n",
       "      <th>driver_number</th>\n",
       "      <th>lap_number</th>\n",
       "      <th>category</th>\n",
       "      <th>flag</th>\n",
       "      <th>scope</th>\n",
       "      <th>sector</th>\n",
       "      <th>message</th>\n",
       "    </tr>\n",
       "  </thead>\n",
       "  <tbody>\n",
       "    <tr>\n",
       "      <th>2</th>\n",
       "      <td>1265</td>\n",
       "      <td>9930</td>\n",
       "      <td>2025-07-25T14:35:19+00:00</td>\n",
       "      <td>None</td>\n",
       "      <td>None</td>\n",
       "      <td>Other</td>\n",
       "      <td>None</td>\n",
       "      <td>None</td>\n",
       "      <td>NaN</td>\n",
       "      <td>CAR 87 (BEA) TIME 1:42.943 DELETED - TRACK LIM...</td>\n",
       "    </tr>\n",
       "    <tr>\n",
       "      <th>4</th>\n",
       "      <td>1265</td>\n",
       "      <td>9930</td>\n",
       "      <td>2025-07-25T14:36:35+00:00</td>\n",
       "      <td>None</td>\n",
       "      <td>None</td>\n",
       "      <td>Other</td>\n",
       "      <td>None</td>\n",
       "      <td>None</td>\n",
       "      <td>NaN</td>\n",
       "      <td>CAR 12 (ANT) TIME 2:04.851 DELETED - TRACK LIM...</td>\n",
       "    </tr>\n",
       "    <tr>\n",
       "      <th>16</th>\n",
       "      <td>1265</td>\n",
       "      <td>9930</td>\n",
       "      <td>2025-07-25T14:43:33+00:00</td>\n",
       "      <td>None</td>\n",
       "      <td>None</td>\n",
       "      <td>Other</td>\n",
       "      <td>None</td>\n",
       "      <td>None</td>\n",
       "      <td>NaN</td>\n",
       "      <td>CAR 22 (TSU) TIME 1:42.890 DELETED - TRACK LIM...</td>\n",
       "    </tr>\n",
       "    <tr>\n",
       "      <th>38</th>\n",
       "      <td>1265</td>\n",
       "      <td>9930</td>\n",
       "      <td>2025-07-25T15:00:03+00:00</td>\n",
       "      <td>None</td>\n",
       "      <td>None</td>\n",
       "      <td>Other</td>\n",
       "      <td>None</td>\n",
       "      <td>None</td>\n",
       "      <td>NaN</td>\n",
       "      <td>CAR 81 (PIA) TIME 1:41.736 DELETED - TRACK LIM...</td>\n",
       "    </tr>\n",
       "  </tbody>\n",
       "</table>\n",
       "</div>"
      ],
      "text/plain": [
       "    meeting_key  session_key                       date driver_number  \\\n",
       "2          1265         9930  2025-07-25T14:35:19+00:00          None   \n",
       "4          1265         9930  2025-07-25T14:36:35+00:00          None   \n",
       "16         1265         9930  2025-07-25T14:43:33+00:00          None   \n",
       "38         1265         9930  2025-07-25T15:00:03+00:00          None   \n",
       "\n",
       "   lap_number category  flag scope  sector  \\\n",
       "2        None    Other  None  None     NaN   \n",
       "4        None    Other  None  None     NaN   \n",
       "16       None    Other  None  None     NaN   \n",
       "38       None    Other  None  None     NaN   \n",
       "\n",
       "                                              message  \n",
       "2   CAR 87 (BEA) TIME 1:42.943 DELETED - TRACK LIM...  \n",
       "4   CAR 12 (ANT) TIME 2:04.851 DELETED - TRACK LIM...  \n",
       "16  CAR 22 (TSU) TIME 1:42.890 DELETED - TRACK LIM...  \n",
       "38  CAR 81 (PIA) TIME 1:41.736 DELETED - TRACK LIM...  "
      ]
     },
     "execution_count": 67,
     "metadata": {},
     "output_type": "execute_result"
    }
   ],
   "source": [
    "libraryDataF1.obtain_information('race_control',session_key=9930).query('message.str.contains(\"DELETED\")')"
   ]
  },
  {
   "cell_type": "markdown",
   "metadata": {},
   "source": [
    "### Obtain setup"
   ]
  },
  {
   "cell_type": "code",
   "execution_count": 64,
   "metadata": {},
   "outputs": [],
   "source": [
    "qualyfing = libraryDataF1.obtain_information('laps',session_key=9930)\n",
    "stintInformation = libraryDataF1.obtain_information('stints',session_key=9930)\n",
    "drivers = libraryDataF1.obtain_information('drivers',session_key=9930)\n",
    "libraryDataF1.obtain_drivers_colours(drivers)"
   ]
  },
  {
   "cell_type": "markdown",
   "metadata": {},
   "source": [
    "In race control dataset, I can see a lot of laptimes deleted, principally for track limits. Those laps deleted were deleted from dataset in order to obtain only the valid laps for the analysis."
   ]
  },
  {
   "cell_type": "code",
   "execution_count": 68,
   "metadata": {},
   "outputs": [],
   "source": [
    "laptimes_deleted = [102.943,124.851,102.890,101.736]\n",
    "driver_number_lap_deleted = [87,12,22,81]\n",
    "\n",
    "for ltime_deleted, dn_time_deleted in zip(laptimes_deleted,driver_number_lap_deleted):\n",
    "    try:\n",
    "        id_deleted = qualyfing.query(\"driver_number == @dn_time_deleted and lap_duration == @ltime_deleted\").index[0]\n",
    "        qualyfing = qualyfing.drop(id_deleted)\n",
    "    except:\n",
    "        print(\"Laptime deleted associated with the selected driver does not exist. Please, check again the order of the arrays\")"
   ]
  },
  {
   "cell_type": "code",
   "execution_count": 69,
   "metadata": {},
   "outputs": [],
   "source": [
    "bestlap = qualyfing.loc[qualyfing.groupby(['driver_number'])['lap_duration'].idxmin()].sort_values(by=['lap_duration'],ascending=True)"
   ]
  },
  {
   "cell_type": "markdown",
   "metadata": {},
   "source": [
    "The fastest lap  is 100.510 seconds (1.40.510= so that to obtain the competitve laps the fastest lap will be multiplied by 1.07 (107.54 seconds) due to, according to the rules all the drivers have to do unless one lap within this gap."
   ]
  },
  {
   "cell_type": "code",
   "execution_count": 70,
   "metadata": {},
   "outputs": [],
   "source": [
    "competitiveLaps = qualyfing.query(\"is_pit_out_lap == False and lap_duration < 107.54\")"
   ]
  },
  {
   "cell_type": "code",
   "execution_count": 71,
   "metadata": {},
   "outputs": [
    {
     "name": "stdout",
     "output_type": "stream",
     "text": [
      "\n"
     ]
    }
   ],
   "source": [
    "drivers_list = list(competitiveLaps['driver_number'].unique())\n",
    "newdataset = pd.DataFrame()\n",
    "for driver in drivers_list:\n",
    "    newdataset =libraryDataF1.obtain_information_qualy(driver,competitiveLaps,newdataset)\n",
    "jointables = pd.merge(newdataset,drivers,on=['driver_number'])\n",
    "jointables.sort_values(by=['fastest_lap'],ascending=True)\n",
    "print()"
   ]
  },
  {
   "cell_type": "markdown",
   "metadata": {},
   "source": [
    "#### Best lap per driver compared with the best lap of the session\n",
    "Hamilton spun at the exit of the chicane spoiling some laps. ALB and HUL had good times but due to the yellow flag they were unable to pass to Q2 and ANT had a problem in his fastest lap damaging his tyres.\n",
    "SQ2 was a madness with both Aston being knocked-out when in FP they showed a good pace. Incredible performance of OCO and GAS entering in SQ3 thanks to hte track improvement.\n",
    "Max was able to fight versus McLaren being NOR"
   ]
  },
  {
   "cell_type": "code",
   "execution_count": 72,
   "metadata": {},
   "outputs": [
    {
     "data": {
      "image/png": "[encoded data removed]",
      "text/plain": [
       "<Figure size 1200x900 with 1 Axes>"
      ]
     },
     "metadata": {},
     "output_type": "display_data"
    }
   ],
   "source": [
    "dt = jointables.sort_values(ascending=True,by='delta')\n",
    "libraryDataF1.obtainchart(\"name_acronym\",\"delta\",dt)"
   ]
  },
  {
   "cell_type": "code",
   "execution_count": 81,
   "metadata": {},
   "outputs": [],
   "source": [
    "mergequaly = pd.merge(competitiveLaps,drivers,on=['driver_number'])"
   ]
  },
  {
   "cell_type": "code",
   "execution_count": 108,
   "metadata": {},
   "outputs": [],
   "source": [
    "# In order to know when each session finished, race control dataset will be consulted.\n",
    "maximumDateQ1 = \"date_start < '2025-07-25T14:55:00+00:00'\"\n",
    "maximumDateQ2 = \"date_start < '2025-07-25T15:18:00+00:00' and date_start >= '2025-07-25T14:55:00+00:00'\"\n",
    "maximumDateQ3 = \"date_start > '2025-07-25T15:18:00+00:00'\""
   ]
  },
  {
   "cell_type": "markdown",
   "metadata": {},
   "source": [
    "### Speed trap\n",
    "As we watched in FP, Red Bull had a good setup in straights, Aston and Sauber followed the same way. With this setup, you are faster on straights (S1 and S3) but suffer in S2"
   ]
  },
  {
   "cell_type": "markdown",
   "metadata": {},
   "source": [
    "#### Maximum speed per drivers"
   ]
  },
  {
   "cell_type": "code",
   "execution_count": 86,
   "metadata": {},
   "outputs": [
    {
     "data": {
      "image/png": "[encoded data removed]",
      "text/plain": [
       "<Figure size 1200x900 with 1 Axes>"
      ]
     },
     "metadata": {},
     "output_type": "display_data"
    }
   ],
   "source": [
    "top_speed = jointables.loc[jointables.groupby(['name_acronym'])['i1_speed'].idxmax()].sort_values(by=['i1_speed'],ascending=False)\n",
    "libraryDataF1.obtainchart(\"name_acronym\",\"i1_speed\",top_speed)"
   ]
  },
  {
   "cell_type": "code",
   "execution_count": 87,
   "metadata": {},
   "outputs": [
    {
     "data": {
      "image/png": "[encoded data removed]",
      "text/plain": [
       "<Figure size 1200x900 with 1 Axes>"
      ]
     },
     "metadata": {},
     "output_type": "display_data"
    }
   ],
   "source": [
    "top_speed = jointables.loc[jointables.groupby(['name_acronym'])['i2_speed'].idxmax()].sort_values(by=['i2_speed'],ascending=False)\n",
    "libraryDataF1.obtainchart(\"name_acronym\",\"i2_speed\",top_speed)"
   ]
  },
  {
   "cell_type": "code",
   "execution_count": 88,
   "metadata": {},
   "outputs": [
    {
     "data": {
      "image/png": "[encoded data removed]",
      "text/plain": [
       "<Figure size 1200x900 with 1 Axes>"
      ]
     },
     "metadata": {},
     "output_type": "display_data"
    }
   ],
   "source": [
    "top_speed = jointables.loc[jointables.groupby(['name_acronym'])['st_speed'].idxmax()].sort_values(by=['st_speed'],ascending=False)\n",
    "libraryDataF1.obtainchart(\"name_acronym\",\"st_speed\",top_speed)"
   ]
  },
  {
   "cell_type": "markdown",
   "metadata": {},
   "source": [
    "### Sprint Qualyfing 1"
   ]
  },
  {
   "cell_type": "code",
   "execution_count": 109,
   "metadata": {},
   "outputs": [],
   "source": [
    "q1Data = libraryDataF1.obtainInfoAboutQualySession(mergequaly,maximumDateQ1).query(\"isFastestLap == True\").sort_values(by=['lap_duration'],ascending=True)"
   ]
  },
  {
   "cell_type": "markdown",
   "metadata": {},
   "source": [
    "##### Comparaison with driver at risk\n",
    "In this section with the fastest lap done for each driver (laptimes deleted will not be taken into account to do this analysis) it will be a comparaison in order to see where the driver eliminated lost/gain time in their fastest lap.\n",
    "\n",
    "Alpine gave Gasly a setup centered on the straights in order to try to compensate lack of power of Reanult engine. This helped him in sector 1 where only Hamilton were faster than Pierre. On the other hand, he suffered a lot in sector 2 being 19th slowest of the session. Thanks to the setup and Hamilton's mistake, he was able to pass to Q2 being the 5th fastest"
   ]
  },
  {
   "cell_type": "code",
   "execution_count": 110,
   "metadata": {},
   "outputs": [],
   "source": [
    "#Reference\n",
    "P15 = q1Data[14:15]"
   ]
  },
  {
   "cell_type": "code",
   "execution_count": 111,
   "metadata": {},
   "outputs": [
    {
     "name": "stdout",
     "output_type": "stream",
     "text": [
      "Driver: Pierre GASLY Sector 1:  30.062 Sector 2:  44.908 Sector 3:  28.201\n"
     ]
    }
   ],
   "source": [
    "print(\n",
    "\"Driver:\",P15.full_name.to_string(index=False),\n",
    "\"Sector 1: \",P15.duration_sector_1.to_string(index=False),\n",
    "\"Sector 2: \",P15.duration_sector_2.to_string(index=False),\n",
    "\"Sector 3: \",P15.duration_sector_3.to_string(index=False)\n",
    ")"
   ]
  },
  {
   "cell_type": "markdown",
   "metadata": {},
   "source": [
    "##### Analysis of each sector of the driver at risk compared to the drivers eliminated."
   ]
  },
  {
   "cell_type": "code",
   "execution_count": 112,
   "metadata": {},
   "outputs": [
    {
     "data": {
      "text/html": [
       "<div>\n",
       "<style scoped>\n",
       "    .dataframe tbody tr th:only-of-type {\n",
       "        vertical-align: middle;\n",
       "    }\n",
       "\n",
       "    .dataframe tbody tr th {\n",
       "        vertical-align: top;\n",
       "    }\n",
       "\n",
       "    .dataframe thead th {\n",
       "        text-align: right;\n",
       "    }\n",
       "</style>\n",
       "<table border=\"1\" class=\"dataframe\">\n",
       "  <thead>\n",
       "    <tr style=\"text-align: right;\">\n",
       "      <th></th>\n",
       "      <th>driver_number</th>\n",
       "      <th>lap_duration</th>\n",
       "      <th>difference_sector_1</th>\n",
       "      <th>difference_sector_2</th>\n",
       "      <th>difference_sector_3</th>\n",
       "      <th>name_acronym</th>\n",
       "    </tr>\n",
       "  </thead>\n",
       "  <tbody>\n",
       "    <tr>\n",
       "      <th>0</th>\n",
       "      <td>23</td>\n",
       "      <td>0.041</td>\n",
       "      <td>0.258</td>\n",
       "      <td>-0.586</td>\n",
       "      <td>0.369</td>\n",
       "      <td>ALB</td>\n",
       "    </tr>\n",
       "    <tr>\n",
       "      <th>1</th>\n",
       "      <td>27</td>\n",
       "      <td>0.046</td>\n",
       "      <td>0.028</td>\n",
       "      <td>-0.206</td>\n",
       "      <td>0.224</td>\n",
       "      <td>HUL</td>\n",
       "    </tr>\n",
       "    <tr>\n",
       "      <th>2</th>\n",
       "      <td>44</td>\n",
       "      <td>0.237</td>\n",
       "      <td>-0.042</td>\n",
       "      <td>-0.343</td>\n",
       "      <td>0.622</td>\n",
       "      <td>HAM</td>\n",
       "    </tr>\n",
       "    <tr>\n",
       "      <th>3</th>\n",
       "      <td>43</td>\n",
       "      <td>0.416</td>\n",
       "      <td>0.206</td>\n",
       "      <td>-0.153</td>\n",
       "      <td>0.363</td>\n",
       "      <td>COL</td>\n",
       "    </tr>\n",
       "    <tr>\n",
       "      <th>4</th>\n",
       "      <td>12</td>\n",
       "      <td>2.223</td>\n",
       "      <td>0.293</td>\n",
       "      <td>1.650</td>\n",
       "      <td>0.280</td>\n",
       "      <td>ANT</td>\n",
       "    </tr>\n",
       "  </tbody>\n",
       "</table>\n",
       "</div>"
      ],
      "text/plain": [
       "   driver_number  lap_duration  difference_sector_1  difference_sector_2  \\\n",
       "0             23         0.041                0.258               -0.586   \n",
       "1             27         0.046                0.028               -0.206   \n",
       "2             44         0.237               -0.042               -0.343   \n",
       "3             43         0.416                0.206               -0.153   \n",
       "4             12         2.223                0.293                1.650   \n",
       "\n",
       "   difference_sector_3 name_acronym  \n",
       "0                0.369          ALB  \n",
       "1                0.224          HUL  \n",
       "2                0.622          HAM  \n",
       "3                0.363          COL  \n",
       "4                0.280          ANT  "
      ]
     },
     "execution_count": 112,
     "metadata": {},
     "output_type": "execute_result"
    }
   ],
   "source": [
    "newdataset2 = pd.DataFrame()\n",
    "for index,row in q1Data[15::].iterrows():\n",
    "    newdataset2 =  libraryDataF1.obtain_difference_regard_reference(row,P15,newdataset2)\n",
    "\n",
    "newdataset2"
   ]
  },
  {
   "cell_type": "code",
   "execution_count": 113,
   "metadata": {},
   "outputs": [],
   "source": [
    "#libraryDataF1.draw_gap(P15,15,20,q1Data,drivers,session)"
   ]
  },
  {
   "cell_type": "markdown",
   "metadata": {},
   "source": [
    "##### Analysis with the drivers that finished better than the driver at risk\n"
   ]
  },
  {
   "cell_type": "code",
   "execution_count": 114,
   "metadata": {},
   "outputs": [
    {
     "data": {
      "text/html": [
       "<div>\n",
       "<style scoped>\n",
       "    .dataframe tbody tr th:only-of-type {\n",
       "        vertical-align: middle;\n",
       "    }\n",
       "\n",
       "    .dataframe tbody tr th {\n",
       "        vertical-align: top;\n",
       "    }\n",
       "\n",
       "    .dataframe thead th {\n",
       "        text-align: right;\n",
       "    }\n",
       "</style>\n",
       "<table border=\"1\" class=\"dataframe\">\n",
       "  <thead>\n",
       "    <tr style=\"text-align: right;\">\n",
       "      <th></th>\n",
       "      <th>driver_number</th>\n",
       "      <th>lap_duration</th>\n",
       "      <th>difference_sector_1</th>\n",
       "      <th>difference_sector_2</th>\n",
       "      <th>difference_sector_3</th>\n",
       "      <th>name_acronym</th>\n",
       "    </tr>\n",
       "  </thead>\n",
       "  <tbody>\n",
       "    <tr>\n",
       "      <th>0</th>\n",
       "      <td>81</td>\n",
       "      <td>-1.402</td>\n",
       "      <td>0.015</td>\n",
       "      <td>-1.367</td>\n",
       "      <td>-0.050</td>\n",
       "      <td>PIA</td>\n",
       "    </tr>\n",
       "    <tr>\n",
       "      <th>1</th>\n",
       "      <td>1</td>\n",
       "      <td>-1.128</td>\n",
       "      <td>-0.036</td>\n",
       "      <td>-1.106</td>\n",
       "      <td>0.014</td>\n",
       "      <td>VER</td>\n",
       "    </tr>\n",
       "    <tr>\n",
       "      <th>2</th>\n",
       "      <td>4</td>\n",
       "      <td>-1.103</td>\n",
       "      <td>0.042</td>\n",
       "      <td>-1.162</td>\n",
       "      <td>0.017</td>\n",
       "      <td>NOR</td>\n",
       "    </tr>\n",
       "    <tr>\n",
       "      <th>3</th>\n",
       "      <td>14</td>\n",
       "      <td>-0.744</td>\n",
       "      <td>-0.019</td>\n",
       "      <td>-0.568</td>\n",
       "      <td>-0.157</td>\n",
       "      <td>ALO</td>\n",
       "    </tr>\n",
       "    <tr>\n",
       "      <th>4</th>\n",
       "      <td>63</td>\n",
       "      <td>-0.521</td>\n",
       "      <td>-0.044</td>\n",
       "      <td>-0.624</td>\n",
       "      <td>0.147</td>\n",
       "      <td>RUS</td>\n",
       "    </tr>\n",
       "    <tr>\n",
       "      <th>5</th>\n",
       "      <td>6</td>\n",
       "      <td>-0.460</td>\n",
       "      <td>0.260</td>\n",
       "      <td>-0.783</td>\n",
       "      <td>0.063</td>\n",
       "      <td>HAD</td>\n",
       "    </tr>\n",
       "    <tr>\n",
       "      <th>6</th>\n",
       "      <td>18</td>\n",
       "      <td>-0.435</td>\n",
       "      <td>-0.076</td>\n",
       "      <td>-0.361</td>\n",
       "      <td>0.002</td>\n",
       "      <td>STR</td>\n",
       "    </tr>\n",
       "    <tr>\n",
       "      <th>7</th>\n",
       "      <td>16</td>\n",
       "      <td>-0.408</td>\n",
       "      <td>0.062</td>\n",
       "      <td>-0.590</td>\n",
       "      <td>0.120</td>\n",
       "      <td>LEC</td>\n",
       "    </tr>\n",
       "    <tr>\n",
       "      <th>8</th>\n",
       "      <td>55</td>\n",
       "      <td>-0.395</td>\n",
       "      <td>0.072</td>\n",
       "      <td>-0.677</td>\n",
       "      <td>0.210</td>\n",
       "      <td>SAI</td>\n",
       "    </tr>\n",
       "    <tr>\n",
       "      <th>9</th>\n",
       "      <td>5</td>\n",
       "      <td>-0.365</td>\n",
       "      <td>0.032</td>\n",
       "      <td>-0.423</td>\n",
       "      <td>0.026</td>\n",
       "      <td>BOR</td>\n",
       "    </tr>\n",
       "    <tr>\n",
       "      <th>10</th>\n",
       "      <td>31</td>\n",
       "      <td>-0.349</td>\n",
       "      <td>-0.088</td>\n",
       "      <td>-0.196</td>\n",
       "      <td>-0.065</td>\n",
       "      <td>OCO</td>\n",
       "    </tr>\n",
       "    <tr>\n",
       "      <th>11</th>\n",
       "      <td>30</td>\n",
       "      <td>-0.274</td>\n",
       "      <td>0.207</td>\n",
       "      <td>-0.638</td>\n",
       "      <td>0.157</td>\n",
       "      <td>LAW</td>\n",
       "    </tr>\n",
       "    <tr>\n",
       "      <th>12</th>\n",
       "      <td>22</td>\n",
       "      <td>-0.259</td>\n",
       "      <td>-0.022</td>\n",
       "      <td>-0.234</td>\n",
       "      <td>-0.003</td>\n",
       "      <td>TSU</td>\n",
       "    </tr>\n",
       "    <tr>\n",
       "      <th>13</th>\n",
       "      <td>87</td>\n",
       "      <td>-0.147</td>\n",
       "      <td>-0.040</td>\n",
       "      <td>-0.203</td>\n",
       "      <td>0.096</td>\n",
       "      <td>BEA</td>\n",
       "    </tr>\n",
       "  </tbody>\n",
       "</table>\n",
       "</div>"
      ],
      "text/plain": [
       "    driver_number  lap_duration  difference_sector_1  difference_sector_2  \\\n",
       "0              81        -1.402                0.015               -1.367   \n",
       "1               1        -1.128               -0.036               -1.106   \n",
       "2               4        -1.103                0.042               -1.162   \n",
       "3              14        -0.744               -0.019               -0.568   \n",
       "4              63        -0.521               -0.044               -0.624   \n",
       "5               6        -0.460                0.260               -0.783   \n",
       "6              18        -0.435               -0.076               -0.361   \n",
       "7              16        -0.408                0.062               -0.590   \n",
       "8              55        -0.395                0.072               -0.677   \n",
       "9               5        -0.365                0.032               -0.423   \n",
       "10             31        -0.349               -0.088               -0.196   \n",
       "11             30        -0.274                0.207               -0.638   \n",
       "12             22        -0.259               -0.022               -0.234   \n",
       "13             87        -0.147               -0.040               -0.203   \n",
       "\n",
       "    difference_sector_3 name_acronym  \n",
       "0                -0.050          PIA  \n",
       "1                 0.014          VER  \n",
       "2                 0.017          NOR  \n",
       "3                -0.157          ALO  \n",
       "4                 0.147          RUS  \n",
       "5                 0.063          HAD  \n",
       "6                 0.002          STR  \n",
       "7                 0.120          LEC  \n",
       "8                 0.210          SAI  \n",
       "9                 0.026          BOR  \n",
       "10               -0.065          OCO  \n",
       "11                0.157          LAW  \n",
       "12               -0.003          TSU  \n",
       "13                0.096          BEA  "
      ]
     },
     "execution_count": 114,
     "metadata": {},
     "output_type": "execute_result"
    }
   ],
   "source": [
    "newdataset2 = pd.DataFrame()\n",
    "for index,row in q1Data[0:14].iterrows():\n",
    "    newdataset2 = libraryDataF1.obtain_difference_regard_reference(row,P15,newdataset2)\n",
    "\n",
    "newdataset2"
   ]
  },
  {
   "cell_type": "markdown",
   "metadata": {},
   "source": [
    "#### Best sector per driver"
   ]
  },
  {
   "cell_type": "code",
   "execution_count": 115,
   "metadata": {},
   "outputs": [
    {
     "data": {
      "image/png": "[encoded data removed]",
      "text/plain": [
       "<Figure size 1200x900 with 1 Axes>"
      ]
     },
     "metadata": {},
     "output_type": "display_data"
    }
   ],
   "source": [
    "libraryDataF1.obtainchart(\"name_acronym\",\"duration_sector_1\",q1Data.sort_values(by=['duration_sector_1'],ascending=True))"
   ]
  },
  {
   "cell_type": "code",
   "execution_count": 116,
   "metadata": {},
   "outputs": [
    {
     "data": {
      "image/png": "[encoded data removed]",
      "text/plain": [
       "<Figure size 1200x900 with 1 Axes>"
      ]
     },
     "metadata": {},
     "output_type": "display_data"
    }
   ],
   "source": [
    "libraryDataF1.obtainchart(\"name_acronym\",\"duration_sector_2\",q1Data.sort_values(by=['duration_sector_2'],ascending=True))"
   ]
  },
  {
   "cell_type": "code",
   "execution_count": 117,
   "metadata": {},
   "outputs": [
    {
     "data": {
      "image/png": "[encoded data removed]",
      "text/plain": [
       "<Figure size 1200x900 with 1 Axes>"
      ]
     },
     "metadata": {},
     "output_type": "display_data"
    }
   ],
   "source": [
    "libraryDataF1.obtainchart(\"name_acronym\",\"duration_sector_3\",q1Data.sort_values(by=['duration_sector_3'],ascending=True))"
   ]
  },
  {
   "cell_type": "markdown",
   "metadata": {},
   "source": [
    "### Sprint Qualyfing 2"
   ]
  },
  {
   "cell_type": "code",
   "execution_count": 118,
   "metadata": {},
   "outputs": [],
   "source": [
    "q2Data = libraryDataF1.obtainInfoAboutQualySession(mergequaly,maximumDateQ2).query(\"isFastestLap == True\").sort_values(by=['lap_duration'],ascending=True)"
   ]
  },
  {
   "cell_type": "markdown",
   "metadata": {},
   "source": [
    "##### Comparaison with driver at risk\n",
    "In this section with the fastest lap done for each driver (laptimes deleted will not be taken into account to do this analysis) it will be a comparaison in order to see where the driver eliminated lost/gain time in their fastest lap.\n",
    "Piastri laptime was deleted for tracks limits and this forced him to do a security lap. In this session, his second sector was crucial to pass to Q3. TSU was close to pass but the second sector helps Piastri but in case of LAW, he was going to pass but his sector 1 was 14th slowest and sector being the slowest."
   ]
  },
  {
   "cell_type": "code",
   "execution_count": 119,
   "metadata": {},
   "outputs": [
    {
     "name": "stdout",
     "output_type": "stream",
     "text": [
      "Driver: Oscar PIASTRI Sector 1:  30.076 Sector 2:  43.858 Sector 3:  28.194\n"
     ]
    }
   ],
   "source": [
    "#Reference\n",
    "P10 = q2Data[9:10]\n",
    "print(\n",
    "\"Driver:\",P10.full_name.to_string(index=False),\n",
    "\"Sector 1: \",P10.duration_sector_1.to_string(index=False),\n",
    "\"Sector 2: \",P10.duration_sector_2.to_string(index=False),\n",
    "\"Sector 3: \",P10.duration_sector_3.to_string(index=False)\n",
    ")"
   ]
  },
  {
   "cell_type": "code",
   "execution_count": 120,
   "metadata": {},
   "outputs": [],
   "source": [
    "#libraryDataF1.draw_gap(P10,10,15,q2Data,drivers,session)"
   ]
  },
  {
   "cell_type": "code",
   "execution_count": 121,
   "metadata": {},
   "outputs": [
    {
     "data": {
      "text/html": [
       "<div>\n",
       "<style scoped>\n",
       "    .dataframe tbody tr th:only-of-type {\n",
       "        vertical-align: middle;\n",
       "    }\n",
       "\n",
       "    .dataframe tbody tr th {\n",
       "        vertical-align: top;\n",
       "    }\n",
       "\n",
       "    .dataframe thead th {\n",
       "        text-align: right;\n",
       "    }\n",
       "</style>\n",
       "<table border=\"1\" class=\"dataframe\">\n",
       "  <thead>\n",
       "    <tr style=\"text-align: right;\">\n",
       "      <th></th>\n",
       "      <th>driver_number</th>\n",
       "      <th>lap_duration</th>\n",
       "      <th>difference_sector_1</th>\n",
       "      <th>difference_sector_2</th>\n",
       "      <th>difference_sector_3</th>\n",
       "      <th>name_acronym</th>\n",
       "    </tr>\n",
       "  </thead>\n",
       "  <tbody>\n",
       "    <tr>\n",
       "      <th>0</th>\n",
       "      <td>30</td>\n",
       "      <td>0.041</td>\n",
       "      <td>0.166</td>\n",
       "      <td>-0.211</td>\n",
       "      <td>0.086</td>\n",
       "      <td>LAW</td>\n",
       "    </tr>\n",
       "    <tr>\n",
       "      <th>1</th>\n",
       "      <td>22</td>\n",
       "      <td>0.056</td>\n",
       "      <td>-0.245</td>\n",
       "      <td>0.369</td>\n",
       "      <td>-0.068</td>\n",
       "      <td>TSU</td>\n",
       "    </tr>\n",
       "    <tr>\n",
       "      <th>2</th>\n",
       "      <td>63</td>\n",
       "      <td>0.202</td>\n",
       "      <td>0.090</td>\n",
       "      <td>0.116</td>\n",
       "      <td>-0.004</td>\n",
       "      <td>RUS</td>\n",
       "    </tr>\n",
       "    <tr>\n",
       "      <th>3</th>\n",
       "      <td>14</td>\n",
       "      <td>0.325</td>\n",
       "      <td>-0.163</td>\n",
       "      <td>0.485</td>\n",
       "      <td>0.003</td>\n",
       "      <td>ALO</td>\n",
       "    </tr>\n",
       "    <tr>\n",
       "      <th>4</th>\n",
       "      <td>18</td>\n",
       "      <td>0.704</td>\n",
       "      <td>0.080</td>\n",
       "      <td>0.613</td>\n",
       "      <td>0.011</td>\n",
       "      <td>STR</td>\n",
       "    </tr>\n",
       "  </tbody>\n",
       "</table>\n",
       "</div>"
      ],
      "text/plain": [
       "   driver_number  lap_duration  difference_sector_1  difference_sector_2  \\\n",
       "0             30         0.041                0.166               -0.211   \n",
       "1             22         0.056               -0.245                0.369   \n",
       "2             63         0.202                0.090                0.116   \n",
       "3             14         0.325               -0.163                0.485   \n",
       "4             18         0.704                0.080                0.613   \n",
       "\n",
       "   difference_sector_3 name_acronym  \n",
       "0                0.086          LAW  \n",
       "1               -0.068          TSU  \n",
       "2               -0.004          RUS  \n",
       "3                0.003          ALO  \n",
       "4                0.011          STR  "
      ]
     },
     "execution_count": 121,
     "metadata": {},
     "output_type": "execute_result"
    }
   ],
   "source": [
    "newdataset2 = pd.DataFrame()\n",
    "for index,row in q2Data[10::].iterrows():\n",
    "    newdataset2 = libraryDataF1.obtain_difference_regard_reference(row,P10,newdataset2)\n",
    "\n",
    "newdataset2"
   ]
  },
  {
   "cell_type": "markdown",
   "metadata": {},
   "source": [
    "##### Analysis with the drivers that finished better than the driver at risk\n"
   ]
  },
  {
   "cell_type": "code",
   "execution_count": 135,
   "metadata": {},
   "outputs": [
    {
     "data": {
      "text/html": [
       "<div>\n",
       "<style scoped>\n",
       "    .dataframe tbody tr th:only-of-type {\n",
       "        vertical-align: middle;\n",
       "    }\n",
       "\n",
       "    .dataframe tbody tr th {\n",
       "        vertical-align: top;\n",
       "    }\n",
       "\n",
       "    .dataframe thead th {\n",
       "        text-align: right;\n",
       "    }\n",
       "</style>\n",
       "<table border=\"1\" class=\"dataframe\">\n",
       "  <thead>\n",
       "    <tr style=\"text-align: right;\">\n",
       "      <th></th>\n",
       "      <th>driver_number</th>\n",
       "      <th>lap_duration</th>\n",
       "      <th>difference_sector_1</th>\n",
       "      <th>difference_sector_2</th>\n",
       "      <th>difference_sector_3</th>\n",
       "      <th>name_acronym</th>\n",
       "    </tr>\n",
       "  </thead>\n",
       "  <tbody>\n",
       "    <tr>\n",
       "      <th>0</th>\n",
       "      <td>4</td>\n",
       "      <td>-0.716</td>\n",
       "      <td>-0.001</td>\n",
       "      <td>-0.637</td>\n",
       "      <td>-0.078</td>\n",
       "      <td>NOR</td>\n",
       "    </tr>\n",
       "    <tr>\n",
       "      <th>1</th>\n",
       "      <td>1</td>\n",
       "      <td>-0.545</td>\n",
       "      <td>-0.203</td>\n",
       "      <td>-0.211</td>\n",
       "      <td>-0.131</td>\n",
       "      <td>VER</td>\n",
       "    </tr>\n",
       "    <tr>\n",
       "      <th>2</th>\n",
       "      <td>16</td>\n",
       "      <td>-0.342</td>\n",
       "      <td>-0.057</td>\n",
       "      <td>-0.145</td>\n",
       "      <td>-0.140</td>\n",
       "      <td>LEC</td>\n",
       "    </tr>\n",
       "    <tr>\n",
       "      <th>3</th>\n",
       "      <td>31</td>\n",
       "      <td>-0.327</td>\n",
       "      <td>-0.275</td>\n",
       "      <td>0.050</td>\n",
       "      <td>-0.102</td>\n",
       "      <td>OCO</td>\n",
       "    </tr>\n",
       "    <tr>\n",
       "      <th>4</th>\n",
       "      <td>5</td>\n",
       "      <td>-0.227</td>\n",
       "      <td>-0.073</td>\n",
       "      <td>-0.203</td>\n",
       "      <td>0.049</td>\n",
       "      <td>BOR</td>\n",
       "    </tr>\n",
       "    <tr>\n",
       "      <th>5</th>\n",
       "      <td>10</td>\n",
       "      <td>-0.179</td>\n",
       "      <td>-0.086</td>\n",
       "      <td>0.081</td>\n",
       "      <td>-0.174</td>\n",
       "      <td>GAS</td>\n",
       "    </tr>\n",
       "    <tr>\n",
       "      <th>6</th>\n",
       "      <td>87</td>\n",
       "      <td>-0.109</td>\n",
       "      <td>-0.222</td>\n",
       "      <td>0.185</td>\n",
       "      <td>-0.072</td>\n",
       "      <td>BEA</td>\n",
       "    </tr>\n",
       "    <tr>\n",
       "      <th>7</th>\n",
       "      <td>55</td>\n",
       "      <td>-0.077</td>\n",
       "      <td>-0.082</td>\n",
       "      <td>0.033</td>\n",
       "      <td>-0.028</td>\n",
       "      <td>SAI</td>\n",
       "    </tr>\n",
       "    <tr>\n",
       "      <th>8</th>\n",
       "      <td>6</td>\n",
       "      <td>-0.040</td>\n",
       "      <td>0.207</td>\n",
       "      <td>-0.274</td>\n",
       "      <td>0.027</td>\n",
       "      <td>HAD</td>\n",
       "    </tr>\n",
       "  </tbody>\n",
       "</table>\n",
       "</div>"
      ],
      "text/plain": [
       "   driver_number  lap_duration  difference_sector_1  difference_sector_2  \\\n",
       "0              4        -0.716               -0.001               -0.637   \n",
       "1              1        -0.545               -0.203               -0.211   \n",
       "2             16        -0.342               -0.057               -0.145   \n",
       "3             31        -0.327               -0.275                0.050   \n",
       "4              5        -0.227               -0.073               -0.203   \n",
       "5             10        -0.179               -0.086                0.081   \n",
       "6             87        -0.109               -0.222                0.185   \n",
       "7             55        -0.077               -0.082                0.033   \n",
       "8              6        -0.040                0.207               -0.274   \n",
       "\n",
       "   difference_sector_3 name_acronym  \n",
       "0               -0.078          NOR  \n",
       "1               -0.131          VER  \n",
       "2               -0.140          LEC  \n",
       "3               -0.102          OCO  \n",
       "4                0.049          BOR  \n",
       "5               -0.174          GAS  \n",
       "6               -0.072          BEA  \n",
       "7               -0.028          SAI  \n",
       "8                0.027          HAD  "
      ]
     },
     "execution_count": 135,
     "metadata": {},
     "output_type": "execute_result"
    }
   ],
   "source": [
    "newdataset2 = pd.DataFrame()\n",
    "for index,row in q2Data[0:9].iterrows():\n",
    "    newdataset2 = libraryDataF1.obtain_difference_regard_reference(row,P10,newdataset2)\n",
    "\n",
    "newdataset2"
   ]
  },
  {
   "cell_type": "markdown",
   "metadata": {},
   "source": [
    "#### Best sector per driver"
   ]
  },
  {
   "cell_type": "code",
   "execution_count": 122,
   "metadata": {},
   "outputs": [
    {
     "data": {
      "image/png": "[encoded data removed]",
      "text/plain": [
       "<Figure size 1200x900 with 1 Axes>"
      ]
     },
     "metadata": {},
     "output_type": "display_data"
    }
   ],
   "source": [
    "libraryDataF1.obtainchart(\"name_acronym\",\"duration_sector_1\",q2Data.sort_values(by=['duration_sector_1'],ascending=True))"
   ]
  },
  {
   "cell_type": "code",
   "execution_count": 123,
   "metadata": {},
   "outputs": [
    {
     "data": {
      "image/png": "[encoded data removed]",
      "text/plain": [
       "<Figure size 1200x900 with 1 Axes>"
      ]
     },
     "metadata": {},
     "output_type": "display_data"
    }
   ],
   "source": [
    "libraryDataF1.obtainchart(\"name_acronym\",\"duration_sector_2\",q2Data.sort_values(by=['duration_sector_2'],ascending=True))"
   ]
  },
  {
   "cell_type": "code",
   "execution_count": 124,
   "metadata": {},
   "outputs": [
    {
     "data": {
      "image/png": "[encoded data removed]",
      "text/plain": [
       "<Figure size 1200x900 with 1 Axes>"
      ]
     },
     "metadata": {},
     "output_type": "display_data"
    }
   ],
   "source": [
    "libraryDataF1.obtainchart(\"name_acronym\",\"duration_sector_3\",q2Data.sort_values(by=['duration_sector_3'],ascending=True))"
   ]
  },
  {
   "cell_type": "markdown",
   "metadata": {},
   "source": [
    "### Sprint Qualyfing 3"
   ]
  },
  {
   "cell_type": "code",
   "execution_count": 125,
   "metadata": {},
   "outputs": [],
   "source": [
    "q3Data = libraryDataF1.obtainInfoAboutQualySession(mergequaly,maximumDateQ3).query(\"isFastestLap == True\").sort_values(by=['lap_duration'],ascending=True)"
   ]
  },
  {
   "cell_type": "code",
   "execution_count": 126,
   "metadata": {},
   "outputs": [
    {
     "name": "stdout",
     "output_type": "stream",
     "text": [
      "Driver: Oscar PIASTRI Sector 1:  29.964 Sector 2:  42.723 Sector 3:  27.823\n"
     ]
    }
   ],
   "source": [
    "#Reference\n",
    "P1 = q3Data[:1]\n",
    "print(\n",
    "\"Driver:\",P1.full_name.to_string(index=False),\n",
    "\"Sector 1: \",P1.duration_sector_1.to_string(index=False),\n",
    "\"Sector 2: \",P1.duration_sector_2.to_string(index=False),\n",
    "\"Sector 3: \",P1.duration_sector_3.to_string(index=False)\n",
    ")"
   ]
  },
  {
   "cell_type": "markdown",
   "metadata": {},
   "source": [
    "##### Comparaison with poleman\n",
    "In this section with the fastest lap done for each driver (laptimes deleted will not be taken into account to do this analysis) it will be a comparaison in order to see where the driver eliminated lost/gain time in their fastest lap.\n",
    "Piastri forgot his SQ2 and he smashed taking the pole. As we watched in FP, McLaren centered on sector 2 so this is the reason why they are slow in straights. Second sector was crucial were just NOR were able to be 3 tenths behind in this sector. Next driver is VER being 0.45 tenths slower. Lando lost P2 in sector 1 (9th fastest) where he was 2 tenths slower and he almost lost P3 but S2 avoided it."
   ]
  },
  {
   "cell_type": "code",
   "execution_count": 127,
   "metadata": {},
   "outputs": [
    {
     "data": {
      "text/html": [
       "<div>\n",
       "<style scoped>\n",
       "    .dataframe tbody tr th:only-of-type {\n",
       "        vertical-align: middle;\n",
       "    }\n",
       "\n",
       "    .dataframe tbody tr th {\n",
       "        vertical-align: top;\n",
       "    }\n",
       "\n",
       "    .dataframe thead th {\n",
       "        text-align: right;\n",
       "    }\n",
       "</style>\n",
       "<table border=\"1\" class=\"dataframe\">\n",
       "  <thead>\n",
       "    <tr style=\"text-align: right;\">\n",
       "      <th></th>\n",
       "      <th>driver_number</th>\n",
       "      <th>lap_duration</th>\n",
       "      <th>difference_sector_1</th>\n",
       "      <th>difference_sector_2</th>\n",
       "      <th>difference_sector_3</th>\n",
       "      <th>name_acronym</th>\n",
       "    </tr>\n",
       "  </thead>\n",
       "  <tbody>\n",
       "    <tr>\n",
       "      <th>0</th>\n",
       "      <td>1</td>\n",
       "      <td>0.477</td>\n",
       "      <td>-0.095</td>\n",
       "      <td>0.447</td>\n",
       "      <td>0.125</td>\n",
       "      <td>VER</td>\n",
       "    </tr>\n",
       "    <tr>\n",
       "      <th>1</th>\n",
       "      <td>4</td>\n",
       "      <td>0.618</td>\n",
       "      <td>0.142</td>\n",
       "      <td>0.298</td>\n",
       "      <td>0.178</td>\n",
       "      <td>NOR</td>\n",
       "    </tr>\n",
       "    <tr>\n",
       "      <th>2</th>\n",
       "      <td>16</td>\n",
       "      <td>0.768</td>\n",
       "      <td>0.051</td>\n",
       "      <td>0.510</td>\n",
       "      <td>0.207</td>\n",
       "      <td>LEC</td>\n",
       "    </tr>\n",
       "    <tr>\n",
       "      <th>3</th>\n",
       "      <td>31</td>\n",
       "      <td>1.055</td>\n",
       "      <td>-0.216</td>\n",
       "      <td>1.131</td>\n",
       "      <td>0.140</td>\n",
       "      <td>OCO</td>\n",
       "    </tr>\n",
       "    <tr>\n",
       "      <th>4</th>\n",
       "      <td>55</td>\n",
       "      <td>1.251</td>\n",
       "      <td>0.021</td>\n",
       "      <td>0.853</td>\n",
       "      <td>0.377</td>\n",
       "      <td>SAI</td>\n",
       "    </tr>\n",
       "    <tr>\n",
       "      <th>5</th>\n",
       "      <td>87</td>\n",
       "      <td>1.347</td>\n",
       "      <td>-0.162</td>\n",
       "      <td>1.205</td>\n",
       "      <td>0.304</td>\n",
       "      <td>BEA</td>\n",
       "    </tr>\n",
       "    <tr>\n",
       "      <th>6</th>\n",
       "      <td>10</td>\n",
       "      <td>1.449</td>\n",
       "      <td>-0.001</td>\n",
       "      <td>1.161</td>\n",
       "      <td>0.289</td>\n",
       "      <td>GAS</td>\n",
       "    </tr>\n",
       "    <tr>\n",
       "      <th>7</th>\n",
       "      <td>6</td>\n",
       "      <td>1.461</td>\n",
       "      <td>0.171</td>\n",
       "      <td>0.794</td>\n",
       "      <td>0.496</td>\n",
       "      <td>HAD</td>\n",
       "    </tr>\n",
       "    <tr>\n",
       "      <th>8</th>\n",
       "      <td>5</td>\n",
       "      <td>1.666</td>\n",
       "      <td>0.072</td>\n",
       "      <td>1.219</td>\n",
       "      <td>0.375</td>\n",
       "      <td>BOR</td>\n",
       "    </tr>\n",
       "  </tbody>\n",
       "</table>\n",
       "</div>"
      ],
      "text/plain": [
       "   driver_number  lap_duration  difference_sector_1  difference_sector_2  \\\n",
       "0              1         0.477               -0.095                0.447   \n",
       "1              4         0.618                0.142                0.298   \n",
       "2             16         0.768                0.051                0.510   \n",
       "3             31         1.055               -0.216                1.131   \n",
       "4             55         1.251                0.021                0.853   \n",
       "5             87         1.347               -0.162                1.205   \n",
       "6             10         1.449               -0.001                1.161   \n",
       "7              6         1.461                0.171                0.794   \n",
       "8              5         1.666                0.072                1.219   \n",
       "\n",
       "   difference_sector_3 name_acronym  \n",
       "0                0.125          VER  \n",
       "1                0.178          NOR  \n",
       "2                0.207          LEC  \n",
       "3                0.140          OCO  \n",
       "4                0.377          SAI  \n",
       "5                0.304          BEA  \n",
       "6                0.289          GAS  \n",
       "7                0.496          HAD  \n",
       "8                0.375          BOR  "
      ]
     },
     "execution_count": 127,
     "metadata": {},
     "output_type": "execute_result"
    }
   ],
   "source": [
    "newdataset2 = pd.DataFrame()\n",
    "for index,row in q3Data[1::].iterrows():\n",
    "    newdataset2 = libraryDataF1.obtain_difference_regard_reference(row,P1,newdataset2)\n",
    "newdataset2"
   ]
  },
  {
   "cell_type": "markdown",
   "metadata": {},
   "source": [
    "#### Best sector per driver"
   ]
  },
  {
   "cell_type": "code",
   "execution_count": 128,
   "metadata": {},
   "outputs": [
    {
     "data": {
      "image/png": "[encoded data removed]",
      "text/plain": [
       "<Figure size 1200x900 with 1 Axes>"
      ]
     },
     "metadata": {},
     "output_type": "display_data"
    }
   ],
   "source": [
    "libraryDataF1.obtainchart(\"name_acronym\",\"duration_sector_1\",q3Data.sort_values(by=['duration_sector_1'],ascending=True))"
   ]
  },
  {
   "cell_type": "code",
   "execution_count": 129,
   "metadata": {},
   "outputs": [
    {
     "data": {
      "image/png": "[encoded data removed]",
      "text/plain": [
       "<Figure size 1200x900 with 1 Axes>"
      ]
     },
     "metadata": {},
     "output_type": "display_data"
    }
   ],
   "source": [
    "libraryDataF1.obtainchart(\"name_acronym\",\"duration_sector_2\",q3Data.sort_values(by=['duration_sector_2'],ascending=True))"
   ]
  },
  {
   "cell_type": "code",
   "execution_count": 130,
   "metadata": {},
   "outputs": [
    {
     "data": {
      "image/png": "[encoded data removed]",
      "text/plain": [
       "<Figure size 1200x900 with 1 Axes>"
      ]
     },
     "metadata": {},
     "output_type": "display_data"
    }
   ],
   "source": [
    "libraryDataF1.obtainchart(\"name_acronym\",\"duration_sector_3\",q3Data.sort_values(by=['duration_sector_3'],ascending=True))"
   ]
  },
  {
   "cell_type": "markdown",
   "metadata": {},
   "source": [
    "### Best sector in the session"
   ]
  },
  {
   "cell_type": "code",
   "execution_count": 131,
   "metadata": {},
   "outputs": [
    {
     "data": {
      "image/png": "[encoded data removed]",
      "text/plain": [
       "<Figure size 1200x900 with 1 Axes>"
      ]
     },
     "metadata": {},
     "output_type": "display_data"
    }
   ],
   "source": [
    "libraryDataF1.obtainchart(\"name_acronym\",\"duration_sector_1\",pd.DataFrame(mergequaly.groupby(\"name_acronym\")['duration_sector_1'].min().sort_values(ascending=True)).reset_index())"
   ]
  },
  {
   "cell_type": "code",
   "execution_count": 132,
   "metadata": {},
   "outputs": [
    {
     "data": {
      "image/png": "[encoded data removed]",
      "text/plain": [
       "<Figure size 1200x900 with 1 Axes>"
      ]
     },
     "metadata": {},
     "output_type": "display_data"
    }
   ],
   "source": [
    "libraryDataF1.obtainchart(\"name_acronym\",\"duration_sector_2\",pd.DataFrame(mergequaly.groupby(\"name_acronym\")['duration_sector_2'].min().sort_values(ascending=True)).reset_index())"
   ]
  },
  {
   "cell_type": "code",
   "execution_count": 133,
   "metadata": {},
   "outputs": [
    {
     "data": {
      "image/png": "[encoded data removed]",
      "text/plain": [
       "<Figure size 1200x900 with 1 Axes>"
      ]
     },
     "metadata": {},
     "output_type": "display_data"
    }
   ],
   "source": [
    "libraryDataF1.obtainchart(\"name_acronym\",\"duration_sector_3\",pd.DataFrame(mergequaly.groupby(\"name_acronym\")['duration_sector_3'].min().sort_values(ascending=True)).reset_index())"
   ]
  },
  {
   "cell_type": "markdown",
   "metadata": {},
   "source": [
    "## Predictions"
   ]
  },
  {
   "cell_type": "code",
   "execution_count": null,
   "metadata": {},
   "outputs": [],
   "source": [
    "# Free Practice 1\n",
    "practice = libraryDataF1.obtain_information('laps',session_key=9567)\n",
    "stintInformation = libraryDataF1.obtain_information('stints',session_key=9567)\n",
    "drivers = libraryDataF1.obtain_information('drivers',session_key=9567)\n",
    "\n",
    "stintsDataFrame =libraryDataF1.stint_configuration(drivers,stintInformation)\n",
    "jointablesfreepractice1 = pd.merge(practice,stintsDataFrame,on=['lap_number','driver_number'])\n",
    "\n",
    "# Free Practice 2\n",
    "practice = libraryDataF1.obtain_information('laps',session_key=9568)\n",
    "stintInformation = libraryDataF1.obtain_information('stints',session_key=9568)\n",
    "drivers = libraryDataF1.obtain_information('drivers',session_key=9568)\n",
    "\n",
    "stintsDataFrame =libraryDataF1.stint_configuration(drivers,stintInformation)\n",
    "jointablesfreepractice2 = pd.merge(practice,stintsDataFrame,on=['lap_number','driver_number'])\n"
   ]
  },
  {
   "cell_type": "markdown",
   "metadata": {},
   "source": [
    "### Qualyfing prediction"
   ]
  },
  {
   "cell_type": "code",
   "execution_count": null,
   "metadata": {},
   "outputs": [],
   "source": [
    "qualy_simulation = libraryDataF1.qualyfing_prediction([jointablesfreepractice1,jointablesfreepractice2],drivers,0.1,0.12,0.1)\n",
    "qualy_simulation.sort_values(by='qualy_lap_time')"
   ]
  },
  {
   "cell_type": "markdown",
   "metadata": {},
   "source": [
    "### Race prediction"
   ]
  },
  {
   "cell_type": "code",
   "execution_count": null,
   "metadata": {},
   "outputs": [],
   "source": [
    "race_simulation = libraryDataF1.race_prediction(jointablesfreepractice2,drivers,108,111)\n",
    "race_simulation.groupby('team').mean().sort_values(by='mean_lap_duration')"
   ]
  },
  {
   "cell_type": "markdown",
   "metadata": {},
   "source": [
    "## Sprint"
   ]
  },
  {
   "cell_type": "code",
   "execution_count": null,
   "metadata": {},
   "outputs": [],
   "source": [
    "race = libraryDataF1.obtain_information('laps',session_key=9993)\n",
    "stintInformation = libraryDataF1.obtain_information('stints',session_key=9993)\n",
    "drivers = libraryDataF1.obtain_information('drivers',session_key=9993)\n",
    "libraryDataF1.obtain_drivers_colours(drivers)"
   ]
  },
  {
   "cell_type": "code",
   "execution_count": null,
   "metadata": {},
   "outputs": [],
   "source": [
    "stintsDataFrame =libraryDataF1.stint_configuration(drivers,stintInformation)\n",
    "jointables = pd.merge(race,stintsDataFrame,on=['lap_number','driver_number'])"
   ]
  },
  {
   "cell_type": "markdown",
   "metadata": {},
   "source": [
    "### Top speed captured in the speed trap"
   ]
  },
  {
   "cell_type": "code",
   "execution_count": null,
   "metadata": {},
   "outputs": [],
   "source": [
    "top_speed = jointables.loc[jointables.groupby(['name_acronym'])['st_speed'].idxmax()].sort_values(by=['st_speed'],ascending=False)\n",
    "libraryDataF1.obtainchart(\"name_acronym\",\"st_speed\",top_speed)"
   ]
  },
  {
   "cell_type": "code",
   "execution_count": null,
   "metadata": {},
   "outputs": [],
   "source": [
    "top_speed = jointables.loc[jointables.groupby(['name_acronym'])['i1_speed'].idxmax()].sort_values(by=['i1_speed'],ascending=False)\n",
    "libraryDataF1.obtainchart(\"name_acronym\",\"i1_speed\",top_speed)"
   ]
  },
  {
   "cell_type": "code",
   "execution_count": null,
   "metadata": {},
   "outputs": [],
   "source": [
    "top_speed = jointables.loc[jointables.groupby(['name_acronym'])['i2_speed'].idxmax()].sort_values(by=['st_speed'],ascending=False)\n",
    "libraryDataF1.obtainchart(\"name_acronym\",\"i2_speed\",top_speed)"
   ]
  },
  {
   "cell_type": "code",
   "execution_count": null,
   "metadata": {},
   "outputs": [],
   "source": [
    "race_pace = pd.DataFrame(jointables.query(\"is_pit_out_lap == False  and lap_duration <=101\").dropna().groupby(\"team_name\")['lap_duration'].mean().sort_values(ascending=True))\n",
    "race_pace"
   ]
  },
  {
   "cell_type": "markdown",
   "metadata": {},
   "source": [
    "### Race pace per teams"
   ]
  },
  {
   "cell_type": "code",
   "execution_count": null,
   "metadata": {},
   "outputs": [],
   "source": [
    "race_pace = pd.DataFrame(jointables.query(\"is_pit_out_lap == False  and lap_duration <=101\").dropna().groupby(\"team_name\")['duration_sector_1'].mean().sort_values(ascending=True))\n",
    "race_pace"
   ]
  },
  {
   "cell_type": "code",
   "execution_count": null,
   "metadata": {},
   "outputs": [],
   "source": [
    "race_pace = pd.DataFrame(jointables.query(\"is_pit_out_lap == False  and lap_duration <=101\").dropna().groupby(\"team_name\")['duration_sector_2'].mean().sort_values(ascending=True))\n",
    "race_pace"
   ]
  },
  {
   "cell_type": "code",
   "execution_count": null,
   "metadata": {},
   "outputs": [],
   "source": [
    "race_pace = pd.DataFrame(jointables.query(\"is_pit_out_lap == False  and lap_duration <=101\").dropna().groupby(\"team_name\")['duration_sector_3'].mean().sort_values(ascending=True))\n",
    "race_pace"
   ]
  },
  {
   "cell_type": "markdown",
   "metadata": {},
   "source": [
    "### Race pace\n",
    "General explanation\n",
    "Explanation per teams"
   ]
  },
  {
   "cell_type": "code",
   "execution_count": null,
   "metadata": {},
   "outputs": [],
   "source": [
    "race_pace = pd.DataFrame(jointables.query(\"is_pit_out_lap == False  and lap_duration <= 101\").dropna().groupby(\"team_name\")['lap_duration'].mean().sort_values(ascending=True))\n",
    "race_pace"
   ]
  },
  {
   "cell_type": "markdown",
   "metadata": {},
   "source": [
    "#### Mean race pace per sector\n",
    "In this section, we can see the pace shown per each team in each sector sorted ascending."
   ]
  },
  {
   "cell_type": "markdown",
   "metadata": {},
   "source": [
    "#### Sector 1\n",
    "General explanation"
   ]
  },
  {
   "cell_type": "code",
   "execution_count": null,
   "metadata": {},
   "outputs": [],
   "source": [
    "race_pace = pd.DataFrame(jointables.query(\"is_pit_out_lap == False  and lap_duration <= 101\").dropna().groupby(\"team_name\")['duration_sector_1'].mean().sort_values(ascending=True))\n",
    "race_pace"
   ]
  },
  {
   "cell_type": "markdown",
   "metadata": {},
   "source": [
    "#### Sector 2\n",
    "General explanation"
   ]
  },
  {
   "cell_type": "code",
   "execution_count": null,
   "metadata": {},
   "outputs": [],
   "source": [
    "race_pace = pd.DataFrame(jointables.query(\"is_pit_out_lap == False  and lap_duration <= 101\").dropna().groupby(\"team_name\")['duration_sector_2'].mean().sort_values(ascending=True))\n",
    "race_pace"
   ]
  },
  {
   "cell_type": "markdown",
   "metadata": {},
   "source": [
    "#### Sector 3\n",
    "General explanation"
   ]
  },
  {
   "cell_type": "code",
   "execution_count": null,
   "metadata": {},
   "outputs": [],
   "source": [
    "race_pace = pd.DataFrame(jointables.query(\"is_pit_out_lap == False  and lap_duration <= 101\").dropna().groupby(\"team_name\")['duration_sector_3'].mean().sort_values(ascending=True))\n",
    "race_pace"
   ]
  },
  {
   "cell_type": "markdown",
   "metadata": {},
   "source": [
    "### Long runs"
   ]
  },
  {
   "cell_type": "code",
   "execution_count": null,
   "metadata": {},
   "outputs": [],
   "source": [
    "MINIMUN_SECONDS = 95\n",
    "MAXIMUM_SECONDS = 101"
   ]
  },
  {
   "cell_type": "markdown",
   "metadata": {},
   "source": [
    "#### Red Bull Racing"
   ]
  },
  {
   "cell_type": "code",
   "execution_count": null,
   "metadata": {},
   "outputs": [],
   "source": [
    "stintInformation.query('driver_number == 1 or driver_number == 30')"
   ]
  },
  {
   "cell_type": "code",
   "execution_count": null,
   "metadata": {},
   "outputs": [],
   "source": [
    "data = libraryDataF1.getinfolongruns(jointables,1,'Red Bull Racing',MINIMUN_SECONDS,MAXIMUM_SECONDS)\n",
    "data"
   ]
  },
  {
   "cell_type": "code",
   "execution_count": null,
   "metadata": {},
   "outputs": [],
   "source": [
    "if len(data) != 0:\n",
    "    libraryDataF1.race_pace_graph(data)"
   ]
  },
  {
   "cell_type": "code",
   "execution_count": null,
   "metadata": {},
   "outputs": [],
   "source": [
    "if len(data) != 0:\n",
    "    libraryDataF1.race_pace_divided_per_sectors(data)"
   ]
  },
  {
   "cell_type": "code",
   "execution_count": null,
   "metadata": {},
   "outputs": [],
   "source": [
    "data = libraryDataF1.getinfolongruns(jointables,30,'Red Bull Racing',MINIMUN_SECONDS,MAXIMUM_SECONDS)\n",
    "data"
   ]
  },
  {
   "cell_type": "code",
   "execution_count": null,
   "metadata": {},
   "outputs": [],
   "source": [
    "if len(data) != 0:\n",
    "    libraryDataF1.race_pace_graph(data)"
   ]
  },
  {
   "cell_type": "code",
   "execution_count": null,
   "metadata": {},
   "outputs": [],
   "source": [
    "if len(data) != 0:\n",
    "    libraryDataF1.race_pace_divided_per_sectors(data)"
   ]
  },
  {
   "cell_type": "markdown",
   "metadata": {},
   "source": [
    "#### Ferrari"
   ]
  },
  {
   "cell_type": "code",
   "execution_count": null,
   "metadata": {},
   "outputs": [],
   "source": [
    "stintInformation.query('driver_number == 44 or driver_number == 16')"
   ]
  },
  {
   "cell_type": "code",
   "execution_count": null,
   "metadata": {},
   "outputs": [],
   "source": [
    "data = libraryDataF1.getinfolongruns(jointables,16,'Ferrari',MINIMUN_SECONDS,MAXIMUM_SECONDS)\n",
    "data"
   ]
  },
  {
   "cell_type": "code",
   "execution_count": null,
   "metadata": {},
   "outputs": [],
   "source": [
    "if len(data) != 0:\n",
    "    libraryDataF1.race_pace_graph(data)"
   ]
  },
  {
   "cell_type": "code",
   "execution_count": null,
   "metadata": {},
   "outputs": [],
   "source": [
    "if len(data) != 0:\n",
    "    libraryDataF1.race_pace_divided_per_sectors(data)"
   ]
  },
  {
   "cell_type": "code",
   "execution_count": null,
   "metadata": {},
   "outputs": [],
   "source": [
    "data = libraryDataF1.getinfolongruns(jointables,44,'Ferrari',MINIMUN_SECONDS,MAXIMUM_SECONDS)\n",
    "data"
   ]
  },
  {
   "cell_type": "code",
   "execution_count": null,
   "metadata": {},
   "outputs": [],
   "source": [
    "if len(data) != 0:\n",
    "    libraryDataF1.race_pace_graph(data)"
   ]
  },
  {
   "cell_type": "code",
   "execution_count": null,
   "metadata": {},
   "outputs": [],
   "source": [
    "if len(data) != 0:\n",
    "    libraryDataF1.race_pace_divided_per_sectors(data)"
   ]
  },
  {
   "cell_type": "markdown",
   "metadata": {},
   "source": [
    "#### Mercedes"
   ]
  },
  {
   "cell_type": "code",
   "execution_count": null,
   "metadata": {},
   "outputs": [],
   "source": [
    "stintInformation.query('driver_number == 63 or driver_number == 12')"
   ]
  },
  {
   "cell_type": "code",
   "execution_count": null,
   "metadata": {},
   "outputs": [],
   "source": [
    "data = libraryDataF1.getinfolongruns(jointables,12,'Mercedes',MINIMUN_SECONDS,MAXIMUM_SECONDS)\n",
    "data"
   ]
  },
  {
   "cell_type": "code",
   "execution_count": null,
   "metadata": {},
   "outputs": [],
   "source": [
    "if len(data) != 0:\n",
    "    libraryDataF1.race_pace_graph(data)"
   ]
  },
  {
   "cell_type": "code",
   "execution_count": null,
   "metadata": {},
   "outputs": [],
   "source": [
    "if len(data) != 0:\n",
    "    libraryDataF1.race_pace_divided_per_sectors(data)"
   ]
  },
  {
   "cell_type": "code",
   "execution_count": null,
   "metadata": {},
   "outputs": [],
   "source": [
    "data = libraryDataF1.getinfolongruns(jointables,63,'Mercedes',MINIMUN_SECONDS,MAXIMUM_SECONDS)\n",
    "data"
   ]
  },
  {
   "cell_type": "code",
   "execution_count": null,
   "metadata": {},
   "outputs": [],
   "source": [
    "if len(data) != 0:\n",
    "    libraryDataF1.race_pace_graph(data)"
   ]
  },
  {
   "cell_type": "code",
   "execution_count": null,
   "metadata": {},
   "outputs": [],
   "source": [
    "if len(data) != 0:\n",
    "    libraryDataF1.race_pace_divided_per_sectors(data)"
   ]
  },
  {
   "cell_type": "markdown",
   "metadata": {},
   "source": [
    "#### McLaren"
   ]
  },
  {
   "cell_type": "code",
   "execution_count": null,
   "metadata": {},
   "outputs": [],
   "source": [
    "stintInformation.query('driver_number == 81 or driver_number == 4')"
   ]
  },
  {
   "cell_type": "code",
   "execution_count": null,
   "metadata": {},
   "outputs": [],
   "source": [
    "data = libraryDataF1.getinfolongruns(jointables,4,'McLaren',MINIMUN_SECONDS,MAXIMUM_SECONDS)\n",
    "data"
   ]
  },
  {
   "cell_type": "code",
   "execution_count": null,
   "metadata": {},
   "outputs": [],
   "source": [
    "if len(data) != 0:\n",
    "    libraryDataF1.race_pace_graph(data)"
   ]
  },
  {
   "cell_type": "code",
   "execution_count": null,
   "metadata": {},
   "outputs": [],
   "source": [
    "if len(data) != 0:\n",
    "    libraryDataF1.race_pace_divided_per_sectors(data)"
   ]
  },
  {
   "cell_type": "code",
   "execution_count": null,
   "metadata": {},
   "outputs": [],
   "source": [
    "data = libraryDataF1.getinfolongruns(jointables,81,'McLaren',MINIMUN_SECONDS,MAXIMUM_SECONDS)\n",
    "data"
   ]
  },
  {
   "cell_type": "code",
   "execution_count": null,
   "metadata": {},
   "outputs": [],
   "source": [
    "if len(data) != 0:\n",
    "    libraryDataF1.race_pace_graph(data)"
   ]
  },
  {
   "cell_type": "code",
   "execution_count": null,
   "metadata": {},
   "outputs": [],
   "source": [
    "if len(data) != 0:\n",
    "    libraryDataF1.race_pace_divided_per_sectors(data)"
   ]
  },
  {
   "cell_type": "markdown",
   "metadata": {},
   "source": [
    "#### Aston Martin"
   ]
  },
  {
   "cell_type": "code",
   "execution_count": null,
   "metadata": {},
   "outputs": [],
   "source": [
    "stintInformation.query('driver_number == 18 or driver_number == 14')"
   ]
  },
  {
   "cell_type": "code",
   "execution_count": null,
   "metadata": {},
   "outputs": [],
   "source": [
    "data = libraryDataF1.getinfolongruns(jointables,14,'Aston Martin',MINIMUN_SECONDS,MAXIMUM_SECONDS)\n",
    "data"
   ]
  },
  {
   "cell_type": "code",
   "execution_count": null,
   "metadata": {},
   "outputs": [],
   "source": [
    "if len(data) != 0:\n",
    "    libraryDataF1.race_pace_graph(data)"
   ]
  },
  {
   "cell_type": "code",
   "execution_count": null,
   "metadata": {},
   "outputs": [],
   "source": [
    "if len(data) != 0:\n",
    "    libraryDataF1.race_pace_divided_per_sectors(data)"
   ]
  },
  {
   "cell_type": "code",
   "execution_count": null,
   "metadata": {},
   "outputs": [],
   "source": [
    "data = libraryDataF1.getinfolongruns(jointables,18,'Aston Martin',MINIMUN_SECONDS,MAXIMUM_SECONDS)\n",
    "data"
   ]
  },
  {
   "cell_type": "code",
   "execution_count": null,
   "metadata": {},
   "outputs": [],
   "source": [
    "if len(data) != 0:\n",
    "    libraryDataF1.race_pace_graph(data)"
   ]
  },
  {
   "cell_type": "code",
   "execution_count": null,
   "metadata": {},
   "outputs": [],
   "source": [
    "if len(data) != 0:\n",
    "    libraryDataF1.race_pace_divided_per_sectors(data)"
   ]
  },
  {
   "cell_type": "markdown",
   "metadata": {},
   "source": [
    "#### RB"
   ]
  },
  {
   "cell_type": "code",
   "execution_count": null,
   "metadata": {},
   "outputs": [],
   "source": [
    "stintInformation.query('driver_number == 6 or driver_number == 22')"
   ]
  },
  {
   "cell_type": "code",
   "execution_count": null,
   "metadata": {},
   "outputs": [],
   "source": [
    "data = libraryDataF1.getinfolongruns(jointables,6,'Racing Bulls',MINIMUN_SECONDS,MAXIMUM_SECONDS)\n",
    "data"
   ]
  },
  {
   "cell_type": "code",
   "execution_count": null,
   "metadata": {},
   "outputs": [],
   "source": [
    "if len(data) != 0:\n",
    "    libraryDataF1.race_pace_graph(data)"
   ]
  },
  {
   "cell_type": "code",
   "execution_count": null,
   "metadata": {},
   "outputs": [],
   "source": [
    "if len(data) != 0:\n",
    "    libraryDataF1.race_pace_divided_per_sectors(data)"
   ]
  },
  {
   "cell_type": "code",
   "execution_count": null,
   "metadata": {},
   "outputs": [],
   "source": [
    "data = libraryDataF1.getinfolongruns(jointables,22,'Racing Bulls',MINIMUN_SECONDS,MAXIMUM_SECONDS)\n",
    "data"
   ]
  },
  {
   "cell_type": "code",
   "execution_count": null,
   "metadata": {},
   "outputs": [],
   "source": [
    "if len(data) != 0:\n",
    "    libraryDataF1.race_pace_graph(data)"
   ]
  },
  {
   "cell_type": "code",
   "execution_count": null,
   "metadata": {},
   "outputs": [],
   "source": [
    "if len(data) != 0:\n",
    "    libraryDataF1.race_pace_divided_per_sectors(data)"
   ]
  },
  {
   "cell_type": "markdown",
   "metadata": {},
   "source": [
    "#### Haas"
   ]
  },
  {
   "cell_type": "code",
   "execution_count": null,
   "metadata": {},
   "outputs": [],
   "source": [
    "stintInformation.query('driver_number == 87 or driver_number == 31')"
   ]
  },
  {
   "cell_type": "code",
   "execution_count": null,
   "metadata": {},
   "outputs": [],
   "source": [
    "data = libraryDataF1.getinfolongruns(jointables,31,'Haas F1 Team',MINIMUN_SECONDS,MAXIMUM_SECONDS)\n",
    "data"
   ]
  },
  {
   "cell_type": "code",
   "execution_count": null,
   "metadata": {},
   "outputs": [],
   "source": [
    "if len(data) != 0:\n",
    "    libraryDataF1.race_pace_graph(data)"
   ]
  },
  {
   "cell_type": "code",
   "execution_count": null,
   "metadata": {},
   "outputs": [],
   "source": [
    "if len(data) != 0:\n",
    "    libraryDataF1.race_pace_divided_per_sectors(data)"
   ]
  },
  {
   "cell_type": "code",
   "execution_count": null,
   "metadata": {},
   "outputs": [],
   "source": [
    "data = libraryDataF1.getinfolongruns(jointables,87,'Haas F1 Team',MINIMUN_SECONDS,MAXIMUM_SECONDS)\n",
    "data\n"
   ]
  },
  {
   "cell_type": "code",
   "execution_count": null,
   "metadata": {},
   "outputs": [],
   "source": [
    "if len(data) != 0:\n",
    "    libraryDataF1.race_pace_graph(data)"
   ]
  },
  {
   "cell_type": "code",
   "execution_count": null,
   "metadata": {},
   "outputs": [],
   "source": [
    "if len(data) != 0:\n",
    "    libraryDataF1.race_pace_divided_per_sectors(data)"
   ]
  },
  {
   "cell_type": "markdown",
   "metadata": {},
   "source": [
    "#### Alpine"
   ]
  },
  {
   "cell_type": "code",
   "execution_count": null,
   "metadata": {},
   "outputs": [],
   "source": [
    "stintInformation.query('driver_number == 10 or driver_number == 7')"
   ]
  },
  {
   "cell_type": "code",
   "execution_count": null,
   "metadata": {},
   "outputs": [],
   "source": [
    "data =libraryDataF1.getinfolongruns(jointables,7,'Alpine',MINIMUN_SECONDS,MAXIMUM_SECONDS)\n",
    "data"
   ]
  },
  {
   "cell_type": "code",
   "execution_count": null,
   "metadata": {},
   "outputs": [],
   "source": [
    "if len(data) != 0:\n",
    "    libraryDataF1.race_pace_graph(data)"
   ]
  },
  {
   "cell_type": "code",
   "execution_count": null,
   "metadata": {},
   "outputs": [],
   "source": [
    "if len(data) != 0:\n",
    "    libraryDataF1.race_pace_divided_per_sectors(data)"
   ]
  },
  {
   "cell_type": "code",
   "execution_count": null,
   "metadata": {},
   "outputs": [],
   "source": [
    "data = libraryDataF1.getinfolongruns(jointables,10,'Alpine',MINIMUN_SECONDS,MAXIMUM_SECONDS)\n",
    "data"
   ]
  },
  {
   "cell_type": "code",
   "execution_count": null,
   "metadata": {},
   "outputs": [],
   "source": [
    "if len(data) != 0:\n",
    "    libraryDataF1.race_pace_graph(data)"
   ]
  },
  {
   "cell_type": "code",
   "execution_count": null,
   "metadata": {},
   "outputs": [],
   "source": [
    "if len(data) != 0:\n",
    "    libraryDataF1.race_pace_divided_per_sectors(data)"
   ]
  },
  {
   "cell_type": "markdown",
   "metadata": {},
   "source": [
    "#### Williams"
   ]
  },
  {
   "cell_type": "code",
   "execution_count": null,
   "metadata": {},
   "outputs": [],
   "source": [
    "stintInformation.query('driver_number == 55 or driver_number == 23')"
   ]
  },
  {
   "cell_type": "code",
   "execution_count": null,
   "metadata": {},
   "outputs": [],
   "source": [
    "data = libraryDataF1.getinfolongruns(jointables,23,'Williams',MINIMUN_SECONDS,MAXIMUM_SECONDS)\n",
    "data"
   ]
  },
  {
   "cell_type": "code",
   "execution_count": null,
   "metadata": {},
   "outputs": [],
   "source": [
    "if len(data) != 0:\n",
    "    libraryDataF1.race_pace_graph(data)"
   ]
  },
  {
   "cell_type": "code",
   "execution_count": null,
   "metadata": {},
   "outputs": [],
   "source": [
    "if len(data) != 0:\n",
    "    libraryDataF1.race_pace_divided_per_sectors(data)"
   ]
  },
  {
   "cell_type": "code",
   "execution_count": null,
   "metadata": {},
   "outputs": [],
   "source": [
    "data= libraryDataF1.getinfolongruns(jointables,55,'Williams',MINIMUN_SECONDS,MAXIMUM_SECONDS)\n",
    "data"
   ]
  },
  {
   "cell_type": "code",
   "execution_count": null,
   "metadata": {},
   "outputs": [],
   "source": [
    "if len(data) != 0:\n",
    "    libraryDataF1.race_pace_graph(data)"
   ]
  },
  {
   "cell_type": "code",
   "execution_count": null,
   "metadata": {},
   "outputs": [],
   "source": [
    "if len(data) != 0:\n",
    "    libraryDataF1.race_pace_divided_per_sectors(data)"
   ]
  },
  {
   "cell_type": "markdown",
   "metadata": {},
   "source": [
    "#### Kick Sauber"
   ]
  },
  {
   "cell_type": "code",
   "execution_count": null,
   "metadata": {},
   "outputs": [],
   "source": [
    "stintInformation.query('driver_number == 5 or driver_number == 27')"
   ]
  },
  {
   "cell_type": "code",
   "execution_count": null,
   "metadata": {},
   "outputs": [],
   "source": [
    "data = libraryDataF1.getinfolongruns(jointables,5,'Kick Sauber',MINIMUN_SECONDS,MAXIMUM_SECONDS)\n",
    "data"
   ]
  },
  {
   "cell_type": "code",
   "execution_count": null,
   "metadata": {},
   "outputs": [],
   "source": [
    "if len(data) != 0:\n",
    "    libraryDataF1.race_pace_graph(data)"
   ]
  },
  {
   "cell_type": "code",
   "execution_count": null,
   "metadata": {},
   "outputs": [],
   "source": [
    "if len(data) != 0:\n",
    "    libraryDataF1.race_pace_divided_per_sectors(data)"
   ]
  },
  {
   "cell_type": "code",
   "execution_count": null,
   "metadata": {},
   "outputs": [],
   "source": [
    "data = libraryDataF1.getinfolongruns(jointables,27,'Kick Sauber',MINIMUN_SECONDS,MAXIMUM_SECONDS)\n",
    "data"
   ]
  },
  {
   "cell_type": "code",
   "execution_count": null,
   "metadata": {},
   "outputs": [],
   "source": [
    "if len(data) != 0:\n",
    "    libraryDataF1.race_pace_graph(data)"
   ]
  },
  {
   "cell_type": "code",
   "execution_count": null,
   "metadata": {},
   "outputs": [],
   "source": [
    "if len(data) != 0:\n",
    "    libraryDataF1.race_pace_divided_per_sectors(data)"
   ]
  },
  {
   "cell_type": "markdown",
   "metadata": {},
   "source": [
    "## Qualyfing\n",
    "### Set up\n",
    "First of all, it is neccesary to obtain the data about the qualyfing\n",
    "#### Race control\n",
    "This section has been added in order to know which laps has been deleted and knowing what happened on track during this session. As every laptime that has been deleted were slow laps, none of them were removed."
   ]
  },
  {
   "cell_type": "code",
   "execution_count": null,
   "metadata": {},
   "outputs": [],
   "source": [
    "libraryDataF1.obtain_information('race_control',session_key=9570)"
   ]
  },
  {
   "cell_type": "markdown",
   "metadata": {},
   "source": [
    "### Obtain setup"
   ]
  },
  {
   "cell_type": "code",
   "execution_count": null,
   "metadata": {},
   "outputs": [],
   "source": [
    "qualyfing = libraryDataF1.obtain_information('laps',session_key=9570)\n",
    "stintInformation = libraryDataF1.obtain_information('stints',session_key=9570)\n",
    "drivers = libraryDataF1.obtain_information('drivers',session_key=9570)\n",
    "libraryDataF1.obtain_drivers_colours(drivers)"
   ]
  },
  {
   "cell_type": "code",
   "execution_count": null,
   "metadata": {},
   "outputs": [],
   "source": [
    "session = ff1.get_session(2024, 14, 'Q')\n",
    "session.load()\n",
    "session.laps[\"LapTimeSeconds\"] = session.laps[\"LapTime\"].dt.total_seconds()"
   ]
  },
  {
   "cell_type": "markdown",
   "metadata": {},
   "source": [
    "To obtain a better analysis, those laptimes deleted will be removed from this analysis in order to obtain the data with valid values. So that,taking into account the race control table, it will be neccesary to consult the qualyfing data to obtain the ids. "
   ]
  },
  {
   "cell_type": "code",
   "execution_count": null,
   "metadata": {},
   "outputs": [],
   "source": [
    "# laptimes_deleted = [115.370,96.993,109.924,104.377,102.586,128.082,95.902,102.051]\n",
    "# driver_number_lap_deleted = [4,63,1,24,22,14,55,23]\n",
    "\n",
    "# for ltime_deleted, dn_time_deleted in zip(laptimes_deleted,driver_number_lap_deleted):\n",
    "#     try:\n",
    "#         id_deleted = qualyfing.query(\"driver_number == @dn_time_deleted and lap_duration == @ltime_deleted\").index[0]\n",
    "#         qualyfing = qualyfing.drop(id_deleted)\n",
    "#     except:\n",
    "#         print(\"Laptime deleted associated with the selected driver does not exist. Please, check again the order of the arrays\")"
   ]
  },
  {
   "cell_type": "code",
   "execution_count": null,
   "metadata": {},
   "outputs": [],
   "source": [
    "bestlap = qualyfing.loc[qualyfing.groupby(['driver_number'])['lap_duration'].idxmin()].sort_values(by=['lap_duration'],ascending=True)"
   ]
  },
  {
   "cell_type": "markdown",
   "metadata": {},
   "source": [
    "Due to changing climate conditions, I will not apply the 107% rule to filter those laps that are within. So, I will choose the fastest laps of the last classified. Zhou was the slowest and the slowest of his fast attemps will be the threshold to filter those valid laps. The new threshold will be 1.57.775(117.775)"
   ]
  },
  {
   "cell_type": "code",
   "execution_count": null,
   "metadata": {},
   "outputs": [],
   "source": [
    "competitiveLaps = qualyfing.query(\"is_pit_out_lap == False and lap_duration <= 117.775\")"
   ]
  },
  {
   "cell_type": "code",
   "execution_count": null,
   "metadata": {},
   "outputs": [],
   "source": [
    "drivers_list = list(competitiveLaps['driver_number'].unique())\n",
    "newdataset = pd.DataFrame()\n",
    "for driver in drivers_list:\n",
    "    newdataset =libraryDataF1.obtain_information_qualy(driver,competitiveLaps,newdataset)\n",
    "jointables = pd.merge(newdataset,drivers,on=['driver_number'])\n",
    "jointables.sort_values(by=['fastest_lap'],ascending=True)\n",
    "print()"
   ]
  },
  {
   "cell_type": "markdown",
   "metadata": {},
   "source": [
    "#### Best lap per driver compared with the best lap of the session\n",
    "In this chart we can see the deltas with compared with the fastest lap of the session that it could be different than the pole."
   ]
  },
  {
   "cell_type": "code",
   "execution_count": null,
   "metadata": {},
   "outputs": [],
   "source": [
    "dt = jointables.sort_values(by=['fastest_lap'],ascending=True)\n",
    "libraryDataF1.obtainchart(\"name_acronym\",\"delta\",dt)"
   ]
  },
  {
   "cell_type": "markdown",
   "metadata": {},
   "source": [
    "### Speed trap"
   ]
  },
  {
   "cell_type": "markdown",
   "metadata": {},
   "source": [
    "#### Maximum speed per drivers"
   ]
  },
  {
   "cell_type": "code",
   "execution_count": null,
   "metadata": {},
   "outputs": [],
   "source": [
    "top_speed = jointables.loc[jointables.groupby(['name_acronym'])['i1_speed'].idxmax()].sort_values(by=['i1_speed'],ascending=False)\n",
    "libraryDataF1.obtainchart(\"name_acronym\",\"i1_speed\",top_speed)"
   ]
  },
  {
   "cell_type": "code",
   "execution_count": null,
   "metadata": {},
   "outputs": [],
   "source": [
    "top_speed = jointables.loc[jointables.groupby(['name_acronym'])['i2_speed'].idxmax()].sort_values(by=['i2_speed'],ascending=False)\n",
    "libraryDataF1.obtainchart(\"name_acronym\",\"i2_speed\",top_speed)"
   ]
  },
  {
   "cell_type": "code",
   "execution_count": null,
   "metadata": {},
   "outputs": [],
   "source": [
    "top_speed = jointables.loc[jointables.groupby(['name_acronym'])['st_speed'].idxmax()].sort_values(by=['st_speed'],ascending=False)\n",
    "libraryDataF1.obtainchart(\"name_acronym\",\"st_speed\",top_speed)"
   ]
  },
  {
   "cell_type": "markdown",
   "metadata": {},
   "source": [
    "### Maximum speed per teams"
   ]
  },
  {
   "cell_type": "code",
   "execution_count": null,
   "metadata": {},
   "outputs": [],
   "source": [
    "top_speed = jointables.loc[jointables.groupby(['team_name'])['i1_speed'].idxmax()].sort_values(by=['i1_speed'],ascending=False)\n",
    "libraryDataF1.obtainchart(\"team_name\",\"i1_speed\",top_speed)"
   ]
  },
  {
   "cell_type": "code",
   "execution_count": null,
   "metadata": {},
   "outputs": [],
   "source": [
    "top_speed = jointables.loc[jointables.groupby(['team_name'])['i2_speed'].idxmax()].sort_values(by=['i2_speed'],ascending=False)\n",
    "libraryDataF1.obtainchart(\"team_name\",\"i2_speed\",top_speed)"
   ]
  },
  {
   "cell_type": "code",
   "execution_count": null,
   "metadata": {},
   "outputs": [],
   "source": [
    "top_speed = jointables.loc[jointables.groupby(['team_name'])['st_speed'].idxmax()].sort_values(by=['st_speed'],ascending=False)\n",
    "libraryDataF1.obtainchart(\"team_name\",\"st_speed\",top_speed)"
   ]
  },
  {
   "cell_type": "code",
   "execution_count": null,
   "metadata": {},
   "outputs": [],
   "source": [
    "mergequaly = pd.merge(competitiveLaps,drivers,on=['driver_number'])"
   ]
  },
  {
   "cell_type": "markdown",
   "metadata": {},
   "source": [
    "In order to know when each session finished, race control dataset will be consulted."
   ]
  },
  {
   "cell_type": "code",
   "execution_count": null,
   "metadata": {},
   "outputs": [],
   "source": [
    "maximumDateQ1 = \"date_start <'2024-07-27T14:25:00+00:00'\"\n",
    "maximumDateQ2 = \"date_start <'2024-07-27T14:48:00+00:00' and date_start >'2024-07-27T14:25:00+00:00'\"\n",
    "maximumDateQ3 = \"date_start >'2024-07-27T14:48:00+00:00'\""
   ]
  },
  {
   "cell_type": "markdown",
   "metadata": {},
   "source": [
    "### Qualyfing 1\n",
    "In this session both Hasses were out with Tsunoda,Sargeant and Zhou."
   ]
  },
  {
   "cell_type": "code",
   "execution_count": null,
   "metadata": {},
   "outputs": [],
   "source": [
    "q1Data = libraryDataF1.obtainInfoAboutQualySession(mergequaly,maximumDateQ1).query(\"isFastestLap == True\").sort_values(by=['lap_duration'],ascending=True)"
   ]
  },
  {
   "cell_type": "markdown",
   "metadata": {},
   "source": [
    "##### Comparaison with driver at risk\n",
    "In this section with the fastest lap done for each driver,I will do a comparaison in order to see where the driver eliminated lost/gain time in their fastest lap. Track was soaked even though it was not raining.The new track alphast did not help to dry the track. With these conditions, drivers improved their fastest laps in each attemp. Hence the difference in each sector are big. As we can see in the table referred to the comparaison with the driver eliminated, everybody except Tsunoda was faster than Stroll. In the second sector, Stroll was able to secure his pass to Q2 being 8 tenths faster than Hulkenberg. \n"
   ]
  },
  {
   "cell_type": "code",
   "execution_count": null,
   "metadata": {},
   "outputs": [],
   "source": [
    "#Reference\n",
    "P15 = q1Data[14:15]"
   ]
  },
  {
   "cell_type": "code",
   "execution_count": null,
   "metadata": {},
   "outputs": [],
   "source": [
    "print(\n",
    "\"Driver:\",P15.full_name.to_string(index=False),\n",
    "\"Sector 1: \",P15.duration_sector_1.to_string(index=False),\n",
    "\"Sector 2: \",P15.duration_sector_2.to_string(index=False),\n",
    "\"Sector 3: \",P15.duration_sector_3.to_string(index=False)\n",
    ")"
   ]
  },
  {
   "cell_type": "code",
   "execution_count": null,
   "metadata": {},
   "outputs": [],
   "source": [
    "q1Data[15::]"
   ]
  },
  {
   "cell_type": "markdown",
   "metadata": {},
   "source": [
    "##### Analysis of each sector of the driver at risk compared to the drivers eliminated.\n"
   ]
  },
  {
   "cell_type": "code",
   "execution_count": null,
   "metadata": {},
   "outputs": [],
   "source": [
    "newdataset2 = pd.DataFrame()\n",
    "for index,row in q1Data[15::].iterrows():\n",
    "    newdataset2 = libraryDataF1.obtain_difference_regard_reference(row,P15,newdataset2)\n",
    "\n",
    "newdataset2"
   ]
  },
  {
   "cell_type": "code",
   "execution_count": null,
   "metadata": {},
   "outputs": [],
   "source": [
    "libraryDataF1.draw_gap(P15,15,20,q1Data,drivers,session)"
   ]
  },
  {
   "cell_type": "markdown",
   "metadata": {},
   "source": [
    "##### Analysis with the drivers that finished better than the driver at risk\n",
    "I bring this section in order to know where the driver at risk lost his chances to improve in the qualyfing."
   ]
  },
  {
   "cell_type": "code",
   "execution_count": null,
   "metadata": {},
   "outputs": [],
   "source": [
    "newdataset2 = pd.DataFrame()\n",
    "for index,row in q1Data[0:14].iterrows():\n",
    "    newdataset2 = libraryDataF1.obtain_difference_regard_reference(row,P15,newdataset2)\n",
    "\n",
    "newdataset2"
   ]
  },
  {
   "cell_type": "markdown",
   "metadata": {},
   "source": [
    "##### Analysis with the drivers that finished better than the driver at risk\n",
    "I bring this section in order to know where the driver at risk lost his chances to improve in the qualyfing.\n",
    "Albon was able to pass Hulkenberg, but, unfortunately, his second sector was bad."
   ]
  },
  {
   "cell_type": "code",
   "execution_count": null,
   "metadata": {},
   "outputs": [],
   "source": [
    "newdataset2 = pd.DataFrame()\n",
    "for index,row in q1Data[0:14].iterrows():\n",
    "    newdataset2 = libraryDataF1.obtain_difference_regard_reference(row,P15,newdataset2)\n",
    "\n",
    "newdataset2"
   ]
  },
  {
   "cell_type": "markdown",
   "metadata": {},
   "source": [
    "#### Best sector per driver\n",
    "In this section we can see the best sector of the session"
   ]
  },
  {
   "cell_type": "code",
   "execution_count": null,
   "metadata": {},
   "outputs": [],
   "source": [
    "libraryDataF1.obtainchart(\"name_acronym\",\"duration_sector_1\",q1Data.sort_values(by=['duration_sector_1'],ascending=True))"
   ]
  },
  {
   "cell_type": "code",
   "execution_count": null,
   "metadata": {},
   "outputs": [],
   "source": [
    "libraryDataF1.obtainchart(\"name_acronym\",\"duration_sector_2\",q1Data.sort_values(by=['duration_sector_2'],ascending=True))"
   ]
  },
  {
   "cell_type": "code",
   "execution_count": null,
   "metadata": {},
   "outputs": [],
   "source": [
    "libraryDataF1.obtainchart(\"name_acronym\",\"duration_sector_3\",q1Data.sort_values(by=['duration_sector_3'],ascending=True))"
   ]
  },
  {
   "cell_type": "markdown",
   "metadata": {},
   "source": [
    "### Qualyfing 2\n",
    "In this session, we did not have any surprise with Checo passing to Q3."
   ]
  },
  {
   "cell_type": "code",
   "execution_count": null,
   "metadata": {},
   "outputs": [],
   "source": [
    "q2Data = libraryDataF1.obtainInfoAboutQualySession(mergequaly,maximumDateQ2).query(\"isFastestLap == True\").sort_values(by=['lap_duration'],ascending=True)"
   ]
  },
  {
   "cell_type": "markdown",
   "metadata": {},
   "source": [
    "##### Comparaison with driver at risk\n",
    "In this section with the fastest lap done for each driver (laptimes deleted will not be taken into account to do this analysis) it will be a comparaison in order to see where the driver eliminated lost/gain time in their fastest lap."
   ]
  },
  {
   "cell_type": "code",
   "execution_count": null,
   "metadata": {},
   "outputs": [],
   "source": [
    "#Reference\n",
    "P10 = q2Data[9:10]\n",
    "print(\n",
    "\"Driver:\",P10.full_name.to_string(index=False),\n",
    "\"Sector 1: \",P10.duration_sector_1.to_string(index=False),\n",
    "\"Sector 2: \",P10.duration_sector_2.to_string(index=False),\n",
    "\"Sector 3: \",P10.duration_sector_3.to_string(index=False)\n",
    ")"
   ]
  },
  {
   "cell_type": "markdown",
   "metadata": {},
   "source": [
    "##### Analysis of each sector of the driver at risk compared to the drivers eliminated.\n",
    "As we were able to see in Q1, the second sector was crucial to pass to Q3. In the Checo's case he lost 2 tenths with Albon in the sector 1 and 3 tenths in the third sector but his second sector was enough to pass to Q3 but the gap was very close.3 militenths."
   ]
  },
  {
   "cell_type": "code",
   "execution_count": null,
   "metadata": {},
   "outputs": [],
   "source": [
    "newdataset2 = pd.DataFrame()\n",
    "for index,row in q2Data[10::].iterrows():\n",
    "    newdataset2 = libraryDataF1.obtain_difference_regard_reference(row,P10,newdataset2)\n",
    "\n",
    "newdataset2"
   ]
  },
  {
   "cell_type": "code",
   "execution_count": null,
   "metadata": {},
   "outputs": [],
   "source": [
    "libraryDataF1.draw_gap(P10,10,15,q2Data,drivers,session)"
   ]
  },
  {
   "cell_type": "markdown",
   "metadata": {},
   "source": [
    "##### Analysis with the drivers that finished better than the driver at risk"
   ]
  },
  {
   "cell_type": "code",
   "execution_count": null,
   "metadata": {},
   "outputs": [],
   "source": [
    "newdataset2 = pd.DataFrame()\n",
    "for index,row in q2Data[0:9].iterrows():\n",
    "    newdataset2 = libraryDataF1.obtain_difference_regard_reference(row,P10,newdataset2)\n",
    "\n",
    "newdataset2"
   ]
  },
  {
   "cell_type": "markdown",
   "metadata": {},
   "source": [
    "#### Best sector per driver\n",
    "In this section we can see the best sector of the session"
   ]
  },
  {
   "cell_type": "code",
   "execution_count": null,
   "metadata": {},
   "outputs": [],
   "source": [
    "libraryDataF1.obtainchart(\"name_acronym\",\"duration_sector_1\",q2Data.sort_values(by=['duration_sector_1'],ascending=True))"
   ]
  },
  {
   "cell_type": "code",
   "execution_count": null,
   "metadata": {},
   "outputs": [],
   "source": [
    "libraryDataF1.obtainchart(\"name_acronym\",\"duration_sector_2\",q2Data.sort_values(by=['duration_sector_2'],ascending=True))"
   ]
  },
  {
   "cell_type": "code",
   "execution_count": null,
   "metadata": {},
   "outputs": [],
   "source": [
    "libraryDataF1.obtainchart(\"name_acronym\",\"duration_sector_3\",q2Data.sort_values(by=['duration_sector_3'],ascending=True))"
   ]
  },
  {
   "cell_type": "markdown",
   "metadata": {},
   "source": [
    "### Qualyfing 3"
   ]
  },
  {
   "cell_type": "code",
   "execution_count": null,
   "metadata": {},
   "outputs": [],
   "source": [
    "q3Data = libraryDataF1.obtainInfoAboutQualySession(mergequaly,maximumDateQ3).query(\"isFastestLap == True\").sort_values(by=['lap_duration'],ascending=True)"
   ]
  },
  {
   "cell_type": "markdown",
   "metadata": {},
   "source": [
    "##### Comparaison with poleman\n",
    "In this section with the fastest lap done for each driver (laptimes deleted will not be taken into account to do this analysis) it will be a comparaison in order to see where the driver eliminated lost/gain time in their fastest lap."
   ]
  },
  {
   "cell_type": "code",
   "execution_count": null,
   "metadata": {},
   "outputs": [],
   "source": [
    "#Reference\n",
    "P1 = q3Data[:1]\n",
    "print(\n",
    "\"Driver:\",P1.full_name.to_string(index=False),\n",
    "\"Sector 1: \",P1.duration_sector_1.to_string(index=False),\n",
    "\"Sector 2: \",P1.duration_sector_2.to_string(index=False),\n",
    "\"Sector 3: \",P1.duration_sector_3.to_string(index=False)\n",
    ")"
   ]
  },
  {
   "cell_type": "markdown",
   "metadata": {},
   "source": [
    "##### Analysis of each sector of the driver at risk compared to the drivers eliminated.\n",
    "The sector that was crucial was the second, so that those teams that bet for a specification oriented towards downforce was very important.\n",
    "Note: All this analysis can be checked in F1 tempo"
   ]
  },
  {
   "cell_type": "code",
   "execution_count": null,
   "metadata": {},
   "outputs": [],
   "source": [
    "newdataset2 = pd.DataFrame()\n",
    "for index,row in q3Data[1::].iterrows():\n",
    "    newdataset2 = libraryDataF1.obtain_difference_regard_reference(row,P1,newdataset2)\n",
    "newdataset2"
   ]
  },
  {
   "cell_type": "markdown",
   "metadata": {},
   "source": [
    "#### Best sector per driver\n",
    "In this section we can see the best sector of the session"
   ]
  },
  {
   "cell_type": "code",
   "execution_count": null,
   "metadata": {},
   "outputs": [],
   "source": [
    "libraryDataF1.obtainchart(\"name_acronym\",\"duration_sector_1\",q3Data.sort_values(by=['duration_sector_1'],ascending=True))"
   ]
  },
  {
   "cell_type": "code",
   "execution_count": null,
   "metadata": {},
   "outputs": [],
   "source": [
    "libraryDataF1.obtainchart(\"name_acronym\",\"duration_sector_2\",q3Data.sort_values(by=['duration_sector_2'],ascending=True))"
   ]
  },
  {
   "cell_type": "code",
   "execution_count": null,
   "metadata": {},
   "outputs": [],
   "source": [
    "libraryDataF1.obtainchart(\"name_acronym\",\"duration_sector_3\",q3Data.sort_values(by=['duration_sector_3'],ascending=True))"
   ]
  },
  {
   "cell_type": "markdown",
   "metadata": {},
   "source": [
    "#### Best sector per driver of the session (in general)"
   ]
  },
  {
   "cell_type": "code",
   "execution_count": null,
   "metadata": {},
   "outputs": [],
   "source": [
    "libraryDataF1.obtainchart(\"name_acronym\",\"duration_sector_1\",pd.DataFrame(mergequaly.groupby(\"name_acronym\")['duration_sector_1'].min().sort_values(ascending=True)).reset_index())"
   ]
  },
  {
   "cell_type": "code",
   "execution_count": null,
   "metadata": {},
   "outputs": [],
   "source": [
    "libraryDataF1.obtainchart(\"name_acronym\",\"duration_sector_2\",pd.DataFrame(mergequaly.groupby(\"name_acronym\")['duration_sector_2'].min().sort_values(ascending=True)).reset_index())"
   ]
  },
  {
   "cell_type": "code",
   "execution_count": null,
   "metadata": {},
   "outputs": [],
   "source": [
    "libraryDataF1.obtainchart(\"name_acronym\",\"duration_sector_3\",pd.DataFrame(mergequaly.groupby(\"name_acronym\")['duration_sector_3'].min().sort_values(ascending=True)).reset_index())"
   ]
  },
  {
   "cell_type": "markdown",
   "metadata": {},
   "source": [
    "### Comparaison between the poleman and the second"
   ]
  },
  {
   "cell_type": "code",
   "execution_count": null,
   "metadata": {},
   "outputs": [],
   "source": [
    "libraryDataF1.plot_telemetry(\"Distance\",\"Speed\",dt,session)"
   ]
  },
  {
   "cell_type": "code",
   "execution_count": null,
   "metadata": {},
   "outputs": [],
   "source": [
    "libraryDataF1.plot_telemetry(\"Distance\",\"Throttle\",dt,session)"
   ]
  },
  {
   "cell_type": "code",
   "execution_count": null,
   "metadata": {},
   "outputs": [],
   "source": [
    "libraryDataF1.plot_telemetry(\"Distance\",\"Brake\",dt,session)"
   ]
  },
  {
   "cell_type": "code",
   "execution_count": null,
   "metadata": {},
   "outputs": [],
   "source": [
    "libraryDataF1.plot_telemetry(\"Distance\",\"nGear\",dt,session)"
   ]
  },
  {
   "cell_type": "markdown",
   "metadata": {},
   "source": [
    "## Race\n",
    "### Obtain setup"
   ]
  },
  {
   "cell_type": "code",
   "execution_count": null,
   "metadata": {},
   "outputs": [],
   "source": [
    "race = libraryDataF1.obtain_information('laps',session_key=9574)\n",
    "stintInformation = libraryDataF1.obtain_information('stints',session_key=9574)\n",
    "drivers = libraryDataF1.obtain_information('drivers',session_key=9574)\n",
    "libraryDataF1.obtain_drivers_colours(drivers)"
   ]
  },
  {
   "cell_type": "code",
   "execution_count": null,
   "metadata": {},
   "outputs": [],
   "source": [
    "stintsDataFrame =libraryDataF1.stint_configuration(drivers,stintInformation)"
   ]
  },
  {
   "cell_type": "code",
   "execution_count": null,
   "metadata": {},
   "outputs": [],
   "source": [
    "raceLaps = race.query(\"is_pit_out_lap == False\")\n",
    "jointables = pd.merge(raceLaps,stintsDataFrame,on=['lap_number','driver_number'])"
   ]
  },
  {
   "cell_type": "markdown",
   "metadata": {},
   "source": [
    "### Mean pace with the different compound used on the session"
   ]
  },
  {
   "cell_type": "code",
   "execution_count": null,
   "metadata": {},
   "outputs": [],
   "source": [
    "race_pace = pd.DataFrame(jointables.query(\"is_pit_out_lap == False  and lap_duration >94 and lap_duration <=112.5\").groupby(\"compound\")['lap_duration'].mean().sort_values(ascending=True))\n",
    "race_pace"
   ]
  },
  {
   "cell_type": "markdown",
   "metadata": {},
   "source": [
    "### Speed trap"
   ]
  },
  {
   "cell_type": "code",
   "execution_count": null,
   "metadata": {},
   "outputs": [],
   "source": [
    "top_speed = jointables.loc[jointables.groupby(['name_acronym'])['st_speed'].idxmax()].sort_values(by=['st_speed'],ascending=False)\n",
    "libraryDataF1.obtainchart(\"name_acronym\",\"st_speed\",top_speed)"
   ]
  },
  {
   "cell_type": "code",
   "execution_count": null,
   "metadata": {},
   "outputs": [],
   "source": [
    "top_speed = jointables.loc[jointables.groupby(['name_acronym'])['i1_speed'].idxmax()].sort_values(by=['i1_speed'],ascending=False)\n",
    "libraryDataF1.obtainchart(\"name_acronym\",\"i1_speed\",top_speed)"
   ]
  },
  {
   "cell_type": "code",
   "execution_count": null,
   "metadata": {},
   "outputs": [],
   "source": [
    "top_speed = jointables.loc[jointables.groupby(['name_acronym'])['i2_speed'].idxmax()].sort_values(by=['i2_speed'],ascending=False)\n",
    "libraryDataF1.obtainchart(\"name_acronym\",\"i2_speed\",top_speed)"
   ]
  },
  {
   "cell_type": "markdown",
   "metadata": {},
   "source": [
    "### Race pace"
   ]
  },
  {
   "cell_type": "code",
   "execution_count": null,
   "metadata": {},
   "outputs": [],
   "source": [
    "race_pace = pd.DataFrame(jointables.query(\"is_pit_out_lap == False  and lap_duration >94 and lap_duration <=112.5\").dropna().groupby(\"team_name\")['lap_duration'].mean().sort_values(ascending=True))\n",
    "race_pace"
   ]
  },
  {
   "cell_type": "markdown",
   "metadata": {},
   "source": [
    "#### Mean race pace per sector\n",
    "In this section, we can see the pace shown per each team in each sector sorted ascending."
   ]
  },
  {
   "cell_type": "markdown",
   "metadata": {},
   "source": [
    "#### Sector 1"
   ]
  },
  {
   "cell_type": "code",
   "execution_count": null,
   "metadata": {},
   "outputs": [],
   "source": [
    "race_pace = pd.DataFrame(jointables.query(\"is_pit_out_lap == False  and lap_duration >94 and lap_duration <=112.5\").dropna().groupby(\"team_name\")['duration_sector_1'].mean().sort_values(ascending=True))\n",
    "race_pace"
   ]
  },
  {
   "cell_type": "markdown",
   "metadata": {},
   "source": [
    "#### Sector 2"
   ]
  },
  {
   "cell_type": "code",
   "execution_count": null,
   "metadata": {},
   "outputs": [],
   "source": [
    "race_pace = pd.DataFrame(jointables.query(\"is_pit_out_lap == False  and lap_duration >94 and lap_duration <=112.5\").dropna().groupby(\"team_name\")['duration_sector_2'].mean().sort_values(ascending=True))\n",
    "race_pace"
   ]
  },
  {
   "cell_type": "markdown",
   "metadata": {},
   "source": [
    "#### Sector 3"
   ]
  },
  {
   "cell_type": "code",
   "execution_count": null,
   "metadata": {},
   "outputs": [],
   "source": [
    "race_pace = pd.DataFrame(jointables.query(\"is_pit_out_lap == False and lap_duration >94 and lap_duration <=112.5\").dropna().groupby(\"team_name\")['duration_sector_3'].mean().sort_values(ascending=True))\n",
    "race_pace"
   ]
  },
  {
   "cell_type": "markdown",
   "metadata": {},
   "source": [
    "### Long runs"
   ]
  },
  {
   "cell_type": "code",
   "execution_count": null,
   "metadata": {},
   "outputs": [],
   "source": [
    "MINIMUN_SECONDS = 94\n",
    "MAXIMUM_SECONDS = 112.5"
   ]
  },
  {
   "cell_type": "markdown",
   "metadata": {},
   "source": [
    "#### Red Bull Racing"
   ]
  },
  {
   "cell_type": "code",
   "execution_count": null,
   "metadata": {},
   "outputs": [],
   "source": [
    "stintInformation.query('driver_number == 1 or driver_number == 11')"
   ]
  },
  {
   "cell_type": "code",
   "execution_count": null,
   "metadata": {},
   "outputs": [],
   "source": [
    "data = libraryDataF1.getinfolongruns(jointables,1,'Red Bull Racing',MINIMUN_SECONDS,MAXIMUM_SECONDS)\n",
    "data"
   ]
  },
  {
   "cell_type": "code",
   "execution_count": null,
   "metadata": {},
   "outputs": [],
   "source": [
    "if len(data) != 0:\n",
    "    libraryDataF1.race_pace_graph(data)"
   ]
  },
  {
   "cell_type": "code",
   "execution_count": null,
   "metadata": {},
   "outputs": [],
   "source": [
    "if len(data) != 0:\n",
    "    libraryDataF1.race_pace_divided_per_sectors(data)"
   ]
  },
  {
   "cell_type": "code",
   "execution_count": null,
   "metadata": {},
   "outputs": [],
   "source": [
    "data = libraryDataF1.getinfolongruns(jointables,11,'Red Bull Racing',MINIMUN_SECONDS,MAXIMUM_SECONDS)\n",
    "data"
   ]
  },
  {
   "cell_type": "code",
   "execution_count": null,
   "metadata": {},
   "outputs": [],
   "source": [
    "if len(data) != 0:\n",
    "    libraryDataF1.race_pace_graph(data)"
   ]
  },
  {
   "cell_type": "code",
   "execution_count": null,
   "metadata": {},
   "outputs": [],
   "source": [
    "if len(data) != 0:\n",
    "    libraryDataF1.race_pace_divided_per_sectors(data)"
   ]
  },
  {
   "cell_type": "markdown",
   "metadata": {},
   "source": [
    "#### Ferrari"
   ]
  },
  {
   "cell_type": "code",
   "execution_count": null,
   "metadata": {},
   "outputs": [],
   "source": [
    "stintInformation.query('driver_number == 55 or driver_number == 16')"
   ]
  },
  {
   "cell_type": "code",
   "execution_count": null,
   "metadata": {},
   "outputs": [],
   "source": [
    "data = libraryDataF1.getinfolongruns(jointables,16,'Ferrari',MINIMUN_SECONDS,MAXIMUM_SECONDS)\n",
    "data"
   ]
  },
  {
   "cell_type": "code",
   "execution_count": null,
   "metadata": {},
   "outputs": [],
   "source": [
    "if len(data) != 0:\n",
    "    libraryDataF1.race_pace_graph(data)"
   ]
  },
  {
   "cell_type": "code",
   "execution_count": null,
   "metadata": {},
   "outputs": [],
   "source": [
    "if len(data) != 0:\n",
    "    libraryDataF1.race_pace_divided_per_sectors(data)"
   ]
  },
  {
   "cell_type": "code",
   "execution_count": null,
   "metadata": {},
   "outputs": [],
   "source": [
    "data = libraryDataF1.getinfolongruns(jointables,55,'Ferrari',MINIMUN_SECONDS,MAXIMUM_SECONDS)\n",
    "data"
   ]
  },
  {
   "cell_type": "code",
   "execution_count": null,
   "metadata": {},
   "outputs": [],
   "source": [
    "if len(data) != 0:\n",
    "    libraryDataF1.race_pace_graph(data)"
   ]
  },
  {
   "cell_type": "code",
   "execution_count": null,
   "metadata": {},
   "outputs": [],
   "source": [
    "if len(data) != 0:\n",
    "    libraryDataF1.race_pace_divided_per_sectors(data)"
   ]
  },
  {
   "cell_type": "markdown",
   "metadata": {},
   "source": [
    "#### Mercedes"
   ]
  },
  {
   "cell_type": "code",
   "execution_count": null,
   "metadata": {},
   "outputs": [],
   "source": [
    "stintInformation.query('driver_number == 63 or driver_number == 44')"
   ]
  },
  {
   "cell_type": "code",
   "execution_count": null,
   "metadata": {},
   "outputs": [],
   "source": [
    "data = libraryDataF1.getinfolongruns(jointables,44,'Mercedes',MINIMUN_SECONDS,MAXIMUM_SECONDS)\n",
    "data"
   ]
  },
  {
   "cell_type": "code",
   "execution_count": null,
   "metadata": {},
   "outputs": [],
   "source": [
    "if len(data) != 0:\n",
    "    libraryDataF1.race_pace_graph(data)"
   ]
  },
  {
   "cell_type": "code",
   "execution_count": null,
   "metadata": {},
   "outputs": [],
   "source": [
    "if len(data) != 0:\n",
    "    libraryDataF1.race_pace_divided_per_sectors(data)"
   ]
  },
  {
   "cell_type": "code",
   "execution_count": null,
   "metadata": {},
   "outputs": [],
   "source": [
    "data = libraryDataF1.getinfolongruns(jointables,63,'Mercedes',MINIMUN_SECONDS,MAXIMUM_SECONDS)\n",
    "data"
   ]
  },
  {
   "cell_type": "code",
   "execution_count": null,
   "metadata": {},
   "outputs": [],
   "source": [
    "if len(data) != 0:\n",
    "    libraryDataF1.race_pace_graph(data)"
   ]
  },
  {
   "cell_type": "code",
   "execution_count": null,
   "metadata": {},
   "outputs": [],
   "source": [
    "if len(data) != 0:\n",
    "    libraryDataF1.race_pace_divided_per_sectors(data)"
   ]
  },
  {
   "cell_type": "markdown",
   "metadata": {},
   "source": [
    "#### McLaren"
   ]
  },
  {
   "cell_type": "code",
   "execution_count": null,
   "metadata": {},
   "outputs": [],
   "source": [
    "stintInformation.query('driver_number == 81 or driver_number == 4')"
   ]
  },
  {
   "cell_type": "code",
   "execution_count": null,
   "metadata": {},
   "outputs": [],
   "source": [
    "data = libraryDataF1.getinfolongruns(jointables,4,'McLaren',MINIMUN_SECONDS,MAXIMUM_SECONDS)\n",
    "data"
   ]
  },
  {
   "cell_type": "code",
   "execution_count": null,
   "metadata": {},
   "outputs": [],
   "source": [
    "if len(data) != 0:\n",
    "    libraryDataF1.race_pace_graph(data)"
   ]
  },
  {
   "cell_type": "code",
   "execution_count": null,
   "metadata": {},
   "outputs": [],
   "source": [
    "if len(data) != 0:\n",
    "    libraryDataF1.race_pace_divided_per_sectors(data)"
   ]
  },
  {
   "cell_type": "code",
   "execution_count": null,
   "metadata": {},
   "outputs": [],
   "source": [
    "data = libraryDataF1.getinfolongruns(jointables,81,'McLaren',MINIMUN_SECONDS,MAXIMUM_SECONDS)\n",
    "data"
   ]
  },
  {
   "cell_type": "code",
   "execution_count": null,
   "metadata": {},
   "outputs": [],
   "source": [
    "if len(data) != 0:\n",
    "    libraryDataF1.race_pace_graph(data)"
   ]
  },
  {
   "cell_type": "code",
   "execution_count": null,
   "metadata": {},
   "outputs": [],
   "source": [
    "if len(data) != 0:\n",
    "    libraryDataF1.race_pace_divided_per_sectors(data)"
   ]
  },
  {
   "cell_type": "markdown",
   "metadata": {},
   "source": [
    "#### Aston Martin"
   ]
  },
  {
   "cell_type": "code",
   "execution_count": null,
   "metadata": {},
   "outputs": [],
   "source": [
    "stintInformation.query('driver_number == 18 or driver_number == 14')"
   ]
  },
  {
   "cell_type": "code",
   "execution_count": null,
   "metadata": {},
   "outputs": [],
   "source": [
    "data = libraryDataF1.getinfolongruns(jointables,14,'Aston Martin',MINIMUN_SECONDS,MAXIMUM_SECONDS)\n",
    "data"
   ]
  },
  {
   "cell_type": "code",
   "execution_count": null,
   "metadata": {},
   "outputs": [],
   "source": [
    "if len(data) != 0:\n",
    "    libraryDataF1.race_pace_graph(data)"
   ]
  },
  {
   "cell_type": "code",
   "execution_count": null,
   "metadata": {},
   "outputs": [],
   "source": [
    "if len(data) != 0:\n",
    "    libraryDataF1.race_pace_divided_per_sectors(data)"
   ]
  },
  {
   "cell_type": "code",
   "execution_count": null,
   "metadata": {},
   "outputs": [],
   "source": [
    "data = libraryDataF1.getinfolongruns(jointables,18,'Aston Martin',MINIMUN_SECONDS,MAXIMUM_SECONDS)\n",
    "data"
   ]
  },
  {
   "cell_type": "code",
   "execution_count": null,
   "metadata": {},
   "outputs": [],
   "source": [
    "if len(data) != 0:\n",
    "    libraryDataF1.race_pace_graph(data)"
   ]
  },
  {
   "cell_type": "code",
   "execution_count": null,
   "metadata": {},
   "outputs": [],
   "source": [
    "if len(data) != 0:\n",
    "    libraryDataF1.race_pace_divided_per_sectors(data)"
   ]
  },
  {
   "cell_type": "markdown",
   "metadata": {},
   "source": [
    "#### RB"
   ]
  },
  {
   "cell_type": "code",
   "execution_count": null,
   "metadata": {},
   "outputs": [],
   "source": [
    "stintInformation.query('driver_number == 3 or driver_number == 22')"
   ]
  },
  {
   "cell_type": "code",
   "execution_count": null,
   "metadata": {},
   "outputs": [],
   "source": [
    "data = libraryDataF1.getinfolongruns(jointables,3,'RB',MINIMUN_SECONDS,MAXIMUM_SECONDS)\n",
    "data"
   ]
  },
  {
   "cell_type": "code",
   "execution_count": null,
   "metadata": {},
   "outputs": [],
   "source": [
    "if len(data) != 0:\n",
    "    libraryDataF1.race_pace_graph(data)"
   ]
  },
  {
   "cell_type": "code",
   "execution_count": null,
   "metadata": {},
   "outputs": [],
   "source": [
    "if len(data) != 0:\n",
    "    libraryDataF1.race_pace_divided_per_sectors(data)"
   ]
  },
  {
   "cell_type": "code",
   "execution_count": null,
   "metadata": {},
   "outputs": [],
   "source": [
    "data = libraryDataF1.getinfolongruns(jointables,22,'RB',MINIMUN_SECONDS,MAXIMUM_SECONDS)\n",
    "data"
   ]
  },
  {
   "cell_type": "code",
   "execution_count": null,
   "metadata": {},
   "outputs": [],
   "source": [
    "if len(data) != 0:\n",
    "    libraryDataF1.race_pace_graph(data)"
   ]
  },
  {
   "cell_type": "code",
   "execution_count": null,
   "metadata": {},
   "outputs": [],
   "source": [
    "if len(data) != 0:\n",
    "    libraryDataF1.race_pace_divided_per_sectors(data)"
   ]
  },
  {
   "cell_type": "markdown",
   "metadata": {},
   "source": [
    "#### Haas"
   ]
  },
  {
   "cell_type": "code",
   "execution_count": null,
   "metadata": {},
   "outputs": [],
   "source": [
    "stintInformation.query('driver_number == 20 or driver_number == 27')"
   ]
  },
  {
   "cell_type": "code",
   "execution_count": null,
   "metadata": {},
   "outputs": [],
   "source": [
    "data = libraryDataF1.getinfolongruns(jointables,20,'Haas F1 Team',MINIMUN_SECONDS,MAXIMUM_SECONDS)\n",
    "data"
   ]
  },
  {
   "cell_type": "code",
   "execution_count": null,
   "metadata": {},
   "outputs": [],
   "source": [
    "if len(data) != 0:\n",
    "    libraryDataF1.race_pace_graph(data)"
   ]
  },
  {
   "cell_type": "code",
   "execution_count": null,
   "metadata": {},
   "outputs": [],
   "source": [
    "if len(data) != 0:\n",
    "    libraryDataF1.race_pace_divided_per_sectors(data)"
   ]
  },
  {
   "cell_type": "code",
   "execution_count": null,
   "metadata": {},
   "outputs": [],
   "source": [
    "data = libraryDataF1.getinfolongruns(jointables,27,'Haas F1 Team',MINIMUN_SECONDS,MAXIMUM_SECONDS)\n",
    "data\n"
   ]
  },
  {
   "cell_type": "code",
   "execution_count": null,
   "metadata": {},
   "outputs": [],
   "source": [
    "if len(data) != 0:\n",
    "    libraryDataF1.race_pace_graph(data)"
   ]
  },
  {
   "cell_type": "code",
   "execution_count": null,
   "metadata": {},
   "outputs": [],
   "source": [
    "if len(data) != 0:\n",
    "    libraryDataF1.race_pace_divided_per_sectors(data)"
   ]
  },
  {
   "cell_type": "markdown",
   "metadata": {},
   "source": [
    "#### Alpine"
   ]
  },
  {
   "cell_type": "code",
   "execution_count": null,
   "metadata": {},
   "outputs": [],
   "source": [
    "stintInformation.query('driver_number == 10 or driver_number == 31')"
   ]
  },
  {
   "cell_type": "code",
   "execution_count": null,
   "metadata": {},
   "outputs": [],
   "source": [
    "data =libraryDataF1.getinfolongruns(jointables,31,'Alpine',MINIMUN_SECONDS,MAXIMUM_SECONDS)\n",
    "data"
   ]
  },
  {
   "cell_type": "code",
   "execution_count": null,
   "metadata": {},
   "outputs": [],
   "source": [
    "if len(data) != 0:\n",
    "    libraryDataF1.race_pace_graph(data)"
   ]
  },
  {
   "cell_type": "code",
   "execution_count": null,
   "metadata": {},
   "outputs": [],
   "source": [
    "if len(data) != 0:\n",
    "    libraryDataF1.race_pace_divided_per_sectors(data)"
   ]
  },
  {
   "cell_type": "code",
   "execution_count": null,
   "metadata": {},
   "outputs": [],
   "source": [
    "data = libraryDataF1.getinfolongruns(jointables,10,'Alpine',MINIMUN_SECONDS,MAXIMUM_SECONDS)\n",
    "data"
   ]
  },
  {
   "cell_type": "code",
   "execution_count": null,
   "metadata": {},
   "outputs": [],
   "source": [
    "if len(data) != 0:\n",
    "    libraryDataF1.race_pace_graph(data)"
   ]
  },
  {
   "cell_type": "code",
   "execution_count": null,
   "metadata": {},
   "outputs": [],
   "source": [
    "if len(data) != 0:\n",
    "    libraryDataF1.race_pace_divided_per_sectors(data)"
   ]
  },
  {
   "cell_type": "markdown",
   "metadata": {},
   "source": [
    "#### Williams"
   ]
  },
  {
   "cell_type": "code",
   "execution_count": null,
   "metadata": {},
   "outputs": [],
   "source": [
    "stintInformation.query('driver_number == 2 or driver_number == 23')"
   ]
  },
  {
   "cell_type": "code",
   "execution_count": null,
   "metadata": {},
   "outputs": [],
   "source": [
    "data = libraryDataF1.getinfolongruns(jointables,23,'Williams',MINIMUN_SECONDS,MAXIMUM_SECONDS)\n",
    "data"
   ]
  },
  {
   "cell_type": "code",
   "execution_count": null,
   "metadata": {},
   "outputs": [],
   "source": [
    "if len(data) != 0:\n",
    "    libraryDataF1.race_pace_graph(data)"
   ]
  },
  {
   "cell_type": "code",
   "execution_count": null,
   "metadata": {},
   "outputs": [],
   "source": [
    "if len(data) != 0:\n",
    "    libraryDataF1.race_pace_divided_per_sectors(data)"
   ]
  },
  {
   "cell_type": "code",
   "execution_count": null,
   "metadata": {},
   "outputs": [],
   "source": [
    "data= libraryDataF1.getinfolongruns(jointables,2,'Williams',MINIMUN_SECONDS,MAXIMUM_SECONDS)\n",
    "data"
   ]
  },
  {
   "cell_type": "code",
   "execution_count": null,
   "metadata": {},
   "outputs": [],
   "source": [
    "if len(data) != 0:\n",
    "    libraryDataF1.race_pace_graph(data)"
   ]
  },
  {
   "cell_type": "code",
   "execution_count": null,
   "metadata": {},
   "outputs": [],
   "source": [
    "if len(data) != 0:\n",
    "    libraryDataF1.race_pace_divided_per_sectors(data)"
   ]
  },
  {
   "cell_type": "markdown",
   "metadata": {},
   "source": [
    "#### Kick Sauber"
   ]
  },
  {
   "cell_type": "code",
   "execution_count": null,
   "metadata": {},
   "outputs": [],
   "source": [
    "stintInformation.query('driver_number == 24 or driver_number == 77')"
   ]
  },
  {
   "cell_type": "code",
   "execution_count": null,
   "metadata": {},
   "outputs": [],
   "source": [
    "data = libraryDataF1.getinfolongruns(jointables,24,'Kick Sauber',MINIMUN_SECONDS,MAXIMUM_SECONDS)\n",
    "data"
   ]
  },
  {
   "cell_type": "code",
   "execution_count": null,
   "metadata": {},
   "outputs": [],
   "source": [
    "if len(data) != 0:\n",
    "    libraryDataF1.race_pace_graph(data)"
   ]
  },
  {
   "cell_type": "code",
   "execution_count": null,
   "metadata": {},
   "outputs": [],
   "source": [
    "if len(data) != 0:\n",
    "    libraryDataF1.race_pace_divided_per_sectors(data)"
   ]
  },
  {
   "cell_type": "code",
   "execution_count": null,
   "metadata": {},
   "outputs": [],
   "source": [
    "data = libraryDataF1.getinfolongruns(jointables,77,'Kick Sauber',MINIMUN_SECONDS,MAXIMUM_SECONDS)\n",
    "data"
   ]
  },
  {
   "cell_type": "code",
   "execution_count": null,
   "metadata": {},
   "outputs": [],
   "source": [
    "if len(data) != 0:\n",
    "    libraryDataF1.race_pace_graph(data)"
   ]
  },
  {
   "cell_type": "code",
   "execution_count": null,
   "metadata": {},
   "outputs": [],
   "source": [
    "if len(data) != 0:\n",
    "    libraryDataF1.race_pace_divided_per_sectors(data)"
   ]
  },
  {
   "cell_type": "markdown",
   "metadata": {},
   "source": [
    "### Pits\n",
    "Before to finish the analysis, I added the Pits sections where it can see how much time teams spent in the box."
   ]
  },
  {
   "cell_type": "code",
   "execution_count": null,
   "metadata": {},
   "outputs": [],
   "source": [
    "pit = libraryDataF1.obtain_information('pit',session_key=9574)"
   ]
  },
  {
   "cell_type": "code",
   "execution_count": null,
   "metadata": {},
   "outputs": [],
   "source": [
    "jointables = pd.merge(drivers,pit,on=['driver_number']).query(\"pit_duration<120\")\n",
    "jointables\n",
    "pit_duration = pd.DataFrame(jointables.groupby('team_name')['pit_duration'].mean().sort_values(ascending=True))\n",
    "pit_duration"
   ]
  }
 ],
 "metadata": {
  "kernelspec": {
   "display_name": "Python 3",
   "language": "python",
   "name": "python3"
  },
  "language_info": {
   "codemirror_mode": {
    "name": "ipython",
    "version": 3
   },
   "file_extension": ".py",
   "mimetype": "text/x-python",
   "name": "python",
   "nbconvert_exporter": "python",
   "pygments_lexer": "ipython3",
   "version": "3.8.6"
  }
 },
 "nbformat": 4,
 "nbformat_minor": 2
}
