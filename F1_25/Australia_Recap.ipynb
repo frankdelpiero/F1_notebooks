{
 "cells": [
  {
   "cell_type": "code",
   "execution_count": 1,
   "metadata": {},
   "outputs": [],
   "source": [
    "from F1_library import libraryF1dataNotebook as libraryDataF1\n",
    "import pandas as pd\n",
    "import fastf1 as ff1\n",
    "import matplotlib.pyplot as plt"
   ]
  },
  {
   "cell_type": "code",
   "execution_count": 7,
   "metadata": {},
   "outputs": [
    {
     "name": "stderr",
     "output_type": "stream",
     "text": [
      "core           INFO \tLoading data for Australian Grand Prix - Practice 1 [v3.3.0]\n",
      "req            INFO \tUsing cached data for session_info\n",
      "req            INFO \tUsing cached data for driver_info\n",
      "req            INFO \tUsing cached data for session_status_data\n",
      "req            INFO \tUsing cached data for track_status_data\n",
      "req            INFO \tUsing cached data for _extended_timing_data\n",
      "req            INFO \tUsing cached data for timing_app_data\n",
      "core           INFO \tProcessing timing data...\n",
      "req            INFO \tUsing cached data for car_data\n",
      "req            INFO \tUsing cached data for position_data\n",
      "req            INFO \tUsing cached data for weather_data\n",
      "req            INFO \tUsing cached data for race_control_messages\n",
      "core           INFO \tFinished loading data for 20 drivers: ['1', '10', '11', '14', '16', '18', '2', '20', '22', '23', '24', '27', '3', '31', '4', '44', '55', '63', '77', '81']\n",
      "core        WARNING \tFailed to preserve data type for column 'X' while merging telemetry.\n",
      "core        WARNING \tFailed to preserve data type for column 'Y' while merging telemetry.\n",
      "core        WARNING \tFailed to preserve data type for column 'Z' while merging telemetry.\n"
     ]
    }
   ],
   "source": [
    "session = ff1.get_session(2024, 'Australia', 'FP1')\n",
    "session.load()\n",
    "\n",
    "lap = session.laps.pick_fastest()\n",
    "pos = lap.get_pos_data()\n",
    "\n",
    "circuit_info = session.get_circuit_info()\n"
   ]
  },
  {
   "cell_type": "code",
   "execution_count": 4,
   "metadata": {},
   "outputs": [
    {
     "data": {
      "image/png": "[encoded data removed]",
      "text/plain": [
       "<Figure size 640x480 with 1 Axes>"
      ]
     },
     "metadata": {},
     "output_type": "display_data"
    }
   ],
   "source": [
    "libraryDataF1.draw_track(circuit_info,pos,\"Albert Park\")"
   ]
  },
  {
   "cell_type": "markdown",
   "metadata": {},
   "source": [
    "# FORMULA 1 LOUIS VUITTON AUSTRALIAN GRAND PRIX 2025\n",
    "The Australian Grand Prix is an annual motor racing event which is under contract to host Formula One until 2035.[1] One of the oldest surviving motorsport competitions held in Australia, the Grand Prix has moved frequently with 23 different venues having been used since it was first run at Phillip Island in 1928. The race became part of the Formula One World Championship in 1985. Since 1996, it has been held at the Albert Park Circuit in Melbourne, with the exceptions of 2020 and 2021, when the races were cancelled due to the COVID-19 pandemic.[2] Before that, it was held in Adelaide.[3] Source: Wikipedia\n",
    "\n",
    "Analyzed by Franccy del Piero Sambrano Ganoza"
   ]
  },
  {
   "cell_type": "markdown",
   "metadata": {},
   "source": [
    "## Upgrades\n",
    "In this section those upgrades brought by the teams will be shown.\n",
    "<table>\n",
    "<tr>\n",
    "    <td>\n",
    "    Team\n",
    "    </td>\n",
    "    <td>\n",
    "    Updated component\n",
    "    </td>\n",
    "    <td>\n",
    "    Upgrade type\n",
    "    </td>\n",
    "</tr>\n",
    "\n",
    "<tr>\n",
    "    <td>\n",
    "    McLaren\n",
    "    </td>\n",
    "    <td>\n",
    "    Front corner\n",
    "    </td>\n",
    "    <td>\n",
    "    Circuit specific\n",
    "    </td>\n",
    "</tr>\n",
    "<tr>\n",
    "    <td>\n",
    "    McLaren\n",
    "    </td>\n",
    "    <td>\n",
    "    Front corner    \n",
    "    </td>\n",
    "    <td>\n",
    "    Circuit specific\n",
    "    </td>\n",
    "</tr>\n",
    "<tr>\n",
    "    <td>\n",
    "    McLaren\n",
    "    </td>\n",
    "    <td>\n",
    "    Beam wing \n",
    "    </td>\n",
    "    <td>\n",
    "    Circuit specific\n",
    "    </td>\n",
    "</tr>\n",
    "<tr>\n",
    "    <td>\n",
    "    McLaren\n",
    "    </td>\n",
    "    <td>\n",
    "    Beam wing   \n",
    "    </td>\n",
    "    <td>\n",
    "    Circuit specific\n",
    "    </td>\n",
    "</tr>\n",
    "<tr>\n",
    "    <td>\n",
    "    Ferrari\n",
    "    </td>\n",
    "    <td>\n",
    "    Front suspension\n",
    "    </td>\n",
    "    <td>\n",
    "    Performance\n",
    "    </td>\n",
    "</tr>\n",
    "<tr>\n",
    "    <td>\n",
    "    Ferrari\n",
    "    </td>\n",
    "    <td>\n",
    "    SIdepot inlet\n",
    "    </td>\n",
    "    <td>\n",
    "    Performance\n",
    "    </td>\n",
    "</tr>\n",
    "<tr>\n",
    "    <td>\n",
    "    Ferrari\n",
    "    </td>\n",
    "    <td>\n",
    "    Rear wing\n",
    "    </td>\n",
    "    <td>\n",
    "    Performance\n",
    "    </td>\n",
    "</tr>\n",
    "<tr>\n",
    "    <td>\n",
    "    Red Bull\n",
    "    </td>\n",
    "    <td>\n",
    "    Front wing\n",
    "    </td>\n",
    "    <td>\n",
    "    Performance\n",
    "    </td>\n",
    "</tr>\n",
    "<tr>\n",
    "    <td>\n",
    "    Red Bull\n",
    "    </td>\n",
    "    <td>\n",
    "    Nose\n",
    "    </td>\n",
    "    <td>\n",
    "    Performance\n",
    "    </td>\n",
    "</tr>\n",
    "<tr>\n",
    "    <td>\n",
    "    Red Bull\n",
    "    </td>\n",
    "    <td>\n",
    "    Front suspension\n",
    "    </td>\n",
    "    <td>\n",
    "    Performance\n",
    "    </td>\n",
    "</tr>\n",
    "<tr>\n",
    "    <td>\n",
    "    Red Bull\n",
    "    </td>\n",
    "    <td>\n",
    "    Floor body\n",
    "    </td>\n",
    "    <td>\n",
    "    Performance\n",
    "    </td>\n",
    "</tr>\n",
    "<tr>\n",
    "    <td>\n",
    "    Red Bull\n",
    "    </td>\n",
    "    <td>\n",
    "    FLoor fences\n",
    "    </td>\n",
    "    <td>\n",
    "    Performance\n",
    "    </td>\n",
    "</tr>\n",
    "<tr>\n",
    "    <td>\n",
    "    Red Bull\n",
    "    </td>\n",
    "    <td>\n",
    "    Floor Edge\n",
    "    </td>\n",
    "    <td>\n",
    "    Performance\n",
    "    </td>\n",
    "</tr>\n",
    "<tr>\n",
    "    <td>\n",
    "    Red Bull\n",
    "    </td>\n",
    "    <td>\n",
    "    Coke/Engine Cover\n",
    "    </td>\n",
    "    <td>\n",
    "    Reliability\n",
    "    </td>\n",
    "</tr>\n",
    "<tr>\n",
    "    <td>\n",
    "    Red Bull\n",
    "    </td>\n",
    "    <td>\n",
    "    Cooling Louvres\n",
    "    </td>\n",
    "    <td>\n",
    "    Cooling\n",
    "    </td>\n",
    "</tr>\n",
    "<tr>\n",
    "    <td>\n",
    "    Red Bull\n",
    "    </td>\n",
    "    <td>\n",
    "    Rear suspension\n",
    "    </td>\n",
    "    <td>\n",
    "    Performance\n",
    "    </td>\n",
    "</tr>\n",
    "<tr>\n",
    "    <td>\n",
    "    Red Bull\n",
    "    </td>\n",
    "    <td>\n",
    "    Beam wing\n",
    "    </td>\n",
    "    <td>\n",
    "    Performance\n",
    "    </td>\n",
    "</tr>\n",
    "<tr>\n",
    "    <td>\n",
    "    Red Bull\n",
    "    </td>\n",
    "    <td>\n",
    "    Rear wing\n",
    "    </td>\n",
    "    <td>\n",
    "    Performance\n",
    "    </td>\n",
    "</tr>\n",
    "<tr>\n",
    "    <td>\n",
    "    Red Bull\n",
    "    </td>\n",
    "    <td>\n",
    "    Rear wing- Endplate\n",
    "    </td>\n",
    "    <td>\n",
    "    Performance\n",
    "    </td>\n",
    "</tr>\n",
    "<tr>\n",
    "    <td>\n",
    "    Mercedes\n",
    "    </td>\n",
    "    <td>\n",
    "    Sidepot inlet\n",
    "    </td>\n",
    "    <td>\n",
    "    Performance\n",
    "    </td>\n",
    "</tr>\n",
    "<tr>\n",
    "    <td>\n",
    "    Mercedes\n",
    "    </td>\n",
    "    <td>\n",
    "    Sidepot inlet\n",
    "    </td>\n",
    "    <td>\n",
    "    Performance\n",
    "    </td>\n",
    "</tr>\n",
    "<tr>\n",
    "    <td>\n",
    "    Mercedes\n",
    "    </td>\n",
    "    <td>\n",
    "    Floor body\n",
    "    </td>\n",
    "    <td>\n",
    "    Performance\n",
    "    </td>\n",
    "</tr>\n",
    "<tr>\n",
    "    <td>\n",
    "    Mercedes\n",
    "    </td>\n",
    "    <td>\n",
    "    Coke/Engine Cover\n",
    "    </td>\n",
    "    <td>\n",
    "    Performance\n",
    "    </td>\n",
    "</tr>\n",
    "<tr>\n",
    "    <td>\n",
    "    Mercedes\n",
    "    </td>\n",
    "    <td>\n",
    "    Beam wing\n",
    "    </td>\n",
    "    <td>\n",
    "    Performance\n",
    "    </td>\n",
    "</tr>\n",
    "<tr>\n",
    "    <td>\n",
    "    Mercedes\n",
    "    </td>\n",
    "    <td>\n",
    "    Front suspension\n",
    "    </td>\n",
    "    <td>\n",
    "    Performance\n",
    "    </td>\n",
    "</tr>\n",
    "<tr>\n",
    "    <td>\n",
    "    Mercedes\n",
    "    </td>\n",
    "    <td>\n",
    "    Rear wing\n",
    "    </td>\n",
    "    <td>\n",
    "    Performance\n",
    "    </td>\n",
    "</tr>\n",
    "<tr>\n",
    "    <td>\n",
    "    Aston Martin\n",
    "    </td>\n",
    "    <td>\n",
    "    Nose\n",
    "    </td>\n",
    "    <td>\n",
    "    Performance\n",
    "    </td>\n",
    "</tr>\n",
    "<tr>\n",
    "    <td>\n",
    "    Aston Martin\n",
    "    </td>\n",
    "    <td>\n",
    "    Front wing\n",
    "    </td>\n",
    "    <td>\n",
    "    Performance\n",
    "    </td>\n",
    "</tr>\n",
    "<tr>\n",
    "    <td>\n",
    "    Aston Martin\n",
    "    </td>\n",
    "    <td>\n",
    "    Rear corner\n",
    "    </td>\n",
    "    <td>\n",
    "    Performance\n",
    "    </td>\n",
    "</tr>\n",
    "<tr>\n",
    "    <td>\n",
    "    Aston Martin\n",
    "    </td>\n",
    "    <td>\n",
    "    Sidepot inlet\n",
    "    </td>\n",
    "    <td>\n",
    "    Performance\n",
    "    </td>\n",
    "</tr>\n",
    "<tr>\n",
    "    <td>\n",
    "    Aston Martin\n",
    "    </td>\n",
    "    <td>\n",
    "    Coke/Engine Cover\n",
    "    </td>\n",
    "    <td>\n",
    "    Performance\n",
    "    </td>\n",
    "</tr>\n",
    "<tr>\n",
    "    <td>\n",
    "    Aston Martin\n",
    "    </td>\n",
    "    <td>\n",
    "    Cooling Louvres\n",
    "    </td>\n",
    "    <td>\n",
    "    Performance\n",
    "    </td>\n",
    "</tr>\n",
    "<tr>\n",
    "    <td>\n",
    "    Aston Martin\n",
    "    </td>\n",
    "    <td>\n",
    "    Floor body\n",
    "    </td>\n",
    "    <td>\n",
    "    Performance\n",
    "    </td>\n",
    "</tr>\n",
    "<tr>\n",
    "    <td>\n",
    "    Aston Martin\n",
    "    </td>\n",
    "    <td>\n",
    "    Floor fences\n",
    "    </td>\n",
    "    <td>\n",
    "    Performance\n",
    "    </td>\n",
    "</tr>\n",
    "<tr>\n",
    "    <td>\n",
    "    Aston Martin\n",
    "    </td>\n",
    "    <td>\n",
    "    Rear suspension\n",
    "    </td>\n",
    "    <td>\n",
    "    Performance\n",
    "    </td>\n",
    "</tr>\n",
    "<tr>\n",
    "    <td>\n",
    "    Aston Martin\n",
    "    </td>\n",
    "    <td>\n",
    "    Rear corner\n",
    "    </td>\n",
    "    <td>\n",
    "    Performance\n",
    "    </td>\n",
    "</tr>\n",
    "<tr>\n",
    "    <td>\n",
    "    Aston Martin\n",
    "    </td>\n",
    "    <td>\n",
    "    Beam wing\n",
    "    </td>\n",
    "    <td>\n",
    "    Performance\n",
    "    </td>\n",
    "</tr>\n",
    "<tr>\n",
    "    <td>\n",
    "    Aston Martin\n",
    "    </td>\n",
    "    <td>\n",
    "    Rear wing\n",
    "    </td>\n",
    "    <td>\n",
    "    Performance\n",
    "    </td>\n",
    "</tr>\n",
    "<tr>\n",
    "    <td>\n",
    "    Alpine\n",
    "    </td>\n",
    "    <td>\n",
    "    Sidepot inlet\n",
    "    </td>\n",
    "    <td>\n",
    "    Performance\n",
    "    </td>\n",
    "</tr>\n",
    "<tr>\n",
    "    <td>\n",
    "    Aston Martin\n",
    "    </td>\n",
    "    <td>\n",
    "    Coke/Engine cover\n",
    "    </td>\n",
    "    <td>\n",
    "    Performance\n",
    "    </td>\n",
    "</tr>\n",
    "<tr>\n",
    "    <td>\n",
    "    Alpine\n",
    "    </td>\n",
    "    <td>\n",
    "    Floor body\n",
    "    </td>\n",
    "    <td>\n",
    "    Performance\n",
    "    </td>\n",
    "</tr>\n",
    "<tr>\n",
    "    <td>\n",
    "    Alpine\n",
    "    </td>\n",
    "    <td>\n",
    "    Rear corner\n",
    "    </td>\n",
    "    <td>\n",
    "    Performance\n",
    "    </td>\n",
    "</tr>\n",
    "<tr>\n",
    "    <td>\n",
    "    Alpine\n",
    "    </td>\n",
    "    <td>\n",
    "    Rear wing\n",
    "    </td>\n",
    "    <td>\n",
    "    Performance\n",
    "    </td>\n",
    "</tr>\n",
    "<tr>\n",
    "    <td>\n",
    "    Alpine\n",
    "    </td>\n",
    "    <td>\n",
    "    Rear suspension\n",
    "    </td>\n",
    "    <td>\n",
    "    Performance\n",
    "    </td>\n",
    "</tr>\n",
    "<tr>\n",
    "    <td>\n",
    "    Haas\n",
    "    </td>\n",
    "    <td>\n",
    "    Front wing endplate\n",
    "    </td>\n",
    "    <td>\n",
    "    Performance\n",
    "    </td>\n",
    "</tr>\n",
    "<tr>\n",
    "    <td>\n",
    "    Haas\n",
    "    </td>\n",
    "    <td>\n",
    "    Front wing\n",
    "    </td>\n",
    "    <td>\n",
    "    Performance\n",
    "    </td>\n",
    "</tr>\n",
    "<tr>\n",
    "    <td>\n",
    "    Haas\n",
    "    </td>\n",
    "    <td>\n",
    "    Sidepot inlet\n",
    "    </td>\n",
    "    <td>\n",
    "    Performance\n",
    "    </td>\n",
    "</tr>\n",
    "<tr>\n",
    "    <td>\n",
    "    Haas\n",
    "    </td>\n",
    "    <td>\n",
    "    Floor body\n",
    "    </td>\n",
    "    <td>\n",
    "    Performance\n",
    "    </td>\n",
    "</tr>\n",
    "<tr>\n",
    "    <td>\n",
    "    Haas\n",
    "    </td>\n",
    "    <td>\n",
    "    Floor fences\n",
    "    </td>\n",
    "    <td>\n",
    "    Performance\n",
    "    </td>\n",
    "</tr>\n",
    "<tr>\n",
    "    <td>\n",
    "    Haas\n",
    "    </td>\n",
    "    <td>\n",
    "    Floor edge\n",
    "    </td>\n",
    "    <td>\n",
    "    Performance\n",
    "    </td>\n",
    "</tr>\n",
    "<tr>\n",
    "    <td>\n",
    "    Haas\n",
    "    </td>\n",
    "    <td>\n",
    "    Coke/Engine cover\n",
    "    </td>\n",
    "    <td>\n",
    "    Performance\n",
    "    </td>\n",
    "</tr>\n",
    "<tr>\n",
    "    <td>\n",
    "    Haas\n",
    "    </td>\n",
    "    <td>\n",
    "    Rear wing Endplate\n",
    "    </td>\n",
    "    <td>\n",
    "    Performance\n",
    "    </td>\n",
    "</tr>\n",
    "<tr>\n",
    "    <td>\n",
    "    Haas\n",
    "    </td>\n",
    "    <td>\n",
    "    Beam Wing\n",
    "    </td>\n",
    "    <td>\n",
    "    Performance\n",
    "    </td>\n",
    "</tr>\n",
    "<tr>\n",
    "    <td>\n",
    "    Haas\n",
    "    </td>\n",
    "    <td>\n",
    "    Front suspension\n",
    "    </td>\n",
    "    <td>\n",
    "    Performance\n",
    "    </td>\n",
    "</tr>\n",
    "<tr>\n",
    "    <td>\n",
    "    Haas\n",
    "    </td>\n",
    "    <td>\n",
    "    Front Corner\n",
    "    </td>\n",
    "    <td>\n",
    "    Performance\n",
    "    </td>\n",
    "</tr>\n",
    "<tr>\n",
    "    <td>\n",
    "    Haas\n",
    "    </td>\n",
    "    <td>\n",
    "    Rear Suspension\n",
    "    </td>\n",
    "    <td>\n",
    "    Performance\n",
    "    </td>\n",
    "</tr>\n",
    "<tr>\n",
    "    <td>\n",
    "    Haas\n",
    "    </td>\n",
    "    <td>\n",
    "    Rear Corner\n",
    "    </td>\n",
    "    <td>\n",
    "    Performance\n",
    "    </td>\n",
    "</tr>\n",
    "<tr>\n",
    "    <td>\n",
    "    RB\n",
    "    </td>\n",
    "    <td>\n",
    "    Sidepots\n",
    "    </td>\n",
    "    <td>\n",
    "    Performance\n",
    "    </td>\n",
    "</tr>\n",
    "<tr>\n",
    "    <td>\n",
    "    RB\n",
    "    </td>\n",
    "    <td>\n",
    "    Front wing\n",
    "    </td>\n",
    "    <td>\n",
    "    Performance\n",
    "    </td>\n",
    "</tr>\n",
    "<tr>\n",
    "    <td>\n",
    "    RB\n",
    "    </td>\n",
    "    <td>\n",
    "    Front suspension\n",
    "    </td>\n",
    "    <td>\n",
    "    Performance\n",
    "    </td>\n",
    "</tr>\n",
    "<tr>\n",
    "    <td>\n",
    "    Williams\n",
    "    </td>\n",
    "    <td>\n",
    "    Cooling Louvres\n",
    "    </td>\n",
    "    <td>\n",
    "    Circuit specific\n",
    "    </td>\n",
    "</tr>\n",
    "<tr>\n",
    "    <td>\n",
    "    Williams\n",
    "    </td>\n",
    "    <td>\n",
    "    Coke/Engine Cover\n",
    "    </td>\n",
    "    <td>\n",
    "    Circuit specific\n",
    "    </td>\n",
    "</tr>\n",
    "<tr>\n",
    "    <td>\n",
    "    Williams\n",
    "    </td>\n",
    "    <td>\n",
    "    Front wing Endplate\n",
    "    </td>\n",
    "    <td>\n",
    "    Performance\n",
    "    </td>\n",
    "</tr>\n",
    "<tr>\n",
    "    <td>\n",
    "    Williams\n",
    "    </td>\n",
    "    <td>\n",
    "    Front wing\n",
    "    </td>\n",
    "    <td>\n",
    "    Performance\n",
    "    </td>\n",
    "</tr>\n",
    "<tr>\n",
    "    <td>\n",
    "    Williams\n",
    "    </td>\n",
    "    <td>\n",
    "    Coke/Engine Cover\n",
    "    </td>\n",
    "    <td>\n",
    "    Performance\n",
    "    </td>\n",
    "</tr>\n",
    "<tr>\n",
    "    <td>\n",
    "    Kick Sauber\n",
    "    </td>\n",
    "    <td>\n",
    "    Coke/Engine Cover\n",
    "    </td>\n",
    "    <td>\n",
    "    Performance\n",
    "    </td>\n",
    "</tr>\n",
    "<tr>\n",
    "    <td>\n",
    "    Kick Sauber\n",
    "    </td>\n",
    "    <td>\n",
    "    Floor body\n",
    "    </td>\n",
    "    <td>\n",
    "    Performance\n",
    "    </td>\n",
    "</tr>\n",
    "<tr>\n",
    "    <td>\n",
    "    Kick Sauber\n",
    "    </td>\n",
    "    <td>\n",
    "    Front wing\n",
    "    </td>\n",
    "    <td>\n",
    "    Performance\n",
    "    </td>\n",
    "</tr>\n",
    "<tr>\n",
    "    <td>\n",
    "    Kick Sauber\n",
    "    </td>\n",
    "    <td>\n",
    "    Rear wing\n",
    "    </td>\n",
    "    <td>\n",
    "    Performance\n",
    "    </td>\n",
    "</tr>\n",
    "<tr>\n",
    "    <td>\n",
    "    Kick Sauber\n",
    "    </td>\n",
    "    <td>\n",
    "    Front corner\n",
    "    </td>\n",
    "    <td>\n",
    "    Performance\n",
    "    </td>\n",
    "</tr>\n",
    "<tr>\n",
    "    <td>\n",
    "    Kick Sauber\n",
    "    </td>\n",
    "    <td>\n",
    "    Rear corner\n",
    "    </td>\n",
    "    <td>\n",
    "    Performance\n",
    "    </td>\n",
    "</tr>\n",
    "</table>"
   ]
  },
  {
   "cell_type": "markdown",
   "metadata": {},
   "source": [
    "## Obtain session information"
   ]
  },
  {
   "cell_type": "code",
   "execution_count": 8,
   "metadata": {},
   "outputs": [
    {
     "data": {
      "text/html": [
       "<div>\n",
       "<style scoped>\n",
       "    .dataframe tbody tr th:only-of-type {\n",
       "        vertical-align: middle;\n",
       "    }\n",
       "\n",
       "    .dataframe tbody tr th {\n",
       "        vertical-align: top;\n",
       "    }\n",
       "\n",
       "    .dataframe thead th {\n",
       "        text-align: right;\n",
       "    }\n",
       "</style>\n",
       "<table border=\"1\" class=\"dataframe\">\n",
       "  <thead>\n",
       "    <tr style=\"text-align: right;\">\n",
       "      <th></th>\n",
       "      <th>session_key</th>\n",
       "      <th>session_name</th>\n",
       "      <th>date_start</th>\n",
       "      <th>date_end</th>\n",
       "      <th>gmt_offset</th>\n",
       "      <th>session_type</th>\n",
       "      <th>meeting_key</th>\n",
       "      <th>location</th>\n",
       "      <th>country_key</th>\n",
       "      <th>country_code</th>\n",
       "      <th>country_name</th>\n",
       "      <th>circuit_key</th>\n",
       "      <th>circuit_short_name</th>\n",
       "      <th>year</th>\n",
       "    </tr>\n",
       "  </thead>\n",
       "  <tbody>\n",
       "    <tr>\n",
       "      <th>0</th>\n",
       "      <td>9686</td>\n",
       "      <td>Practice 1</td>\n",
       "      <td>2025-03-14T01:30:00+00:00</td>\n",
       "      <td>2025-03-14T02:30:00+00:00</td>\n",
       "      <td>11:00:00</td>\n",
       "      <td>Practice</td>\n",
       "      <td>1254</td>\n",
       "      <td>Melbourne</td>\n",
       "      <td>5</td>\n",
       "      <td>AUS</td>\n",
       "      <td>Australia</td>\n",
       "      <td>10</td>\n",
       "      <td>Melbourne</td>\n",
       "      <td>2025</td>\n",
       "    </tr>\n",
       "  </tbody>\n",
       "</table>\n",
       "</div>"
      ],
      "text/plain": [
       "   session_key session_name                 date_start  \\\n",
       "0         9686   Practice 1  2025-03-14T01:30:00+00:00   \n",
       "\n",
       "                    date_end gmt_offset session_type  meeting_key   location  \\\n",
       "0  2025-03-14T02:30:00+00:00   11:00:00     Practice         1254  Melbourne   \n",
       "\n",
       "   country_key country_code country_name  circuit_key circuit_short_name  year  \n",
       "0            5          AUS    Australia           10          Melbourne  2025  "
      ]
     },
     "execution_count": 8,
     "metadata": {},
     "output_type": "execute_result"
    }
   ],
   "source": [
    "libraryDataF1.obtain_information('sessions',year=2025,country_acronym='AUS')"
   ]
  },
  {
   "cell_type": "markdown",
   "metadata": {},
   "source": [
    "## Free Practice 1\n",
    "### Obtain setup"
   ]
  },
  {
   "cell_type": "code",
   "execution_count": 9,
   "metadata": {},
   "outputs": [],
   "source": [
    "practice = libraryDataF1.obtain_information('laps',session_key=9686)\n",
    "stintInformation = libraryDataF1.obtain_information('stints',session_key=9686)\n",
    "drivers = libraryDataF1.obtain_information('drivers',session_key=9686)"
   ]
  },
  {
   "cell_type": "code",
   "execution_count": 10,
   "metadata": {},
   "outputs": [],
   "source": [
    "stintsDataFrame =libraryDataF1.stint_configuration(drivers,stintInformation)\n",
    "jointables2 = pd.merge(practice,stintsDataFrame,on=['lap_number','driver_number'])\n",
    "libraryDataF1.obtain_drivers_colours(drivers)"
   ]
  },
  {
   "cell_type": "markdown",
   "metadata": {},
   "source": [
    "### Speed trap\n",
    "st_speed:In the main straight, in general, McLaren was the fastest but the best speed was recorded by Max\n",
    "i1_speed: In the first intermediate point of the track, Williams was the best with 6 km/h better than Kick who were the slowest.\n",
    "i2_speed:In the second intermediate point of the track, Verstappen was the fastest with both Hasses being the worst.\n",
    "\n",
    "Haas and Sauber were the slowest on the main straight in their fastest laps being 4 km/h slower than the rest. Ferrari is in the midfield and McLaren,Red Bull and Aston Martin were the fastest teams in this point."
   ]
  },
  {
   "cell_type": "code",
   "execution_count": 11,
   "metadata": {},
   "outputs": [
    {
     "data": {
      "image/png": "[encoded data removed]",
      "text/plain": [
       "<Figure size 1200x900 with 1 Axes>"
      ]
     },
     "metadata": {},
     "output_type": "display_data"
    }
   ],
   "source": [
    "top_speed = jointables2.loc[jointables2.groupby(['name_acronym'])['st_speed'].idxmax()].sort_values(by=['st_speed'],ascending=False)\n",
    "libraryDataF1.obtainchart(\"name_acronym\",\"st_speed\",top_speed)"
   ]
  },
  {
   "cell_type": "code",
   "execution_count": 12,
   "metadata": {},
   "outputs": [
    {
     "data": {
      "image/png": "[encoded data removed]",
      "text/plain": [
       "<Figure size 1200x900 with 1 Axes>"
      ]
     },
     "metadata": {},
     "output_type": "display_data"
    }
   ],
   "source": [
    "top_speed = jointables2.loc[jointables2.groupby(['name_acronym'])['i1_speed'].idxmax()].sort_values(by=['i1_speed'],ascending=False)\n",
    "libraryDataF1.obtainchart(\"name_acronym\",\"i1_speed\",top_speed)"
   ]
  },
  {
   "cell_type": "code",
   "execution_count": 13,
   "metadata": {},
   "outputs": [
    {
     "data": {
      "image/png": "[encoded data removed]",
      "text/plain": [
       "<Figure size 1200x900 with 1 Axes>"
      ]
     },
     "metadata": {},
     "output_type": "display_data"
    }
   ],
   "source": [
    "top_speed = jointables2.loc[jointables2.groupby(['name_acronym'])['i2_speed'].idxmax()].sort_values(by=['i2_speed'],ascending=False)\n",
    "libraryDataF1.obtainchart(\"name_acronym\",\"i2_speed\",top_speed)"
   ]
  },
  {
   "cell_type": "markdown",
   "metadata": {},
   "source": [
    "### Fastest lap per compound\n",
    "In this section, I will show the best lap with the different compounds of the session. \n",
    "In this free practice, with different fuel charge,we can watch that MEDIUM best lap is similar just in sector 1 but in the following sectors this difference are growing with almost three tenths in sector 2 and five in the last sector."
   ]
  },
  {
   "cell_type": "code",
   "execution_count": 14,
   "metadata": {},
   "outputs": [
    {
     "data": {
      "text/html": [
       "<div>\n",
       "<style scoped>\n",
       "    .dataframe tbody tr th:only-of-type {\n",
       "        vertical-align: middle;\n",
       "    }\n",
       "\n",
       "    .dataframe tbody tr th {\n",
       "        vertical-align: top;\n",
       "    }\n",
       "\n",
       "    .dataframe thead th {\n",
       "        text-align: right;\n",
       "    }\n",
       "</style>\n",
       "<table border=\"1\" class=\"dataframe\">\n",
       "  <thead>\n",
       "    <tr style=\"text-align: right;\">\n",
       "      <th></th>\n",
       "      <th>full_name</th>\n",
       "      <th>compound</th>\n",
       "      <th>duration_sector_1</th>\n",
       "      <th>duration_sector_2</th>\n",
       "      <th>duration_sector_3</th>\n",
       "      <th>lap_duration</th>\n",
       "    </tr>\n",
       "  </thead>\n",
       "  <tbody>\n",
       "    <tr>\n",
       "      <th>169</th>\n",
       "      <td>Charles LECLERC</td>\n",
       "      <td>MEDIUM</td>\n",
       "      <td>26.947</td>\n",
       "      <td>17.646</td>\n",
       "      <td>33.249</td>\n",
       "      <td>77.842</td>\n",
       "    </tr>\n",
       "    <tr>\n",
       "      <th>356</th>\n",
       "      <td>Lando NORRIS</td>\n",
       "      <td>SOFT</td>\n",
       "      <td>26.975</td>\n",
       "      <td>17.386</td>\n",
       "      <td>32.891</td>\n",
       "      <td>77.252</td>\n",
       "    </tr>\n",
       "    <tr>\n",
       "      <th>379</th>\n",
       "      <td>Lewis HAMILTON</td>\n",
       "      <td>UNKNOWN</td>\n",
       "      <td>27.883</td>\n",
       "      <td>18.464</td>\n",
       "      <td>34.065</td>\n",
       "      <td>80.412</td>\n",
       "    </tr>\n",
       "  </tbody>\n",
       "</table>\n",
       "</div>"
      ],
      "text/plain": [
       "           full_name compound  duration_sector_1  duration_sector_2  \\\n",
       "169  Charles LECLERC   MEDIUM             26.947             17.646   \n",
       "356     Lando NORRIS     SOFT             26.975             17.386   \n",
       "379   Lewis HAMILTON  UNKNOWN             27.883             18.464   \n",
       "\n",
       "     duration_sector_3  lap_duration  \n",
       "169             33.249        77.842  \n",
       "356             32.891        77.252  \n",
       "379             34.065        80.412  "
      ]
     },
     "execution_count": 14,
     "metadata": {},
     "output_type": "execute_result"
    }
   ],
   "source": [
    "compoundsPace = jointables2.loc[jointables2.groupby(['compound'])['lap_duration'].idxmin()]\n",
    "compoundsPace[['full_name','compound','duration_sector_1','duration_sector_2','duration_sector_3','lap_duration']]"
   ]
  },
  {
   "cell_type": "markdown",
   "metadata": {},
   "source": [
    "### Deltas\n",
    "In this section we can see the deltas of the fastest lap of each driver compared with the fastest lap of the session.\n",
    "As we watched in Pre-season testing, it looks like that McLaren is the fastest on a qualylap with Norris being the fastest and Piastri P4 because he was on traffic in his last sector it is shown in the third sector graphic.\n",
    "Sainz showed a good pace, mainly in the first sector, when he was the fastest. With Albon's fastest lap, it looks like that Williams will be strong in the first and third sector, regardless ALbon's time due to he made a mistake.\n",
    "In sector 2, I watch RB very strong being Tsunoda the fifth fastest and Hadjar seventh.\n",
    "In sector 3, Aston could have a good performance and Ferrari could fight versus McLaren in this sector."
   ]
  },
  {
   "cell_type": "code",
   "execution_count": 15,
   "metadata": {},
   "outputs": [],
   "source": [
    "practiceCleaned = jointables2.query(\"lap_duration >1\")\n",
    "drivers_list = list(practiceCleaned['driver_number'].unique())\n",
    "newdataset = pd.DataFrame()\n",
    "for driver in drivers_list:\n",
    "    newdataset =libraryDataF1.obtain_fastest_lap(driver,practiceCleaned,newdataset)\n",
    "\n",
    "arr= libraryDataF1.obtain_deltas(newdataset)\n",
    "newdataset.insert(3,'delta',arr)\n"
   ]
  },
  {
   "cell_type": "code",
   "execution_count": 16,
   "metadata": {},
   "outputs": [
    {
     "data": {
      "image/png": "[encoded data removed]",
      "text/plain": [
       "<Figure size 1200x900 with 1 Axes>"
      ]
     },
     "metadata": {},
     "output_type": "display_data"
    }
   ],
   "source": [
    "dt = newdataset.sort_values(ascending=True,by='delta')\n",
    "libraryDataF1.obtainchart(\"name_acronym\",\"delta\",dt)"
   ]
  },
  {
   "cell_type": "markdown",
   "metadata": {},
   "source": [
    "### Track dominance\n",
    "In this section, best sector are taken of each sector to see the car's performance in each sector."
   ]
  },
  {
   "cell_type": "code",
   "execution_count": 17,
   "metadata": {},
   "outputs": [
    {
     "data": {
      "image/png": "[encoded data removed]",
      "text/plain": [
       "<Figure size 1200x900 with 1 Axes>"
      ]
     },
     "metadata": {},
     "output_type": "display_data"
    }
   ],
   "source": [
    "sectorPace = jointables2.loc[jointables2.groupby(['driver_number'])['duration_sector_1'].idxmin()].sort_values(by=['duration_sector_1'],ascending=True)\n",
    "libraryDataF1.obtainchart(\"name_acronym\",\"duration_sector_1\",sectorPace)"
   ]
  },
  {
   "cell_type": "code",
   "execution_count": 18,
   "metadata": {},
   "outputs": [
    {
     "data": {
      "image/png": "[encoded data removed]",
      "text/plain": [
       "<Figure size 1200x900 with 1 Axes>"
      ]
     },
     "metadata": {},
     "output_type": "display_data"
    }
   ],
   "source": [
    "sectorPace = jointables2.loc[jointables2.groupby(['driver_number'])['duration_sector_2'].idxmin()].sort_values(by=['duration_sector_2'],ascending=True)\n",
    "libraryDataF1.obtainchart(\"name_acronym\",\"duration_sector_2\",sectorPace)"
   ]
  },
  {
   "cell_type": "code",
   "execution_count": 19,
   "metadata": {},
   "outputs": [
    {
     "data": {
      "image/png": "[encoded data removed]",
      "text/plain": [
       "<Figure size 1200x900 with 1 Axes>"
      ]
     },
     "metadata": {},
     "output_type": "display_data"
    }
   ],
   "source": [
    "sectorPace = jointables2.loc[jointables2.groupby(['driver_number'])['duration_sector_3'].idxmin()].sort_values(by=['duration_sector_3'],ascending=True)\n",
    "libraryDataF1.obtainchart(\"name_acronym\",\"duration_sector_3\",sectorPace)"
   ]
  },
  {
   "cell_type": "markdown",
   "metadata": {},
   "source": [
    "### Mean pace with the different compound used on the session"
   ]
  },
  {
   "cell_type": "code",
   "execution_count": 20,
   "metadata": {},
   "outputs": [
    {
     "data": {
      "text/html": [
       "<div>\n",
       "<style scoped>\n",
       "    .dataframe tbody tr th:only-of-type {\n",
       "        vertical-align: middle;\n",
       "    }\n",
       "\n",
       "    .dataframe tbody tr th {\n",
       "        vertical-align: top;\n",
       "    }\n",
       "\n",
       "    .dataframe thead th {\n",
       "        text-align: right;\n",
       "    }\n",
       "</style>\n",
       "<table border=\"1\" class=\"dataframe\">\n",
       "  <thead>\n",
       "    <tr style=\"text-align: right;\">\n",
       "      <th></th>\n",
       "      <th>lap_duration</th>\n",
       "    </tr>\n",
       "    <tr>\n",
       "      <th>compound</th>\n",
       "      <th></th>\n",
       "    </tr>\n",
       "  </thead>\n",
       "  <tbody>\n",
       "    <tr>\n",
       "      <th>SOFT</th>\n",
       "      <td>79.630432</td>\n",
       "    </tr>\n",
       "    <tr>\n",
       "      <th>UNKNOWN</th>\n",
       "      <td>80.412000</td>\n",
       "    </tr>\n",
       "    <tr>\n",
       "      <th>MEDIUM</th>\n",
       "      <td>81.124065</td>\n",
       "    </tr>\n",
       "  </tbody>\n",
       "</table>\n",
       "</div>"
      ],
      "text/plain": [
       "          lap_duration\n",
       "compound              \n",
       "SOFT         79.630432\n",
       "UNKNOWN      80.412000\n",
       "MEDIUM       81.124065"
      ]
     },
     "execution_count": 20,
     "metadata": {},
     "output_type": "execute_result"
    }
   ],
   "source": [
    "race_pace = pd.DataFrame(jointables2.query(\"is_pit_out_lap == False  and lap_duration <= 90\").groupby(\"compound\")['lap_duration'].mean().sort_values(ascending=True))\n",
    "race_pace"
   ]
  },
  {
   "cell_type": "markdown",
   "metadata": {},
   "source": [
    "## Free Practice 2\n",
    "### Obtain setup"
   ]
  },
  {
   "cell_type": "code",
   "execution_count": null,
   "metadata": {},
   "outputs": [],
   "source": [
    "practice = libraryDataF1.obtain_information('laps',session_key=9482)\n",
    "stintInformation = libraryDataF1.obtain_information('stints',session_key=9482)\n",
    "drivers = libraryDataF1.obtain_information('drivers',session_key=9482)"
   ]
  },
  {
   "cell_type": "code",
   "execution_count": null,
   "metadata": {},
   "outputs": [],
   "source": [
    "stintsDataFrame =libraryDataF1.stint_configuration(drivers,stintInformation)\n",
    "jointables2 = pd.merge(practice,stintsDataFrame,on=['lap_number','driver_number'])\n",
    "libraryDataF1.obtain_drivers_colours(drivers)"
   ]
  },
  {
   "cell_type": "markdown",
   "metadata": {},
   "source": [
    "### Speed trap"
   ]
  },
  {
   "cell_type": "code",
   "execution_count": null,
   "metadata": {},
   "outputs": [],
   "source": [
    "top_speed = jointables2.loc[jointables2.groupby(['name_acronym'])['st_speed'].idxmax()].sort_values(by=['st_speed'],ascending=False)\n",
    "libraryDataF1.obtainchart(\"name_acronym\",\"st_speed\",top_speed)"
   ]
  },
  {
   "cell_type": "code",
   "execution_count": null,
   "metadata": {},
   "outputs": [],
   "source": [
    "top_speed = jointables2.loc[jointables2.groupby(['name_acronym'])['i1_speed'].idxmax()].sort_values(by=['i1_speed'],ascending=False)\n",
    "libraryDataF1.obtainchart(\"name_acronym\",\"i1_speed\",top_speed)"
   ]
  },
  {
   "cell_type": "code",
   "execution_count": null,
   "metadata": {},
   "outputs": [],
   "source": [
    "top_speed = jointables2.loc[jointables2.groupby(['name_acronym'])['i2_speed'].idxmax()].sort_values(by=['i2_speed'],ascending=False)\n",
    "libraryDataF1.obtainchart(\"name_acronym\",\"i2_speed\",top_speed)"
   ]
  },
  {
   "cell_type": "markdown",
   "metadata": {},
   "source": [
    "### Fastest lap per compound\n",
    "In this section, I will show the best lap with the different compounds of the session. "
   ]
  },
  {
   "cell_type": "code",
   "execution_count": null,
   "metadata": {},
   "outputs": [],
   "source": [
    "compoundsPace = jointables2.loc[jointables2.groupby(['compound'])['lap_duration'].idxmin()]\n",
    "compoundsPace[['full_name','compound','duration_sector_1','duration_sector_2','duration_sector_3','lap_duration']]"
   ]
  },
  {
   "cell_type": "markdown",
   "metadata": {},
   "source": [
    "### Deltas\n",
    "In this section we can see the deltas of the fastest lap of each driver compared with the fastest lap of the session"
   ]
  },
  {
   "cell_type": "code",
   "execution_count": null,
   "metadata": {},
   "outputs": [],
   "source": [
    "practiceCleaned = jointables2.query(\"lap_duration >1\")\n",
    "drivers_list = list(practiceCleaned['driver_number'].unique())\n",
    "newdataset = pd.DataFrame()\n",
    "for driver in drivers_list:\n",
    "    newdataset =libraryDataF1.obtain_fastest_lap(driver,practiceCleaned,newdataset)\n",
    "\n",
    "arr= libraryDataF1.obtain_deltas(newdataset)\n",
    "newdataset.insert(3,'delta',arr)\n"
   ]
  },
  {
   "cell_type": "code",
   "execution_count": null,
   "metadata": {},
   "outputs": [],
   "source": [
    "dt = newdataset.sort_values(ascending=True,by='delta')\n",
    "libraryDataF1.obtainchart(\"name_acronym\",\"delta\",dt)"
   ]
  },
  {
   "cell_type": "markdown",
   "metadata": {},
   "source": [
    "### Track dominance\n",
    "In this section, best sector are taken of each sector to see the car's performance in each sector."
   ]
  },
  {
   "cell_type": "code",
   "execution_count": null,
   "metadata": {},
   "outputs": [],
   "source": [
    "sectorPace = jointables2.loc[jointables2.groupby(['driver_number'])['duration_sector_1'].idxmin()].sort_values(by=['duration_sector_1'],ascending=True)\n",
    "libraryDataF1.obtainchart(\"name_acronym\",\"duration_sector_1\",sectorPace)"
   ]
  },
  {
   "cell_type": "code",
   "execution_count": null,
   "metadata": {},
   "outputs": [],
   "source": [
    "sectorPace = jointables2.loc[jointables2.groupby(['driver_number'])['duration_sector_2'].idxmin()].sort_values(by=['duration_sector_2'],ascending=True)\n",
    "libraryDataF1.obtainchart(\"name_acronym\",\"duration_sector_2\",sectorPace)"
   ]
  },
  {
   "cell_type": "code",
   "execution_count": null,
   "metadata": {},
   "outputs": [],
   "source": [
    "sectorPace = jointables2.loc[jointables2.groupby(['driver_number'])['duration_sector_3'].idxmin()].sort_values(by=['duration_sector_3'],ascending=True)\n",
    "libraryDataF1.obtainchart(\"name_acronym\",\"duration_sector_3\",sectorPace)"
   ]
  },
  {
   "cell_type": "markdown",
   "metadata": {},
   "source": [
    "### Mean pace with the different compound used on the session"
   ]
  },
  {
   "cell_type": "code",
   "execution_count": null,
   "metadata": {},
   "outputs": [],
   "source": [
    "race_pace = pd.DataFrame(jointables2.query(\"is_pit_out_lap == False  and lap_duration <= 95\").groupby(\"compound\")['lap_duration'].mean().sort_values(ascending=True))\n",
    "race_pace"
   ]
  },
  {
   "cell_type": "markdown",
   "metadata": {},
   "source": [
    "### Long runs"
   ]
  },
  {
   "cell_type": "code",
   "execution_count": null,
   "metadata": {},
   "outputs": [],
   "source": [
    "MINIMUN_SECONDS = 76\n",
    "MAXIMUM_SECONDS = 93"
   ]
  },
  {
   "cell_type": "markdown",
   "metadata": {},
   "source": [
    "#### Red Bull Racing"
   ]
  },
  {
   "cell_type": "code",
   "execution_count": null,
   "metadata": {},
   "outputs": [],
   "source": [
    "stintInformation.query('driver_number == 1 or driver_number == 11')"
   ]
  },
  {
   "cell_type": "code",
   "execution_count": null,
   "metadata": {},
   "outputs": [],
   "source": [
    "data = libraryDataF1.getinfolongruns(jointables2,1,'Red Bull Racing',MINIMUN_SECONDS,MAXIMUM_SECONDS)\n",
    "data"
   ]
  },
  {
   "cell_type": "code",
   "execution_count": null,
   "metadata": {},
   "outputs": [],
   "source": [
    "if len(data) != 0:\n",
    "    libraryDataF1.race_pace_graph(data)"
   ]
  },
  {
   "cell_type": "code",
   "execution_count": null,
   "metadata": {},
   "outputs": [],
   "source": [
    "if len(data) != 0:\n",
    "    libraryDataF1.race_pace_divided_per_sectors(data)"
   ]
  },
  {
   "cell_type": "code",
   "execution_count": null,
   "metadata": {},
   "outputs": [],
   "source": [
    "data = libraryDataF1.getinfolongruns(jointables2,11,'Red Bull Racing',MINIMUN_SECONDS,MAXIMUM_SECONDS)\n",
    "data"
   ]
  },
  {
   "cell_type": "code",
   "execution_count": null,
   "metadata": {},
   "outputs": [],
   "source": [
    "if len(data) != 0:\n",
    "    libraryDataF1.race_pace_graph(data)"
   ]
  },
  {
   "cell_type": "code",
   "execution_count": null,
   "metadata": {},
   "outputs": [],
   "source": [
    "if len(data) != 0:\n",
    "    libraryDataF1.race_pace_divided_per_sectors(data)"
   ]
  },
  {
   "cell_type": "markdown",
   "metadata": {},
   "source": [
    "#### Ferrari"
   ]
  },
  {
   "cell_type": "code",
   "execution_count": null,
   "metadata": {},
   "outputs": [],
   "source": [
    "stintInformation.query('driver_number == 55 or driver_number == 16')"
   ]
  },
  {
   "cell_type": "code",
   "execution_count": null,
   "metadata": {},
   "outputs": [],
   "source": [
    "data = libraryDataF1.getinfolongruns(jointables2,16,'Ferrari',MINIMUN_SECONDS,MAXIMUM_SECONDS)\n",
    "data"
   ]
  },
  {
   "cell_type": "code",
   "execution_count": null,
   "metadata": {},
   "outputs": [],
   "source": [
    "if len(data) != 0:\n",
    "    libraryDataF1.race_pace_graph(data)"
   ]
  },
  {
   "cell_type": "code",
   "execution_count": null,
   "metadata": {},
   "outputs": [],
   "source": [
    "if len(data) != 0:\n",
    "    libraryDataF1.race_pace_divided_per_sectors(data)"
   ]
  },
  {
   "cell_type": "code",
   "execution_count": null,
   "metadata": {},
   "outputs": [],
   "source": [
    "data = libraryDataF1.getinfolongruns(jointables2,55,'Ferrari',MINIMUN_SECONDS,MAXIMUM_SECONDS)\n",
    "data"
   ]
  },
  {
   "cell_type": "code",
   "execution_count": null,
   "metadata": {},
   "outputs": [],
   "source": [
    "if len(data) != 0:\n",
    "    libraryDataF1.race_pace_graph(data)"
   ]
  },
  {
   "cell_type": "code",
   "execution_count": null,
   "metadata": {},
   "outputs": [],
   "source": [
    "if len(data) != 0:\n",
    "    libraryDataF1.race_pace_divided_per_sectors(data)"
   ]
  },
  {
   "cell_type": "markdown",
   "metadata": {},
   "source": [
    "#### Mercedes"
   ]
  },
  {
   "cell_type": "code",
   "execution_count": null,
   "metadata": {},
   "outputs": [],
   "source": [
    "stintInformation.query('driver_number == 63 or driver_number == 44')"
   ]
  },
  {
   "cell_type": "code",
   "execution_count": null,
   "metadata": {},
   "outputs": [],
   "source": [
    "data = libraryDataF1.getinfolongruns(jointables2,44,'Mercedes',MINIMUN_SECONDS,MAXIMUM_SECONDS)\n",
    "data"
   ]
  },
  {
   "cell_type": "code",
   "execution_count": null,
   "metadata": {},
   "outputs": [],
   "source": [
    "if len(data) != 0:\n",
    "    libraryDataF1.race_pace_graph(data)"
   ]
  },
  {
   "cell_type": "code",
   "execution_count": null,
   "metadata": {},
   "outputs": [],
   "source": [
    "if len(data) != 0:\n",
    "    libraryDataF1.race_pace_divided_per_sectors(data)"
   ]
  },
  {
   "cell_type": "code",
   "execution_count": null,
   "metadata": {},
   "outputs": [],
   "source": [
    "data = libraryDataF1.getinfolongruns(jointables2,63,'Mercedes',MINIMUN_SECONDS,MAXIMUM_SECONDS)\n",
    "data"
   ]
  },
  {
   "cell_type": "code",
   "execution_count": null,
   "metadata": {},
   "outputs": [],
   "source": [
    "if len(data) != 0:\n",
    "    libraryDataF1.race_pace_graph(data)"
   ]
  },
  {
   "cell_type": "code",
   "execution_count": null,
   "metadata": {},
   "outputs": [],
   "source": [
    "if len(data) != 0:\n",
    "    libraryDataF1.race_pace_divided_per_sectors(data)"
   ]
  },
  {
   "cell_type": "markdown",
   "metadata": {},
   "source": [
    "#### McLaren"
   ]
  },
  {
   "cell_type": "code",
   "execution_count": null,
   "metadata": {},
   "outputs": [],
   "source": [
    "stintInformation.query('driver_number == 81 or driver_number == 4')"
   ]
  },
  {
   "cell_type": "code",
   "execution_count": null,
   "metadata": {},
   "outputs": [],
   "source": [
    "data = libraryDataF1.getinfolongruns(jointables2,4,'McLaren',MINIMUN_SECONDS,MAXIMUM_SECONDS)\n",
    "data"
   ]
  },
  {
   "cell_type": "code",
   "execution_count": null,
   "metadata": {},
   "outputs": [],
   "source": [
    "if len(data) != 0:\n",
    "    libraryDataF1.race_pace_graph(data)"
   ]
  },
  {
   "cell_type": "code",
   "execution_count": null,
   "metadata": {},
   "outputs": [],
   "source": [
    "if len(data) != 0:\n",
    "    libraryDataF1.race_pace_divided_per_sectors(data)"
   ]
  },
  {
   "cell_type": "code",
   "execution_count": null,
   "metadata": {},
   "outputs": [],
   "source": [
    "data = libraryDataF1.getinfolongruns(jointables2,81,'McLaren',MINIMUN_SECONDS,MAXIMUM_SECONDS)\n",
    "data"
   ]
  },
  {
   "cell_type": "code",
   "execution_count": null,
   "metadata": {},
   "outputs": [],
   "source": [
    "if len(data) != 0:\n",
    "    libraryDataF1.race_pace_graph(data)"
   ]
  },
  {
   "cell_type": "code",
   "execution_count": null,
   "metadata": {},
   "outputs": [],
   "source": [
    "if len(data) != 0:\n",
    "    libraryDataF1.race_pace_divided_per_sectors(data)"
   ]
  },
  {
   "cell_type": "markdown",
   "metadata": {},
   "source": [
    "#### Aston Martin"
   ]
  },
  {
   "cell_type": "code",
   "execution_count": null,
   "metadata": {},
   "outputs": [],
   "source": [
    "stintInformation.query('driver_number == 18 or driver_number == 14')"
   ]
  },
  {
   "cell_type": "code",
   "execution_count": null,
   "metadata": {},
   "outputs": [],
   "source": [
    "data = libraryDataF1.getinfolongruns(jointables2,14,'Aston Martin',MINIMUN_SECONDS,MAXIMUM_SECONDS)\n",
    "data"
   ]
  },
  {
   "cell_type": "code",
   "execution_count": null,
   "metadata": {},
   "outputs": [],
   "source": [
    "if len(data) != 0:\n",
    "    libraryDataF1.race_pace_graph(data)"
   ]
  },
  {
   "cell_type": "code",
   "execution_count": null,
   "metadata": {},
   "outputs": [],
   "source": [
    "if len(data) != 0:\n",
    "    libraryDataF1.race_pace_divided_per_sectors(data)"
   ]
  },
  {
   "cell_type": "code",
   "execution_count": null,
   "metadata": {},
   "outputs": [],
   "source": [
    "data = libraryDataF1.getinfolongruns(jointables2,18,'Aston Martin',MINIMUN_SECONDS,MAXIMUM_SECONDS)\n",
    "data"
   ]
  },
  {
   "cell_type": "code",
   "execution_count": null,
   "metadata": {},
   "outputs": [],
   "source": [
    "if len(data) != 0:\n",
    "    libraryDataF1.race_pace_graph(data)"
   ]
  },
  {
   "cell_type": "code",
   "execution_count": null,
   "metadata": {},
   "outputs": [],
   "source": [
    "if len(data) != 0:\n",
    "    libraryDataF1.race_pace_divided_per_sectors(data)"
   ]
  },
  {
   "cell_type": "markdown",
   "metadata": {},
   "source": [
    "#### RB"
   ]
  },
  {
   "cell_type": "code",
   "execution_count": null,
   "metadata": {},
   "outputs": [],
   "source": [
    "stintInformation.query('driver_number == 3 or driver_number == 22')"
   ]
  },
  {
   "cell_type": "code",
   "execution_count": null,
   "metadata": {},
   "outputs": [],
   "source": [
    "data = libraryDataF1.getinfolongruns(jointables2,3,'RB',MINIMUN_SECONDS,MAXIMUM_SECONDS)\n",
    "data"
   ]
  },
  {
   "cell_type": "code",
   "execution_count": null,
   "metadata": {},
   "outputs": [],
   "source": [
    "if len(data) != 0:\n",
    "    libraryDataF1.race_pace_graph(data)"
   ]
  },
  {
   "cell_type": "code",
   "execution_count": null,
   "metadata": {},
   "outputs": [],
   "source": [
    "if len(data) != 0:\n",
    "    libraryDataF1.race_pace_divided_per_sectors(data)"
   ]
  },
  {
   "cell_type": "code",
   "execution_count": null,
   "metadata": {},
   "outputs": [],
   "source": [
    "data = libraryDataF1.getinfolongruns(jointables2,22,'RB',MINIMUN_SECONDS,MAXIMUM_SECONDS)\n",
    "data"
   ]
  },
  {
   "cell_type": "code",
   "execution_count": null,
   "metadata": {},
   "outputs": [],
   "source": [
    "if len(data) != 0:\n",
    "    libraryDataF1.race_pace_graph(data)"
   ]
  },
  {
   "cell_type": "code",
   "execution_count": null,
   "metadata": {},
   "outputs": [],
   "source": [
    "if len(data) != 0:\n",
    "    libraryDataF1.race_pace_divided_per_sectors(data)"
   ]
  },
  {
   "cell_type": "markdown",
   "metadata": {},
   "source": [
    "#### Haas"
   ]
  },
  {
   "cell_type": "code",
   "execution_count": null,
   "metadata": {},
   "outputs": [],
   "source": [
    "stintInformation.query('driver_number == 20 or driver_number == 27')"
   ]
  },
  {
   "cell_type": "code",
   "execution_count": null,
   "metadata": {},
   "outputs": [],
   "source": [
    "data = libraryDataF1.getinfolongruns(jointables2,20,'Haas F1 Team',MINIMUN_SECONDS,MAXIMUM_SECONDS)\n",
    "data"
   ]
  },
  {
   "cell_type": "code",
   "execution_count": null,
   "metadata": {},
   "outputs": [],
   "source": [
    "if len(data) != 0:\n",
    "    libraryDataF1.race_pace_graph(data)"
   ]
  },
  {
   "cell_type": "code",
   "execution_count": null,
   "metadata": {},
   "outputs": [],
   "source": [
    "if len(data) != 0:\n",
    "    libraryDataF1.race_pace_divided_per_sectors(data)"
   ]
  },
  {
   "cell_type": "code",
   "execution_count": null,
   "metadata": {},
   "outputs": [],
   "source": [
    "data = libraryDataF1.getinfolongruns(jointables2,27,'Haas F1 Team',MINIMUN_SECONDS,MAXIMUM_SECONDS)\n",
    "data\n"
   ]
  },
  {
   "cell_type": "code",
   "execution_count": null,
   "metadata": {},
   "outputs": [],
   "source": [
    "if len(data) != 0:\n",
    "    libraryDataF1.race_pace_graph(data)"
   ]
  },
  {
   "cell_type": "code",
   "execution_count": null,
   "metadata": {},
   "outputs": [],
   "source": [
    "if len(data) != 0:\n",
    "    libraryDataF1.race_pace_divided_per_sectors(data)"
   ]
  },
  {
   "cell_type": "markdown",
   "metadata": {},
   "source": [
    "#### Alpine"
   ]
  },
  {
   "cell_type": "code",
   "execution_count": null,
   "metadata": {},
   "outputs": [],
   "source": [
    "stintInformation.query('driver_number == 10 or driver_number == 31')"
   ]
  },
  {
   "cell_type": "code",
   "execution_count": null,
   "metadata": {},
   "outputs": [],
   "source": [
    "data =libraryDataF1.getinfolongruns(jointables2,31,'Alpine',MINIMUN_SECONDS,MAXIMUM_SECONDS)\n",
    "data"
   ]
  },
  {
   "cell_type": "code",
   "execution_count": null,
   "metadata": {},
   "outputs": [],
   "source": [
    "if len(data) != 0:\n",
    "    libraryDataF1.race_pace_graph(data)"
   ]
  },
  {
   "cell_type": "code",
   "execution_count": null,
   "metadata": {},
   "outputs": [],
   "source": [
    "if len(data) != 0:\n",
    "    libraryDataF1.race_pace_divided_per_sectors(data)"
   ]
  },
  {
   "cell_type": "code",
   "execution_count": null,
   "metadata": {},
   "outputs": [],
   "source": [
    "data = libraryDataF1.getinfolongruns(jointables2,10,'Alpine',MINIMUN_SECONDS,MAXIMUM_SECONDS)\n",
    "data"
   ]
  },
  {
   "cell_type": "code",
   "execution_count": null,
   "metadata": {},
   "outputs": [],
   "source": [
    "if len(data) != 0:\n",
    "    libraryDataF1.race_pace_graph(data)"
   ]
  },
  {
   "cell_type": "code",
   "execution_count": null,
   "metadata": {},
   "outputs": [],
   "source": [
    "if len(data) != 0:\n",
    "    libraryDataF1.race_pace_divided_per_sectors(data)"
   ]
  },
  {
   "cell_type": "markdown",
   "metadata": {},
   "source": [
    "#### Williams"
   ]
  },
  {
   "cell_type": "code",
   "execution_count": null,
   "metadata": {},
   "outputs": [],
   "source": [
    "stintInformation.query('driver_number == 2 or driver_number == 23')"
   ]
  },
  {
   "cell_type": "code",
   "execution_count": null,
   "metadata": {},
   "outputs": [],
   "source": [
    "data = libraryDataF1.getinfolongruns(jointables2,23,'Williams',MINIMUN_SECONDS,MAXIMUM_SECONDS)\n",
    "data"
   ]
  },
  {
   "cell_type": "code",
   "execution_count": null,
   "metadata": {},
   "outputs": [],
   "source": [
    "if len(data) != 0:\n",
    "    libraryDataF1.race_pace_graph(data)"
   ]
  },
  {
   "cell_type": "code",
   "execution_count": null,
   "metadata": {},
   "outputs": [],
   "source": [
    "if len(data) != 0:\n",
    "    libraryDataF1.race_pace_divided_per_sectors(data)"
   ]
  },
  {
   "cell_type": "code",
   "execution_count": null,
   "metadata": {},
   "outputs": [],
   "source": [
    "data= libraryDataF1.getinfolongruns(jointables2,2,'Williams',MINIMUN_SECONDS,MAXIMUM_SECONDS)\n",
    "data"
   ]
  },
  {
   "cell_type": "code",
   "execution_count": null,
   "metadata": {},
   "outputs": [],
   "source": [
    "if len(data) != 0:\n",
    "    libraryDataF1.race_pace_graph(data)"
   ]
  },
  {
   "cell_type": "code",
   "execution_count": null,
   "metadata": {},
   "outputs": [],
   "source": [
    "if len(data) != 0:\n",
    "    libraryDataF1.race_pace_divided_per_sectors(data)"
   ]
  },
  {
   "cell_type": "markdown",
   "metadata": {},
   "source": [
    "#### Kick Sauber"
   ]
  },
  {
   "cell_type": "code",
   "execution_count": null,
   "metadata": {},
   "outputs": [],
   "source": [
    "stintInformation.query('driver_number == 24 or driver_number == 77')"
   ]
  },
  {
   "cell_type": "code",
   "execution_count": null,
   "metadata": {},
   "outputs": [],
   "source": [
    "data = libraryDataF1.getinfolongruns(jointables2,24,'Kick Sauber',MINIMUN_SECONDS,MAXIMUM_SECONDS)\n",
    "data"
   ]
  },
  {
   "cell_type": "code",
   "execution_count": null,
   "metadata": {},
   "outputs": [],
   "source": [
    "if len(data) != 0:\n",
    "    libraryDataF1.race_pace_graph(data)"
   ]
  },
  {
   "cell_type": "code",
   "execution_count": null,
   "metadata": {},
   "outputs": [],
   "source": [
    "if len(data) != 0:\n",
    "    libraryDataF1.race_pace_divided_per_sectors(data)"
   ]
  },
  {
   "cell_type": "code",
   "execution_count": null,
   "metadata": {},
   "outputs": [],
   "source": [
    "data = libraryDataF1.getinfolongruns(jointables2,77,'Kick Sauber',MINIMUN_SECONDS,MAXIMUM_SECONDS)\n",
    "data"
   ]
  },
  {
   "cell_type": "code",
   "execution_count": null,
   "metadata": {},
   "outputs": [],
   "source": [
    "if len(data) != 0:\n",
    "    libraryDataF1.race_pace_graph(data)"
   ]
  },
  {
   "cell_type": "code",
   "execution_count": null,
   "metadata": {},
   "outputs": [],
   "source": [
    "if len(data) != 0:\n",
    "    libraryDataF1.race_pace_divided_per_sectors(data)"
   ]
  },
  {
   "cell_type": "markdown",
   "metadata": {},
   "source": [
    "#### Long runs mean for each driver"
   ]
  },
  {
   "cell_type": "code",
   "execution_count": null,
   "metadata": {},
   "outputs": [],
   "source": [
    "longrun_data = libraryDataF1.obtainLongRunData(drivers,jointables2,MINIMUN_SECONDS,MAXIMUM_SECONDS)"
   ]
  },
  {
   "cell_type": "markdown",
   "metadata": {},
   "source": [
    "##### Sorted by lap duration"
   ]
  },
  {
   "cell_type": "code",
   "execution_count": null,
   "metadata": {},
   "outputs": [],
   "source": [
    "sorted_laps = pd.DataFrame(longrun_data,columns=['driver','compound','lap_duration','sector1','sector2','sector3'])"
   ]
  },
  {
   "cell_type": "code",
   "execution_count": null,
   "metadata": {},
   "outputs": [],
   "source": [
    "sorted_laps.sort_values(by='lap_duration',ascending=True)"
   ]
  },
  {
   "cell_type": "markdown",
   "metadata": {},
   "source": [
    "##### Sorted by sector 1"
   ]
  },
  {
   "cell_type": "code",
   "execution_count": null,
   "metadata": {},
   "outputs": [],
   "source": [
    "sorted_laps.sort_values(by='sector1',ascending=True)[['driver','compound','sector1']]"
   ]
  },
  {
   "cell_type": "markdown",
   "metadata": {},
   "source": [
    "##### Sorted by sector 2"
   ]
  },
  {
   "cell_type": "code",
   "execution_count": null,
   "metadata": {},
   "outputs": [],
   "source": [
    "sorted_laps.sort_values(by='sector2',ascending=True)[['driver','compound','sector2']]"
   ]
  },
  {
   "cell_type": "markdown",
   "metadata": {},
   "source": [
    "##### Sorted by sector 3"
   ]
  },
  {
   "cell_type": "code",
   "execution_count": null,
   "metadata": {},
   "outputs": [],
   "source": [
    "sorted_laps.sort_values(by='sector3',ascending=True)[['driver','compound','sector3']]"
   ]
  },
  {
   "cell_type": "markdown",
   "metadata": {},
   "source": [
    "#### Long runs mean"
   ]
  },
  {
   "cell_type": "code",
   "execution_count": null,
   "metadata": {},
   "outputs": [],
   "source": [
    "longruns_summary = libraryDataF1.obtainMeanLongRuns(drivers,jointables2,MINIMUN_SECONDS,MAXIMUM_SECONDS)"
   ]
  },
  {
   "cell_type": "markdown",
   "metadata": {},
   "source": [
    "##### Mean pace per compound"
   ]
  },
  {
   "cell_type": "code",
   "execution_count": null,
   "metadata": {},
   "outputs": [],
   "source": [
    "libraryDataF1.showDataLongRuns(longruns_summary,\"MEDIUM\",\"mean_lap_time\",['driver','mean_lap_time'])"
   ]
  },
  {
   "cell_type": "code",
   "execution_count": null,
   "metadata": {},
   "outputs": [],
   "source": [
    "libraryDataF1.showDataLongRuns(longruns_summary,\"SOFT\",\"mean_lap_time\",['driver','mean_lap_time'])"
   ]
  },
  {
   "cell_type": "code",
   "execution_count": null,
   "metadata": {},
   "outputs": [],
   "source": [
    "libraryDataF1.showDataLongRuns(longruns_summary,\"HARD\",\"mean_lap_time\",['driver','mean_lap_time'])"
   ]
  },
  {
   "cell_type": "markdown",
   "metadata": {},
   "source": [
    "## Free Practice 3\n",
    "### Obtain setup"
   ]
  },
  {
   "cell_type": "code",
   "execution_count": null,
   "metadata": {},
   "outputs": [],
   "source": [
    "practice = libraryDataF1.obtain_information('laps',session_key=9483)\n",
    "stintInformation = libraryDataF1.obtain_information('stints',session_key=9483)\n",
    "drivers = libraryDataF1.obtain_information('drivers',session_key=9483)"
   ]
  },
  {
   "cell_type": "code",
   "execution_count": null,
   "metadata": {},
   "outputs": [],
   "source": [
    "stintsDataFrame =libraryDataF1.stint_configuration(drivers,stintInformation)\n",
    "jointables2 = pd.merge(practice,stintsDataFrame,on=['lap_number','driver_number'])\n",
    "libraryDataF1.obtain_drivers_colours(drivers)"
   ]
  },
  {
   "cell_type": "code",
   "execution_count": null,
   "metadata": {},
   "outputs": [],
   "source": [
    "session = ff1.get_session(2024, 3, 'FP3')\n",
    "session.load();"
   ]
  },
  {
   "cell_type": "markdown",
   "metadata": {},
   "source": [
    "### Speed trap"
   ]
  },
  {
   "cell_type": "code",
   "execution_count": null,
   "metadata": {},
   "outputs": [],
   "source": [
    "top_speed = jointables2.loc[jointables2.groupby(['name_acronym'])['st_speed'].idxmax()].sort_values(by=['st_speed'],ascending=False)\n",
    "libraryDataF1.obtainchart(\"name_acronym\",\"st_speed\",top_speed)"
   ]
  },
  {
   "cell_type": "code",
   "execution_count": null,
   "metadata": {},
   "outputs": [],
   "source": [
    "top_speed = jointables2.loc[jointables2.groupby(['name_acronym'])['i1_speed'].idxmax()].sort_values(by=['i1_speed'],ascending=False)\n",
    "libraryDataF1.obtainchart(\"name_acronym\",\"i1_speed\",top_speed)"
   ]
  },
  {
   "cell_type": "code",
   "execution_count": null,
   "metadata": {},
   "outputs": [],
   "source": [
    "top_speed = jointables2.loc[jointables2.groupby(['name_acronym'])['i2_speed'].idxmax()].sort_values(by=['i2_speed'],ascending=False)\n",
    "libraryDataF1.obtainchart(\"name_acronym\",\"i2_speed\",top_speed)"
   ]
  },
  {
   "cell_type": "markdown",
   "metadata": {},
   "source": [
    "### Fastest lap per compound\n",
    "In this section, I will show the best lap with the different compounds of the session. "
   ]
  },
  {
   "cell_type": "code",
   "execution_count": null,
   "metadata": {},
   "outputs": [],
   "source": [
    "compoundsPace = jointables2.loc[jointables2.groupby(['compound'])['lap_duration'].idxmin()]\n",
    "compoundsPace[['full_name','compound','duration_sector_1','duration_sector_2','duration_sector_3','lap_duration']]"
   ]
  },
  {
   "cell_type": "markdown",
   "metadata": {},
   "source": [
    "### Deltas\n",
    "In this section we can see the deltas of the fastest lap of each driver compared with the fastest lap of the session"
   ]
  },
  {
   "cell_type": "code",
   "execution_count": null,
   "metadata": {},
   "outputs": [],
   "source": [
    "practiceCleaned = jointables2.query(\"lap_duration >1\")\n",
    "drivers_list = list(practiceCleaned['driver_number'].unique())\n",
    "newdataset = pd.DataFrame()\n",
    "for driver in drivers_list:\n",
    "    newdataset =libraryDataF1.obtain_fastest_lap(driver,practiceCleaned,newdataset)\n",
    "\n",
    "arr= libraryDataF1.obtain_deltas(newdataset)\n",
    "newdataset.insert(3,'delta',arr)\n"
   ]
  },
  {
   "cell_type": "code",
   "execution_count": null,
   "metadata": {},
   "outputs": [],
   "source": [
    "dt = newdataset.sort_values(ascending=True,by='delta')\n",
    "libraryDataF1.obtainchart(\"name_acronym\",\"delta\",dt)"
   ]
  },
  {
   "cell_type": "markdown",
   "metadata": {},
   "source": [
    "### Track dominance\n",
    "In this section, best sector are taken of each sector to see the car's performance in each sector."
   ]
  },
  {
   "cell_type": "code",
   "execution_count": null,
   "metadata": {},
   "outputs": [],
   "source": [
    "sectorPace = jointables2.loc[jointables2.groupby(['driver_number'])['duration_sector_1'].idxmin()].sort_values(by=['duration_sector_1'],ascending=True)\n",
    "libraryDataF1.obtainchart(\"name_acronym\",\"duration_sector_1\",sectorPace)"
   ]
  },
  {
   "cell_type": "code",
   "execution_count": null,
   "metadata": {},
   "outputs": [],
   "source": [
    "sectorPace = jointables2.loc[jointables2.groupby(['driver_number'])['duration_sector_2'].idxmin()].sort_values(by=['duration_sector_2'],ascending=True)\n",
    "libraryDataF1.obtainchart(\"name_acronym\",\"duration_sector_2\",sectorPace)"
   ]
  },
  {
   "cell_type": "code",
   "execution_count": null,
   "metadata": {},
   "outputs": [],
   "source": [
    "sectorPace = jointables2.loc[jointables2.groupby(['driver_number'])['duration_sector_3'].idxmin()].sort_values(by=['duration_sector_3'],ascending=True)\n",
    "libraryDataF1.obtainchart(\"name_acronym\",\"duration_sector_3\",sectorPace)"
   ]
  },
  {
   "cell_type": "markdown",
   "metadata": {},
   "source": [
    "### Mean pace with the different compound used on the session"
   ]
  },
  {
   "cell_type": "code",
   "execution_count": null,
   "metadata": {},
   "outputs": [],
   "source": [
    "race_pace = pd.DataFrame(jointables2.query(\"is_pit_out_lap == False  and lap_duration <= 108\").groupby(\"compound\")['lap_duration'].mean().sort_values(ascending=True))\n",
    "race_pace"
   ]
  },
  {
   "cell_type": "markdown",
   "metadata": {},
   "source": [
    "### Comparaison between the poleman and the second"
   ]
  },
  {
   "cell_type": "code",
   "execution_count": null,
   "metadata": {},
   "outputs": [],
   "source": [
    "libraryDataF1.plot_telemetry(\"Distance\",\"Speed\",dt,session)"
   ]
  },
  {
   "cell_type": "code",
   "execution_count": null,
   "metadata": {},
   "outputs": [],
   "source": [
    "libraryDataF1.plot_telemetry(\"Distance\",\"Throttle\",dt,session)"
   ]
  },
  {
   "cell_type": "code",
   "execution_count": null,
   "metadata": {},
   "outputs": [],
   "source": [
    "libraryDataF1.plot_telemetry(\"Distance\",\"Brake\",dt,session)"
   ]
  },
  {
   "cell_type": "code",
   "execution_count": null,
   "metadata": {},
   "outputs": [],
   "source": [
    "libraryDataF1.plot_telemetry(\"Distance\",\"nGear\",dt,session)"
   ]
  },
  {
   "cell_type": "markdown",
   "metadata": {},
   "source": [
    "## Qualyfing\n",
    "### Set up\n",
    "First of all, it is neccesary to obtain the data about the qualyfing\n",
    "#### Race control\n",
    "This section has been added in order to know which laps has been deleted and knowing what happened on track during this session."
   ]
  },
  {
   "cell_type": "code",
   "execution_count": null,
   "metadata": {},
   "outputs": [],
   "source": [
    "libraryDataF1.obtain_information('race_control',session_key=9484)"
   ]
  },
  {
   "cell_type": "markdown",
   "metadata": {},
   "source": [
    "### Obtain setup"
   ]
  },
  {
   "cell_type": "code",
   "execution_count": null,
   "metadata": {},
   "outputs": [],
   "source": [
    "qualyfing = libraryDataF1.obtain_information('laps',session_key=9484)\n",
    "stintInformation = libraryDataF1.obtain_information('stints',session_key=9484)\n",
    "drivers = libraryDataF1.obtain_information('drivers',session_key=9484)\n",
    "libraryDataF1.obtain_drivers_colours(drivers)"
   ]
  },
  {
   "cell_type": "code",
   "execution_count": null,
   "metadata": {},
   "outputs": [],
   "source": [
    "session = ff1.get_session(2024, 3, 'Q')\n",
    "session.load()\n",
    "session.laps[\"LapTimeSeconds\"] = session.laps[\"LapTime\"].dt.total_seconds()"
   ]
  },
  {
   "cell_type": "markdown",
   "metadata": {},
   "source": [
    "To obtain a better analysis, those laptimes deleted will be removed from this analysis in order to obtain the data with valid values. So that,taking into account the race control table, it will be neccesary to consult the qualyfing data to obtain the ids. "
   ]
  },
  {
   "cell_type": "code",
   "execution_count": null,
   "metadata": {},
   "outputs": [],
   "source": [
    "qualyfing = qualyfing.drop(131)"
   ]
  },
  {
   "cell_type": "code",
   "execution_count": null,
   "metadata": {},
   "outputs": [],
   "source": [
    "bestlap = qualyfing.loc[qualyfing.groupby(['driver_number'])['lap_duration'].idxmin()].sort_values(by=['lap_duration'],ascending=True)\n",
    "bestlap[0:1]"
   ]
  },
  {
   "cell_type": "markdown",
   "metadata": {},
   "source": [
    "In this case, the fastest lap is 89.165 seconds (1.29.165= so that to obtain the competitve laps the fastest lap will be multiplied by 1.07 (95.406 seconds) due to, according to the rules all the drivers have to do unless one lap within this gap."
   ]
  },
  {
   "cell_type": "code",
   "execution_count": null,
   "metadata": {},
   "outputs": [],
   "source": [
    "competitiveLaps = qualyfing.query(\"is_pit_out_lap == False and lap_duration < 95.406\")\n",
    "competitiveLaps"
   ]
  },
  {
   "cell_type": "code",
   "execution_count": null,
   "metadata": {},
   "outputs": [],
   "source": [
    "drivers_list = list(competitiveLaps['driver_number'].unique())\n",
    "newdataset = pd.DataFrame()\n",
    "for driver in drivers_list:\n",
    "    newdataset =libraryDataF1.obtain_information_qualy(driver,competitiveLaps,newdataset)\n",
    "jointables = pd.merge(newdataset,drivers,on=['driver_number'])\n",
    "jointables.sort_values(by=['fastest_lap'],ascending=True)\n",
    "print()"
   ]
  },
  {
   "cell_type": "markdown",
   "metadata": {},
   "source": [
    "#### Best lap per driver compared with the best lap of the session\n",
    "In this chart we can see the deltas with compared with the fastest lap of the session that it could be different than the pole. In this case, this happened with Leclerc taking the best time but not taking the pole because his cest time in Q3 was not the best time of the session."
   ]
  },
  {
   "cell_type": "code",
   "execution_count": null,
   "metadata": {},
   "outputs": [],
   "source": [
    "dt = jointables.sort_values(by=['fastest_lap'],ascending=True)\n",
    "libraryDataF1.obtainchart(\"name_acronym\",\"delta\",dt)"
   ]
  },
  {
   "cell_type": "markdown",
   "metadata": {},
   "source": [
    "### Speed trap"
   ]
  },
  {
   "cell_type": "markdown",
   "metadata": {},
   "source": [
    "#### Maximum speed per drivers"
   ]
  },
  {
   "cell_type": "code",
   "execution_count": null,
   "metadata": {},
   "outputs": [],
   "source": [
    "top_speed = jointables.loc[jointables.groupby(['name_acronym'])['i1_speed'].idxmax()].sort_values(by=['i1_speed'],ascending=False)\n",
    "libraryDataF1.obtainchart(\"name_acronym\",\"i1_speed\",top_speed)"
   ]
  },
  {
   "cell_type": "code",
   "execution_count": null,
   "metadata": {},
   "outputs": [],
   "source": [
    "top_speed = jointables.loc[jointables.groupby(['name_acronym'])['i2_speed'].idxmax()].sort_values(by=['i2_speed'],ascending=False)\n",
    "libraryDataF1.obtainchart(\"name_acronym\",\"i2_speed\",top_speed)"
   ]
  },
  {
   "cell_type": "code",
   "execution_count": null,
   "metadata": {},
   "outputs": [],
   "source": [
    "top_speed = jointables.loc[jointables.groupby(['name_acronym'])['st_speed'].idxmax()].sort_values(by=['st_speed'],ascending=False)\n",
    "libraryDataF1.obtainchart(\"name_acronym\",\"st_speed\",top_speed)"
   ]
  },
  {
   "cell_type": "markdown",
   "metadata": {},
   "source": [
    "### Maximum speed per teams"
   ]
  },
  {
   "cell_type": "code",
   "execution_count": null,
   "metadata": {},
   "outputs": [],
   "source": [
    "top_speed = jointables.loc[jointables.groupby(['team_name'])['i1_speed'].idxmax()].sort_values(by=['i1_speed'],ascending=False)\n",
    "libraryDataF1.obtainchart(\"team_name\",\"i1_speed\",top_speed)"
   ]
  },
  {
   "cell_type": "code",
   "execution_count": null,
   "metadata": {},
   "outputs": [],
   "source": [
    "top_speed = jointables.loc[jointables.groupby(['team_name'])['i2_speed'].idxmax()].sort_values(by=['i2_speed'],ascending=False)\n",
    "libraryDataF1.obtainchart(\"team_name\",\"i2_speed\",top_speed)"
   ]
  },
  {
   "cell_type": "code",
   "execution_count": null,
   "metadata": {},
   "outputs": [],
   "source": [
    "top_speed = jointables.loc[jointables.groupby(['team_name'])['st_speed'].idxmax()].sort_values(by=['st_speed'],ascending=False)\n",
    "libraryDataF1.obtainchart(\"team_name\",\"st_speed\",top_speed)"
   ]
  },
  {
   "cell_type": "code",
   "execution_count": null,
   "metadata": {},
   "outputs": [],
   "source": [
    "mergequaly = pd.merge(competitiveLaps,drivers,on=['driver_number'])"
   ]
  },
  {
   "cell_type": "markdown",
   "metadata": {},
   "source": [
    "In order to know when each session finished, race control dataset will be consulted."
   ]
  },
  {
   "cell_type": "code",
   "execution_count": null,
   "metadata": {},
   "outputs": [],
   "source": [
    "maximumDateQ1 = \"date_start <'2024-03-23T05:25:01+00:00'\"\n",
    "maximumDateQ2 = \"date_start <'2024-03-23T05:48:01+00:00' and date_start >'2024-03-23T05:25:01+00:00'\"\n",
    "maximumDateQ3 = \"date_start >'2024-03-23T05:48:01+00:00'\""
   ]
  },
  {
   "cell_type": "markdown",
   "metadata": {},
   "source": [
    "### Qualyfing 1\n",
    "In this session, I did not see any surprise with the favourites qualyfing to Q2. As we can in testing, we knew that Alpine was the worst team and that was constrasted in qualyfing finishing P19 and P20. Other team that finished out of Q1 was Kick Sauber finishing Zhou P17 and Bottas P16. Differences beetween sectors will be shown in the following section."
   ]
  },
  {
   "cell_type": "code",
   "execution_count": null,
   "metadata": {},
   "outputs": [],
   "source": [
    "q1Data = libraryDataF1.obtainInfoAboutQualySession(mergequaly,maximumDateQ1).query(\"isFastestLap == True\").sort_values(by=['lap_duration'],ascending=True)"
   ]
  },
  {
   "cell_type": "markdown",
   "metadata": {},
   "source": [
    "##### Comparaison with driver at risk\n",
    "In this section with the fastest lap done for each driver (laptimes deleted will not be taken into account to do this analysis) it will do a comparaison in order to see where the driver eliminated lost/gain time in their fastest lap."
   ]
  },
  {
   "cell_type": "code",
   "execution_count": null,
   "metadata": {},
   "outputs": [],
   "source": [
    "#Reference\n",
    "P15 = q1Data[14:15]"
   ]
  },
  {
   "cell_type": "code",
   "execution_count": null,
   "metadata": {},
   "outputs": [],
   "source": [
    "print(\n",
    "\"Driver:\",P15.full_name.to_string(index=False),\n",
    "\"Sector 1: \",P15.duration_sector_1.to_string(index=False),\n",
    "\"Sector 2: \",P15.duration_sector_2.to_string(index=False),\n",
    "\"Sector 3: \",P15.duration_sector_3.to_string(index=False)\n",
    ")"
   ]
  },
  {
   "cell_type": "code",
   "execution_count": null,
   "metadata": {},
   "outputs": [],
   "source": [
    "q1Data[15::]"
   ]
  },
  {
   "cell_type": "markdown",
   "metadata": {},
   "source": [
    "##### Analysis of each sector of the driver at risk compared to the drivers eliminated.\n",
    "As Ricciardo's best lap was deleted, Magnussen qualified to Q2 but, as I only use the valid lap, I will analyse Magnussen's laptime compared to the eliminated drivers.\n",
    "Once said this one, we can see that the gap with the eliminated drivers is enough to determine that Magnussen was at risk."
   ]
  },
  {
   "cell_type": "code",
   "execution_count": null,
   "metadata": {},
   "outputs": [],
   "source": [
    "newdataset2 = pd.DataFrame()\n",
    "for index,row in q1Data[15::].iterrows():\n",
    "    newdataset2 = libraryDataF1.obtain_difference_regard_reference(row,P15,newdataset2)\n",
    "\n",
    "newdataset2"
   ]
  },
  {
   "cell_type": "code",
   "execution_count": null,
   "metadata": {},
   "outputs": [],
   "source": [
    "libraryDataF1.draw_gap(P15,15,20,q1Data,drivers,session)"
   ]
  },
  {
   "cell_type": "markdown",
   "metadata": {},
   "source": [
    "##### Analysis with the drivers that finished better than the driver at risk\n",
    "I bring this section in order to know where the driver at risk lost his chances to improve in the qualyfing.\n",
    "Magnussen's laptime was good in the first and second sector being better than others drivers such as Norris and Hamilton but, his third sector was so slow such as degree that the drivers that were worse laptimes were able to finish in a better postion than the Danish driver."
   ]
  },
  {
   "cell_type": "code",
   "execution_count": null,
   "metadata": {},
   "outputs": [],
   "source": [
    "newdataset2 = pd.DataFrame()\n",
    "for index,row in q1Data[0:14].iterrows():\n",
    "    newdataset2 = libraryDataF1.obtain_difference_regard_reference(row,P15,newdataset2)\n",
    "\n",
    "newdataset2"
   ]
  },
  {
   "cell_type": "markdown",
   "metadata": {},
   "source": [
    "#### Best sector per driver\n",
    "In this section we can see the best sector of the session"
   ]
  },
  {
   "cell_type": "code",
   "execution_count": null,
   "metadata": {},
   "outputs": [],
   "source": [
    "libraryDataF1.obtainchart(\"name_acronym\",\"duration_sector_1\",q1Data.sort_values(by=['duration_sector_1'],ascending=True))"
   ]
  },
  {
   "cell_type": "code",
   "execution_count": null,
   "metadata": {},
   "outputs": [],
   "source": [
    "libraryDataF1.obtainchart(\"name_acronym\",\"duration_sector_2\",q1Data.sort_values(by=['duration_sector_2'],ascending=True))"
   ]
  },
  {
   "cell_type": "code",
   "execution_count": null,
   "metadata": {},
   "outputs": [],
   "source": [
    "libraryDataF1.obtainchart(\"name_acronym\",\"duration_sector_3\",q1Data.sort_values(by=['duration_sector_3'],ascending=True))"
   ]
  },
  {
   "cell_type": "markdown",
   "metadata": {},
   "source": [
    "### Qualyfing 2\n",
    "In this session, we had the surprise of the fall of Mercedes being Hamilton knocked-out of Q2 and Russell finishing P10. Also, I have to stand out Tsunoda laptime that was able to beat both Mercedes in this session."
   ]
  },
  {
   "cell_type": "code",
   "execution_count": null,
   "metadata": {},
   "outputs": [],
   "source": [
    "q2Data = libraryDataF1.obtainInfoAboutQualySession(mergequaly,maximumDateQ2).query(\"isFastestLap == True\").sort_values(by=['lap_duration'],ascending=True)"
   ]
  },
  {
   "cell_type": "markdown",
   "metadata": {},
   "source": [
    "##### Comparaison with driver at risk\n",
    "In this section with the fastest lap done for each driver (laptimes deleted will not be taken into account to do this analysis) it will be a comparaison in order to see where the driver eliminated lost/gain time in their fastest lap."
   ]
  },
  {
   "cell_type": "code",
   "execution_count": null,
   "metadata": {},
   "outputs": [],
   "source": [
    "#Reference\n",
    "P10 = q2Data[9:10]\n",
    "print(\n",
    "\"Driver:\",P10.full_name.to_string(index=False),\n",
    "\"Sector 1: \",P10.duration_sector_1.to_string(index=False),\n",
    "\"Sector 2: \",P10.duration_sector_2.to_string(index=False),\n",
    "\"Sector 3: \",P10.duration_sector_3.to_string(index=False)\n",
    ")"
   ]
  },
  {
   "cell_type": "markdown",
   "metadata": {},
   "source": [
    "##### Analysis of each sector of the driver at risk compared to the drivers eliminated.\n",
    "The third sector of Russell was enough to save him to be eliminated. In general, only Hamilton and Albon would have been able to eliminate Russell\n",
    "In case of Hamilton, after finishing the second sector, he was 0.16 seconds quicker than Russell.\n",
    "In case of Albon, his second sector was better than Russell being very close to British's laptime (0.19 second worse than Russell) but he lost his chances with a poor third sector, being almost 3 tenth behind Russell"
   ]
  },
  {
   "cell_type": "code",
   "execution_count": null,
   "metadata": {},
   "outputs": [],
   "source": [
    "newdataset2 = pd.DataFrame()\n",
    "for index,row in q2Data[10::].iterrows():\n",
    "    newdataset2 = libraryDataF1.obtain_difference_regard_reference(row,P10,newdataset2)\n",
    "\n",
    "newdataset2"
   ]
  },
  {
   "cell_type": "code",
   "execution_count": null,
   "metadata": {},
   "outputs": [],
   "source": [
    "libraryDataF1.draw_gap(P10,10,15,q2Data,drivers,session)"
   ]
  },
  {
   "cell_type": "markdown",
   "metadata": {},
   "source": [
    "##### Analysis with the drivers that finished better than the driver at risk\n",
    "I bring this section in order to know where the driver at risk lost his chances to improve in the qualyfing.\n",
    "Mercedes suffered a lot in this weekend only being better than his rivals in the third sector."
   ]
  },
  {
   "cell_type": "code",
   "execution_count": null,
   "metadata": {},
   "outputs": [],
   "source": [
    "newdataset2 = pd.DataFrame()\n",
    "for index,row in q2Data[0:9].iterrows():\n",
    "    newdataset2 = libraryDataF1.obtain_difference_regard_reference(row,P10,newdataset2)\n",
    "\n",
    "newdataset2"
   ]
  },
  {
   "cell_type": "markdown",
   "metadata": {},
   "source": [
    "#### Best sector per driver\n",
    "In this section we can see the best sector of the session"
   ]
  },
  {
   "cell_type": "code",
   "execution_count": null,
   "metadata": {},
   "outputs": [],
   "source": [
    "libraryDataF1.obtainchart(\"name_acronym\",\"duration_sector_1\",q2Data.sort_values(by=['duration_sector_1'],ascending=True))"
   ]
  },
  {
   "cell_type": "code",
   "execution_count": null,
   "metadata": {},
   "outputs": [],
   "source": [
    "libraryDataF1.obtainchart(\"name_acronym\",\"duration_sector_2\",q2Data.sort_values(by=['duration_sector_2'],ascending=True))"
   ]
  },
  {
   "cell_type": "code",
   "execution_count": null,
   "metadata": {},
   "outputs": [],
   "source": [
    "libraryDataF1.obtainchart(\"name_acronym\",\"duration_sector_3\",q2Data.sort_values(by=['duration_sector_3'],ascending=True))"
   ]
  },
  {
   "cell_type": "markdown",
   "metadata": {},
   "source": [
    "### Qualyfing 3"
   ]
  },
  {
   "cell_type": "code",
   "execution_count": null,
   "metadata": {},
   "outputs": [],
   "source": [
    "q3Data = libraryDataF1.obtainInfoAboutQualySession(mergequaly,maximumDateQ3).query(\"isFastestLap == True\").sort_values(by=['lap_duration'],ascending=True)"
   ]
  },
  {
   "cell_type": "markdown",
   "metadata": {},
   "source": [
    "##### Comparaison with poleman\n",
    "In this section with the fastest lap done for each driver (laptimes deleted will not be taken into account to do this analysis) it will be a comparaison in order to see where the driver eliminated lost/gain time in their fastest lap."
   ]
  },
  {
   "cell_type": "code",
   "execution_count": null,
   "metadata": {},
   "outputs": [],
   "source": [
    "#Reference\n",
    "P1 = q3Data[:1]\n",
    "print(\n",
    "\"Driver:\",P1.full_name.to_string(index=False),\n",
    "\"Sector 1: \",P1.duration_sector_1.to_string(index=False),\n",
    "\"Sector 2: \",P1.duration_sector_2.to_string(index=False),\n",
    "\"Sector 3: \",P1.duration_sector_3.to_string(index=False)\n",
    ")"
   ]
  },
  {
   "cell_type": "markdown",
   "metadata": {},
   "source": [
    "##### Analysis of each sector of the driver at risk compared to the drivers eliminated.\n",
    "Ferrari dominated the first sector, Red Bull the second and the third was disputed beetween them.\n",
    "Carlos Sainz showed a good pace in all the weekend and this session showed as well. Carlos was fastest in the first sector(as the data in free practice shown), Verstappen in the second but in the third, Carlos made a mistake in the exit of turn 12 and this costed the pole."
   ]
  },
  {
   "cell_type": "code",
   "execution_count": null,
   "metadata": {},
   "outputs": [],
   "source": [
    "newdataset2 = pd.DataFrame()\n",
    "for index,row in q3Data[1::].iterrows():\n",
    "    newdataset2 = libraryDataF1.obtain_difference_regard_reference(row,P1,newdataset2)\n",
    "newdataset2"
   ]
  },
  {
   "cell_type": "markdown",
   "metadata": {},
   "source": [
    "#### Best sector per driver\n",
    "In this section we can see the best sector of the session"
   ]
  },
  {
   "cell_type": "code",
   "execution_count": null,
   "metadata": {},
   "outputs": [],
   "source": [
    "libraryDataF1.obtainchart(\"name_acronym\",\"duration_sector_1\",q3Data.sort_values(by=['duration_sector_1'],ascending=True))"
   ]
  },
  {
   "cell_type": "code",
   "execution_count": null,
   "metadata": {},
   "outputs": [],
   "source": [
    "libraryDataF1.obtainchart(\"name_acronym\",\"duration_sector_2\",q3Data.sort_values(by=['duration_sector_2'],ascending=True))"
   ]
  },
  {
   "cell_type": "code",
   "execution_count": null,
   "metadata": {},
   "outputs": [],
   "source": [
    "libraryDataF1.obtainchart(\"name_acronym\",\"duration_sector_3\",q3Data.sort_values(by=['duration_sector_3'],ascending=True))"
   ]
  },
  {
   "cell_type": "markdown",
   "metadata": {},
   "source": [
    "#### Best sector per driver of the session (in general)"
   ]
  },
  {
   "cell_type": "code",
   "execution_count": null,
   "metadata": {},
   "outputs": [],
   "source": [
    "libraryDataF1.obtainchart(\"name_acronym\",\"duration_sector_1\",pd.DataFrame(mergequaly.groupby(\"name_acronym\")['duration_sector_1'].min().sort_values(ascending=True)).reset_index())"
   ]
  },
  {
   "cell_type": "code",
   "execution_count": null,
   "metadata": {},
   "outputs": [],
   "source": [
    "libraryDataF1.obtainchart(\"name_acronym\",\"duration_sector_2\",pd.DataFrame(mergequaly.groupby(\"name_acronym\")['duration_sector_2'].min().sort_values(ascending=True)).reset_index())"
   ]
  },
  {
   "cell_type": "code",
   "execution_count": null,
   "metadata": {},
   "outputs": [],
   "source": [
    "libraryDataF1.obtainchart(\"name_acronym\",\"duration_sector_3\",pd.DataFrame(mergequaly.groupby(\"name_acronym\")['duration_sector_3'].min().sort_values(ascending=True)).reset_index())"
   ]
  },
  {
   "cell_type": "markdown",
   "metadata": {},
   "source": [
    "### Comparaison between the poleman and the second"
   ]
  },
  {
   "cell_type": "code",
   "execution_count": null,
   "metadata": {},
   "outputs": [],
   "source": [
    "libraryDataF1.plot_telemetry(\"Distance\",\"Speed\",dt,session)"
   ]
  },
  {
   "cell_type": "code",
   "execution_count": null,
   "metadata": {},
   "outputs": [],
   "source": [
    "libraryDataF1.plot_telemetry(\"Distance\",\"Throttle\",dt,session)"
   ]
  },
  {
   "cell_type": "code",
   "execution_count": null,
   "metadata": {},
   "outputs": [],
   "source": [
    "libraryDataF1.plot_telemetry(\"Distance\",\"Brake\",dt,session)"
   ]
  },
  {
   "cell_type": "code",
   "execution_count": null,
   "metadata": {},
   "outputs": [],
   "source": [
    "libraryDataF1.plot_telemetry(\"Distance\",\"nGear\",dt,session)"
   ]
  },
  {
   "cell_type": "markdown",
   "metadata": {},
   "source": [
    "## Race\n",
    "### Obtain setup"
   ]
  },
  {
   "cell_type": "code",
   "execution_count": null,
   "metadata": {},
   "outputs": [],
   "source": [
    "race = libraryDataF1.obtain_information('laps',session_key=9488)\n",
    "stintInformation = libraryDataF1.obtain_information('stints',session_key=9488)\n",
    "drivers = libraryDataF1.obtain_information('drivers',session_key=9488)\n",
    "libraryDataF1.obtain_drivers_colours(drivers)"
   ]
  },
  {
   "cell_type": "code",
   "execution_count": null,
   "metadata": {},
   "outputs": [],
   "source": [
    "stintsDataFrame =libraryDataF1.stint_configuration(drivers,stintInformation)"
   ]
  },
  {
   "cell_type": "code",
   "execution_count": null,
   "metadata": {},
   "outputs": [],
   "source": [
    "raceLaps = race.query(\"is_pit_out_lap == False\")\n",
    "jointables = pd.merge(raceLaps,stintsDataFrame,on=['lap_number','driver_number'])"
   ]
  },
  {
   "cell_type": "markdown",
   "metadata": {},
   "source": [
    "### Mean pace with the different compound used on the session"
   ]
  },
  {
   "cell_type": "code",
   "execution_count": null,
   "metadata": {},
   "outputs": [],
   "source": [
    "race_pace = pd.DataFrame(jointables.query(\"is_pit_out_lap == False  and lap_duration <= 95\").groupby(\"compound\")['lap_duration'].mean().sort_values(ascending=True))\n",
    "race_pace"
   ]
  },
  {
   "cell_type": "markdown",
   "metadata": {},
   "source": [
    "### Speed trap"
   ]
  },
  {
   "cell_type": "code",
   "execution_count": null,
   "metadata": {},
   "outputs": [],
   "source": [
    "top_speed = jointables.loc[jointables.groupby(['name_acronym'])['st_speed'].idxmax()].sort_values(by=['st_speed'],ascending=False)\n",
    "libraryDataF1.obtainchart(\"name_acronym\",\"st_speed\",top_speed)"
   ]
  },
  {
   "cell_type": "code",
   "execution_count": null,
   "metadata": {},
   "outputs": [],
   "source": [
    "top_speed = jointables.loc[jointables.groupby(['name_acronym'])['i1_speed'].idxmax()].sort_values(by=['i1_speed'],ascending=False)\n",
    "libraryDataF1.obtainchart(\"name_acronym\",\"i1_speed\",top_speed)"
   ]
  },
  {
   "cell_type": "code",
   "execution_count": null,
   "metadata": {},
   "outputs": [],
   "source": [
    "top_speed = jointables.loc[jointables.groupby(['name_acronym'])['i2_speed'].idxmax()].sort_values(by=['i2_speed'],ascending=False)\n",
    "libraryDataF1.obtainchart(\"name_acronym\",\"i2_speed\",top_speed)"
   ]
  },
  {
   "cell_type": "markdown",
   "metadata": {},
   "source": [
    "### Race pace\n",
    "General explanation\n",
    "Explanation per teams"
   ]
  },
  {
   "cell_type": "code",
   "execution_count": null,
   "metadata": {},
   "outputs": [],
   "source": [
    "race_pace = pd.DataFrame(jointables.query(\"is_pit_out_lap == False  and lap_duration <= 95\").dropna().groupby(\"team_name\")['lap_duration'].mean().sort_values(ascending=True))\n",
    "race_pace"
   ]
  },
  {
   "cell_type": "markdown",
   "metadata": {},
   "source": [
    "#### Mean race pace per sector\n",
    "In this section, we can see the pace shown per each team in each sector sorted ascending."
   ]
  },
  {
   "cell_type": "markdown",
   "metadata": {},
   "source": [
    "#### Sector 1\n",
    "General explanation"
   ]
  },
  {
   "cell_type": "code",
   "execution_count": null,
   "metadata": {},
   "outputs": [],
   "source": [
    "race_pace = pd.DataFrame(jointables.query(\"is_pit_out_lap == False  and lap_duration <= 95\").dropna().groupby(\"team_name\")['duration_sector_1'].mean().sort_values(ascending=True))\n",
    "race_pace"
   ]
  },
  {
   "cell_type": "markdown",
   "metadata": {},
   "source": [
    "#### Sector 2\n",
    "General explanation"
   ]
  },
  {
   "cell_type": "code",
   "execution_count": null,
   "metadata": {},
   "outputs": [],
   "source": [
    "race_pace = pd.DataFrame(jointables.query(\"is_pit_out_lap == False  and lap_duration <= 95\").dropna().groupby(\"team_name\")['duration_sector_2'].mean().sort_values(ascending=True))\n",
    "race_pace"
   ]
  },
  {
   "cell_type": "markdown",
   "metadata": {},
   "source": [
    "#### Sector 3\n",
    "General explanation"
   ]
  },
  {
   "cell_type": "code",
   "execution_count": null,
   "metadata": {},
   "outputs": [],
   "source": [
    "race_pace = pd.DataFrame(jointables.query(\"is_pit_out_lap == False  and lap_duration <= 95\").dropna().groupby(\"team_name\")['duration_sector_3'].mean().sort_values(ascending=True))\n",
    "race_pace"
   ]
  },
  {
   "cell_type": "markdown",
   "metadata": {},
   "source": [
    "### Long runs"
   ]
  },
  {
   "cell_type": "code",
   "execution_count": null,
   "metadata": {},
   "outputs": [],
   "source": [
    "MINIMUN_SECONDS = 80\n",
    "MAXIMUM_SECONDS = 98"
   ]
  },
  {
   "cell_type": "markdown",
   "metadata": {},
   "source": [
    "#### Red Bull Racing"
   ]
  },
  {
   "cell_type": "code",
   "execution_count": null,
   "metadata": {},
   "outputs": [],
   "source": [
    "stintInformation.query('driver_number == 1 or driver_number == 11')"
   ]
  },
  {
   "cell_type": "code",
   "execution_count": null,
   "metadata": {},
   "outputs": [],
   "source": [
    "data = libraryDataF1.getinfolongruns(jointables,1,'Red Bull Racing',MINIMUN_SECONDS,MAXIMUM_SECONDS)\n",
    "data"
   ]
  },
  {
   "cell_type": "code",
   "execution_count": null,
   "metadata": {},
   "outputs": [],
   "source": [
    "if len(data) != 0:\n",
    "    libraryDataF1.race_pace_graph(data)"
   ]
  },
  {
   "cell_type": "code",
   "execution_count": null,
   "metadata": {},
   "outputs": [],
   "source": [
    "if len(data) != 0:\n",
    "    libraryDataF1.race_pace_divided_per_sectors(data)"
   ]
  },
  {
   "cell_type": "code",
   "execution_count": null,
   "metadata": {},
   "outputs": [],
   "source": [
    "data = libraryDataF1.getinfolongruns(jointables,11,'Red Bull Racing',MINIMUN_SECONDS,MAXIMUM_SECONDS)\n",
    "data"
   ]
  },
  {
   "cell_type": "code",
   "execution_count": null,
   "metadata": {},
   "outputs": [],
   "source": [
    "if len(data) != 0:\n",
    "    libraryDataF1.race_pace_graph(data)"
   ]
  },
  {
   "cell_type": "code",
   "execution_count": null,
   "metadata": {},
   "outputs": [],
   "source": [
    "if len(data) != 0:\n",
    "    libraryDataF1.race_pace_divided_per_sectors(data)"
   ]
  },
  {
   "cell_type": "markdown",
   "metadata": {},
   "source": [
    "#### Ferrari"
   ]
  },
  {
   "cell_type": "code",
   "execution_count": null,
   "metadata": {},
   "outputs": [],
   "source": [
    "stintInformation.query('driver_number == 55 or driver_number == 16')"
   ]
  },
  {
   "cell_type": "code",
   "execution_count": null,
   "metadata": {},
   "outputs": [],
   "source": [
    "data = libraryDataF1.getinfolongruns(jointables,16,'Ferrari',MINIMUN_SECONDS,MAXIMUM_SECONDS)\n",
    "data"
   ]
  },
  {
   "cell_type": "code",
   "execution_count": null,
   "metadata": {},
   "outputs": [],
   "source": [
    "if len(data) != 0:\n",
    "    libraryDataF1.race_pace_graph(data)"
   ]
  },
  {
   "cell_type": "code",
   "execution_count": null,
   "metadata": {},
   "outputs": [],
   "source": [
    "if len(data) != 0:\n",
    "    libraryDataF1.race_pace_divided_per_sectors(data)"
   ]
  },
  {
   "cell_type": "code",
   "execution_count": null,
   "metadata": {},
   "outputs": [],
   "source": [
    "data = libraryDataF1.getinfolongruns(jointables,55,'Ferrari',MINIMUN_SECONDS,MAXIMUM_SECONDS)\n",
    "data"
   ]
  },
  {
   "cell_type": "code",
   "execution_count": null,
   "metadata": {},
   "outputs": [],
   "source": [
    "if len(data) != 0:\n",
    "    libraryDataF1.race_pace_graph(data)"
   ]
  },
  {
   "cell_type": "code",
   "execution_count": null,
   "metadata": {},
   "outputs": [],
   "source": [
    "if len(data) != 0:\n",
    "    libraryDataF1.race_pace_divided_per_sectors(data)"
   ]
  },
  {
   "cell_type": "markdown",
   "metadata": {},
   "source": [
    "#### Mercedes"
   ]
  },
  {
   "cell_type": "code",
   "execution_count": null,
   "metadata": {},
   "outputs": [],
   "source": [
    "stintInformation.query('driver_number == 63 or driver_number == 44')"
   ]
  },
  {
   "cell_type": "code",
   "execution_count": null,
   "metadata": {},
   "outputs": [],
   "source": [
    "data = libraryDataF1.getinfolongruns(jointables,44,'Mercedes',MINIMUN_SECONDS,MAXIMUM_SECONDS)\n",
    "data"
   ]
  },
  {
   "cell_type": "code",
   "execution_count": null,
   "metadata": {},
   "outputs": [],
   "source": [
    "if len(data) != 0:\n",
    "    libraryDataF1.race_pace_graph(data)"
   ]
  },
  {
   "cell_type": "code",
   "execution_count": null,
   "metadata": {},
   "outputs": [],
   "source": [
    "if len(data) != 0:\n",
    "    libraryDataF1.race_pace_divided_per_sectors(data)"
   ]
  },
  {
   "cell_type": "code",
   "execution_count": null,
   "metadata": {},
   "outputs": [],
   "source": [
    "data = libraryDataF1.getinfolongruns(jointables,63,'Mercedes',MINIMUN_SECONDS,MAXIMUM_SECONDS)\n",
    "data"
   ]
  },
  {
   "cell_type": "code",
   "execution_count": null,
   "metadata": {},
   "outputs": [],
   "source": [
    "if len(data) != 0:\n",
    "    libraryDataF1.race_pace_graph(data)"
   ]
  },
  {
   "cell_type": "code",
   "execution_count": null,
   "metadata": {},
   "outputs": [],
   "source": [
    "if len(data) != 0:\n",
    "    libraryDataF1.race_pace_divided_per_sectors(data)"
   ]
  },
  {
   "cell_type": "markdown",
   "metadata": {},
   "source": [
    "#### McLaren"
   ]
  },
  {
   "cell_type": "code",
   "execution_count": null,
   "metadata": {},
   "outputs": [],
   "source": [
    "stintInformation.query('driver_number == 81 or driver_number == 4')"
   ]
  },
  {
   "cell_type": "code",
   "execution_count": null,
   "metadata": {},
   "outputs": [],
   "source": [
    "data = libraryDataF1.getinfolongruns(jointables,4,'McLaren',MINIMUN_SECONDS,MAXIMUM_SECONDS)\n",
    "data"
   ]
  },
  {
   "cell_type": "code",
   "execution_count": null,
   "metadata": {},
   "outputs": [],
   "source": [
    "if len(data) != 0:\n",
    "    libraryDataF1.race_pace_graph(data)"
   ]
  },
  {
   "cell_type": "code",
   "execution_count": null,
   "metadata": {},
   "outputs": [],
   "source": [
    "if len(data) != 0:\n",
    "    libraryDataF1.race_pace_divided_per_sectors(data)"
   ]
  },
  {
   "cell_type": "code",
   "execution_count": null,
   "metadata": {},
   "outputs": [],
   "source": [
    "data = libraryDataF1.getinfolongruns(jointables,81,'McLaren',MINIMUN_SECONDS,MAXIMUM_SECONDS)\n",
    "data"
   ]
  },
  {
   "cell_type": "code",
   "execution_count": null,
   "metadata": {},
   "outputs": [],
   "source": [
    "if len(data) != 0:\n",
    "    libraryDataF1.race_pace_graph(data)"
   ]
  },
  {
   "cell_type": "code",
   "execution_count": null,
   "metadata": {},
   "outputs": [],
   "source": [
    "if len(data) != 0:\n",
    "    libraryDataF1.race_pace_divided_per_sectors(data)"
   ]
  },
  {
   "cell_type": "markdown",
   "metadata": {},
   "source": [
    "#### Aston Martin"
   ]
  },
  {
   "cell_type": "code",
   "execution_count": null,
   "metadata": {},
   "outputs": [],
   "source": [
    "stintInformation.query('driver_number == 18 or driver_number == 14')"
   ]
  },
  {
   "cell_type": "code",
   "execution_count": null,
   "metadata": {},
   "outputs": [],
   "source": [
    "data = libraryDataF1.getinfolongruns(jointables,14,'Aston Martin',MINIMUN_SECONDS,MAXIMUM_SECONDS)\n",
    "data"
   ]
  },
  {
   "cell_type": "code",
   "execution_count": null,
   "metadata": {},
   "outputs": [],
   "source": [
    "if len(data) != 0:\n",
    "    libraryDataF1.race_pace_graph(data)"
   ]
  },
  {
   "cell_type": "code",
   "execution_count": null,
   "metadata": {},
   "outputs": [],
   "source": [
    "if len(data) != 0:\n",
    "    libraryDataF1.race_pace_divided_per_sectors(data)"
   ]
  },
  {
   "cell_type": "code",
   "execution_count": null,
   "metadata": {},
   "outputs": [],
   "source": [
    "data = libraryDataF1.getinfolongruns(jointables,18,'Aston Martin',MINIMUN_SECONDS,MAXIMUM_SECONDS)\n",
    "data"
   ]
  },
  {
   "cell_type": "code",
   "execution_count": null,
   "metadata": {},
   "outputs": [],
   "source": [
    "if len(data) != 0:\n",
    "    libraryDataF1.race_pace_graph(data)"
   ]
  },
  {
   "cell_type": "code",
   "execution_count": null,
   "metadata": {},
   "outputs": [],
   "source": [
    "if len(data) != 0:\n",
    "    libraryDataF1.race_pace_divided_per_sectors(data)"
   ]
  },
  {
   "cell_type": "markdown",
   "metadata": {},
   "source": [
    "#### RB"
   ]
  },
  {
   "cell_type": "code",
   "execution_count": null,
   "metadata": {},
   "outputs": [],
   "source": [
    "stintInformation.query('driver_number == 3 or driver_number == 22')"
   ]
  },
  {
   "cell_type": "code",
   "execution_count": null,
   "metadata": {},
   "outputs": [],
   "source": [
    "data = libraryDataF1.getinfolongruns(jointables,3,'RB',MINIMUN_SECONDS,MAXIMUM_SECONDS)\n",
    "data"
   ]
  },
  {
   "cell_type": "code",
   "execution_count": null,
   "metadata": {},
   "outputs": [],
   "source": [
    "if len(data) != 0:\n",
    "    libraryDataF1.race_pace_graph(data)"
   ]
  },
  {
   "cell_type": "code",
   "execution_count": null,
   "metadata": {},
   "outputs": [],
   "source": [
    "if len(data) != 0:\n",
    "    libraryDataF1.race_pace_divided_per_sectors(data)"
   ]
  },
  {
   "cell_type": "code",
   "execution_count": null,
   "metadata": {},
   "outputs": [],
   "source": [
    "data = libraryDataF1.getinfolongruns(jointables,22,'RB',MINIMUN_SECONDS,MAXIMUM_SECONDS)\n",
    "data"
   ]
  },
  {
   "cell_type": "code",
   "execution_count": null,
   "metadata": {},
   "outputs": [],
   "source": [
    "if len(data) != 0:\n",
    "    libraryDataF1.race_pace_graph(data)"
   ]
  },
  {
   "cell_type": "code",
   "execution_count": null,
   "metadata": {},
   "outputs": [],
   "source": [
    "if len(data) != 0:\n",
    "    libraryDataF1.race_pace_divided_per_sectors(data)"
   ]
  },
  {
   "cell_type": "markdown",
   "metadata": {},
   "source": [
    "#### Haas"
   ]
  },
  {
   "cell_type": "code",
   "execution_count": null,
   "metadata": {},
   "outputs": [],
   "source": [
    "stintInformation.query('driver_number == 20 or driver_number == 27')"
   ]
  },
  {
   "cell_type": "code",
   "execution_count": null,
   "metadata": {},
   "outputs": [],
   "source": [
    "data = libraryDataF1.getinfolongruns(jointables,20,'Haas F1 Team',MINIMUN_SECONDS,MAXIMUM_SECONDS)\n",
    "data"
   ]
  },
  {
   "cell_type": "code",
   "execution_count": null,
   "metadata": {},
   "outputs": [],
   "source": [
    "if len(data) != 0:\n",
    "    libraryDataF1.race_pace_graph(data)"
   ]
  },
  {
   "cell_type": "code",
   "execution_count": null,
   "metadata": {},
   "outputs": [],
   "source": [
    "if len(data) != 0:\n",
    "    libraryDataF1.race_pace_divided_per_sectors(data)"
   ]
  },
  {
   "cell_type": "code",
   "execution_count": null,
   "metadata": {},
   "outputs": [],
   "source": [
    "data = libraryDataF1.getinfolongruns(jointables,27,'Haas F1 Team',MINIMUN_SECONDS,MAXIMUM_SECONDS)\n",
    "data\n"
   ]
  },
  {
   "cell_type": "code",
   "execution_count": null,
   "metadata": {},
   "outputs": [],
   "source": [
    "if len(data) != 0:\n",
    "    libraryDataF1.race_pace_graph(data)"
   ]
  },
  {
   "cell_type": "code",
   "execution_count": null,
   "metadata": {},
   "outputs": [],
   "source": [
    "if len(data) != 0:\n",
    "    libraryDataF1.race_pace_divided_per_sectors(data)"
   ]
  },
  {
   "cell_type": "markdown",
   "metadata": {},
   "source": [
    "#### Alpine"
   ]
  },
  {
   "cell_type": "code",
   "execution_count": null,
   "metadata": {},
   "outputs": [],
   "source": [
    "stintInformation.query('driver_number == 10 or driver_number == 31')"
   ]
  },
  {
   "cell_type": "code",
   "execution_count": null,
   "metadata": {},
   "outputs": [],
   "source": [
    "data =libraryDataF1.getinfolongruns(jointables,31,'Alpine',MINIMUN_SECONDS,MAXIMUM_SECONDS)\n",
    "data"
   ]
  },
  {
   "cell_type": "code",
   "execution_count": null,
   "metadata": {},
   "outputs": [],
   "source": [
    "if len(data) != 0:\n",
    "    libraryDataF1.race_pace_graph(data)"
   ]
  },
  {
   "cell_type": "code",
   "execution_count": null,
   "metadata": {},
   "outputs": [],
   "source": [
    "if len(data) != 0:\n",
    "    libraryDataF1.race_pace_divided_per_sectors(data)"
   ]
  },
  {
   "cell_type": "code",
   "execution_count": null,
   "metadata": {},
   "outputs": [],
   "source": [
    "data = libraryDataF1.getinfolongruns(jointables,10,'Alpine',MINIMUN_SECONDS,MAXIMUM_SECONDS)\n",
    "data"
   ]
  },
  {
   "cell_type": "code",
   "execution_count": null,
   "metadata": {},
   "outputs": [],
   "source": [
    "if len(data) != 0:\n",
    "    libraryDataF1.race_pace_graph(data)"
   ]
  },
  {
   "cell_type": "code",
   "execution_count": null,
   "metadata": {},
   "outputs": [],
   "source": [
    "if len(data) != 0:\n",
    "    libraryDataF1.race_pace_divided_per_sectors(data)"
   ]
  },
  {
   "cell_type": "markdown",
   "metadata": {},
   "source": [
    "#### Williams"
   ]
  },
  {
   "cell_type": "code",
   "execution_count": null,
   "metadata": {},
   "outputs": [],
   "source": [
    "stintInformation.query('driver_number == 2 or driver_number == 23')"
   ]
  },
  {
   "cell_type": "code",
   "execution_count": null,
   "metadata": {},
   "outputs": [],
   "source": [
    "data = libraryDataF1.getinfolongruns(jointables,23,'Williams',MINIMUN_SECONDS,MAXIMUM_SECONDS)\n",
    "data"
   ]
  },
  {
   "cell_type": "code",
   "execution_count": null,
   "metadata": {},
   "outputs": [],
   "source": [
    "if len(data) != 0:\n",
    "    libraryDataF1.race_pace_graph(data)"
   ]
  },
  {
   "cell_type": "code",
   "execution_count": null,
   "metadata": {},
   "outputs": [],
   "source": [
    "if len(data) != 0:\n",
    "    libraryDataF1.race_pace_divided_per_sectors(data)"
   ]
  },
  {
   "cell_type": "code",
   "execution_count": null,
   "metadata": {},
   "outputs": [],
   "source": [
    "data= libraryDataF1.getinfolongruns(jointables,2,'Williams',MINIMUN_SECONDS,MAXIMUM_SECONDS)\n",
    "data"
   ]
  },
  {
   "cell_type": "code",
   "execution_count": null,
   "metadata": {},
   "outputs": [],
   "source": [
    "if len(data) != 0:\n",
    "    libraryDataF1.race_pace_graph(data)"
   ]
  },
  {
   "cell_type": "code",
   "execution_count": null,
   "metadata": {},
   "outputs": [],
   "source": [
    "if len(data) != 0:\n",
    "    libraryDataF1.race_pace_divided_per_sectors(data)"
   ]
  },
  {
   "cell_type": "markdown",
   "metadata": {},
   "source": [
    "#### Kick Sauber"
   ]
  },
  {
   "cell_type": "code",
   "execution_count": null,
   "metadata": {},
   "outputs": [],
   "source": [
    "stintInformation.query('driver_number == 24 or driver_number == 77')"
   ]
  },
  {
   "cell_type": "code",
   "execution_count": null,
   "metadata": {},
   "outputs": [],
   "source": [
    "data = libraryDataF1.getinfolongruns(jointables,24,'Kick Sauber',MINIMUN_SECONDS,MAXIMUM_SECONDS)\n",
    "data"
   ]
  },
  {
   "cell_type": "code",
   "execution_count": null,
   "metadata": {},
   "outputs": [],
   "source": [
    "if len(data) != 0:\n",
    "    libraryDataF1.race_pace_graph(data)"
   ]
  },
  {
   "cell_type": "code",
   "execution_count": null,
   "metadata": {},
   "outputs": [],
   "source": [
    "if len(data) != 0:\n",
    "    libraryDataF1.race_pace_divided_per_sectors(data)"
   ]
  },
  {
   "cell_type": "code",
   "execution_count": null,
   "metadata": {},
   "outputs": [],
   "source": [
    "data = libraryDataF1.getinfolongruns(jointables,77,'Kick Sauber',MINIMUN_SECONDS,MAXIMUM_SECONDS)\n",
    "data"
   ]
  },
  {
   "cell_type": "code",
   "execution_count": null,
   "metadata": {},
   "outputs": [],
   "source": [
    "if len(data) != 0:\n",
    "    libraryDataF1.race_pace_graph(data)"
   ]
  },
  {
   "cell_type": "code",
   "execution_count": null,
   "metadata": {},
   "outputs": [],
   "source": [
    "if len(data) != 0:\n",
    "    libraryDataF1.race_pace_divided_per_sectors(data)"
   ]
  },
  {
   "cell_type": "markdown",
   "metadata": {},
   "source": [
    "### Pits\n",
    "Before to finish the analysis, I added the Pits sections where it can see how much time teams spent in the box."
   ]
  },
  {
   "cell_type": "code",
   "execution_count": null,
   "metadata": {},
   "outputs": [],
   "source": [
    "pit = libraryDataF1.obtain_information('pit',session_key=9472)"
   ]
  },
  {
   "cell_type": "code",
   "execution_count": null,
   "metadata": {},
   "outputs": [],
   "source": [
    "jointables = pd.merge(drivers,pit,on=['driver_number']).query(\"pit_duration<120\")\n",
    "jointables\n",
    "pit_duration = pd.DataFrame(jointables.groupby('team_name')['pit_duration'].mean().sort_values(ascending=True))\n",
    "pit_duration"
   ]
  }
 ],
 "metadata": {
  "kernelspec": {
   "display_name": "Python 3",
   "language": "python",
   "name": "python3"
  },
  "language_info": {
   "codemirror_mode": {
    "name": "ipython",
    "version": 3
   },
   "file_extension": ".py",
   "mimetype": "text/x-python",
   "name": "python",
   "nbconvert_exporter": "python",
   "pygments_lexer": "ipython3",
   "version": "3.8.6"
  }
 },
 "nbformat": 4,
 "nbformat_minor": 2
}
