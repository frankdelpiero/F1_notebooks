{
 "cells": [
  {
   "cell_type": "code",
   "execution_count": 3,
   "metadata": {},
   "outputs": [],
   "source": [
    "from F1_library import libraryF1dataNotebook as libraryDataF1\n",
    "import pandas as pd\n",
    "import fastf1 as ff1"
   ]
  },
  {
   "cell_type": "markdown",
   "metadata": {},
   "source": [
    "# FORMULA 1 ARAMCO GRAN PREMIO DE ESPAÑA 2024\n",
    "The Spanish Grand Prix (Spanish: Gran Premio de España, Catalan: Gran Premi d'Espanya) is a Formula One motor racing event currently held at the Circuit de Barcelona-Catalunya. The race is one of the oldest in the world still contested, celebrating its centenary in 2013. The race had modest beginnings as a production car race. Interrupted by the First World War, the race waited a decade for its second running before becoming a staple of the European calendar. In 1927 it was part of the World Manufacturers' Championship; it was promoted to the European Championship in 1935 before the Spanish Civil War brought an end to racing. The race was successfully revived in 1967 and has been a regular part of the Formula One World Championship since 1968 (except 1982–1985) at a variety of venues.\n",
    "\n",
    "The event is due to take place at the Circuit de Barcelona-Catalunya until 2026.[1] From 2026 until at least 2035 the race will be run at a new circuit near Madrid.\n",
    "Source: Wikipedia"
   ]
  },
  {
   "cell_type": "markdown",
   "metadata": {},
   "source": [
    "## Obtain session information"
   ]
  },
  {
   "cell_type": "code",
   "execution_count": 4,
   "metadata": {},
   "outputs": [
    {
     "data": {
      "text/html": [
       "<div>\n",
       "<style scoped>\n",
       "    .dataframe tbody tr th:only-of-type {\n",
       "        vertical-align: middle;\n",
       "    }\n",
       "\n",
       "    .dataframe tbody tr th {\n",
       "        vertical-align: top;\n",
       "    }\n",
       "\n",
       "    .dataframe thead th {\n",
       "        text-align: right;\n",
       "    }\n",
       "</style>\n",
       "<table border=\"1\" class=\"dataframe\">\n",
       "  <thead>\n",
       "    <tr style=\"text-align: right;\">\n",
       "      <th></th>\n",
       "      <th>meeting_key</th>\n",
       "      <th>session_key</th>\n",
       "      <th>location</th>\n",
       "      <th>date_start</th>\n",
       "      <th>date_end</th>\n",
       "      <th>session_type</th>\n",
       "      <th>session_name</th>\n",
       "      <th>country_key</th>\n",
       "      <th>country_code</th>\n",
       "      <th>country_name</th>\n",
       "      <th>circuit_key</th>\n",
       "      <th>circuit_short_name</th>\n",
       "      <th>gmt_offset</th>\n",
       "      <th>year</th>\n",
       "    </tr>\n",
       "  </thead>\n",
       "  <tbody>\n",
       "    <tr>\n",
       "      <th>0</th>\n",
       "      <td>1262</td>\n",
       "      <td>9964</td>\n",
       "      <td>Barcelona</td>\n",
       "      <td>2025-05-30T11:30:00+00:00</td>\n",
       "      <td>2025-05-30T12:30:00+00:00</td>\n",
       "      <td>Practice</td>\n",
       "      <td>Practice 1</td>\n",
       "      <td>1</td>\n",
       "      <td>ESP</td>\n",
       "      <td>Spain</td>\n",
       "      <td>15</td>\n",
       "      <td>Catalunya</td>\n",
       "      <td>02:00:00</td>\n",
       "      <td>2025</td>\n",
       "    </tr>\n",
       "  </tbody>\n",
       "</table>\n",
       "</div>"
      ],
      "text/plain": [
       "   meeting_key  session_key   location                 date_start  \\\n",
       "0         1262         9964  Barcelona  2025-05-30T11:30:00+00:00   \n",
       "\n",
       "                    date_end session_type session_name  country_key  \\\n",
       "0  2025-05-30T12:30:00+00:00     Practice   Practice 1            1   \n",
       "\n",
       "  country_code country_name  circuit_key circuit_short_name gmt_offset  year  \n",
       "0          ESP        Spain           15          Catalunya   02:00:00  2025  "
      ]
     },
     "execution_count": 4,
     "metadata": {},
     "output_type": "execute_result"
    }
   ],
   "source": [
    "libraryDataF1.obtain_information('sessions',year=2025,country_acronym='ESP')"
   ]
  },
  {
   "cell_type": "code",
   "execution_count": 20,
   "metadata": {},
   "outputs": [
    {
     "name": "stderr",
     "output_type": "stream",
     "text": [
      "core           INFO \tLoading data for Spanish Grand Prix - Practice 1 [v3.3.0]\n",
      "req            INFO \tNo cached data found for session_info. Loading data...\n",
      "_api           INFO \tFetching session info data...\n",
      "logger      WARNING \tFailed to load session info data!\n",
      "req            INFO \tNo cached data found for driver_info. Loading data...\n",
      "_api           INFO \tFetching driver list...\n",
      "core        WARNING \tFailed to load extended driver information!\n"
     ]
    },
    {
     "ename": "KeyError",
     "evalue": "'DriverNumber'",
     "output_type": "error",
     "traceback": [
      "\u001b[0;31m---------------------------------------------------------------------------\u001b[0m",
      "\u001b[0;31mKeyError\u001b[0m                                  Traceback (most recent call last)",
      "Cell \u001b[0;32mIn [20], line 2\u001b[0m\n\u001b[1;32m      1\u001b[0m session \u001b[38;5;241m=\u001b[39m ff1\u001b[38;5;241m.\u001b[39mget_session(\u001b[38;5;241m2025\u001b[39m, \u001b[38;5;241m9\u001b[39m, \u001b[38;5;124m'\u001b[39m\u001b[38;5;124mFP1\u001b[39m\u001b[38;5;124m'\u001b[39m)\n\u001b[0;32m----> 2\u001b[0m \u001b[43msession\u001b[49m\u001b[38;5;241;43m.\u001b[39;49m\u001b[43mload\u001b[49m\u001b[43m(\u001b[49m\u001b[43m)\u001b[49m\n\u001b[1;32m      4\u001b[0m lap \u001b[38;5;241m=\u001b[39m session\u001b[38;5;241m.\u001b[39mlaps\u001b[38;5;241m.\u001b[39mpick_fastest()\n\u001b[1;32m      5\u001b[0m pos \u001b[38;5;241m=\u001b[39m lap\u001b[38;5;241m.\u001b[39mget_pos_data()\n",
      "File \u001b[0;32m~/.local/lib/python3.8/site-packages/fastf1/core.py:1415\u001b[0m, in \u001b[0;36mSession.load\u001b[0;34m(self, laps, telemetry, weather, messages, livedata)\u001b[0m\n\u001b[1;32m   1410\u001b[0m _logger\u001b[38;5;241m.\u001b[39minfo(\u001b[38;5;124mf\u001b[39m\u001b[38;5;124m\"\u001b[39m\u001b[38;5;124mLoading data for \u001b[39m\u001b[38;5;124m\"\u001b[39m\n\u001b[1;32m   1411\u001b[0m              \u001b[38;5;124mf\u001b[39m\u001b[38;5;124m\"\u001b[39m\u001b[38;5;132;01m{\u001b[39;00m\u001b[38;5;28mself\u001b[39m\u001b[38;5;241m.\u001b[39mevent[\u001b[38;5;124m'\u001b[39m\u001b[38;5;124mEventName\u001b[39m\u001b[38;5;124m'\u001b[39m]\u001b[38;5;132;01m}\u001b[39;00m\u001b[38;5;124m - \u001b[39m\u001b[38;5;132;01m{\u001b[39;00m\u001b[38;5;28mself\u001b[39m\u001b[38;5;241m.\u001b[39mname\u001b[38;5;132;01m}\u001b[39;00m\u001b[38;5;124m\"\u001b[39m\n\u001b[1;32m   1412\u001b[0m              \u001b[38;5;124mf\u001b[39m\u001b[38;5;124m\"\u001b[39m\u001b[38;5;124m [v\u001b[39m\u001b[38;5;132;01m{\u001b[39;00mfastf1\u001b[38;5;241m.\u001b[39m__version__\u001b[38;5;132;01m}\u001b[39;00m\u001b[38;5;124m]\u001b[39m\u001b[38;5;124m\"\u001b[39m)\n\u001b[1;32m   1414\u001b[0m \u001b[38;5;28mself\u001b[39m\u001b[38;5;241m.\u001b[39m_load_session_info(livedata\u001b[38;5;241m=\u001b[39mlivedata)\n\u001b[0;32m-> 1415\u001b[0m \u001b[38;5;28;43mself\u001b[39;49m\u001b[38;5;241;43m.\u001b[39;49m\u001b[43m_load_drivers_results\u001b[49m\u001b[43m(\u001b[49m\u001b[43mlivedata\u001b[49m\u001b[38;5;241;43m=\u001b[39;49m\u001b[43mlivedata\u001b[49m\u001b[43m)\u001b[49m\n\u001b[1;32m   1417\u001b[0m \u001b[38;5;28;01mif\u001b[39;00m \u001b[38;5;28mself\u001b[39m\u001b[38;5;241m.\u001b[39mf1_api_support:\n\u001b[1;32m   1418\u001b[0m     \u001b[38;5;28;01mif\u001b[39;00m laps:\n",
      "File \u001b[0;32m~/.local/lib/python3.8/site-packages/fastf1/core.py:2146\u001b[0m, in \u001b[0;36mSession._load_drivers_results\u001b[0;34m(self, livedata)\u001b[0m\n\u001b[1;32m   2142\u001b[0m \u001b[38;5;66;03m# try loading from both sources if they are supported\u001b[39;00m\n\u001b[1;32m   2143\u001b[0m \u001b[38;5;66;03m# data is joined afterwards depending on availability\u001b[39;00m\n\u001b[1;32m   2144\u001b[0m \u001b[38;5;28;01mif\u001b[39;00m \u001b[38;5;28mself\u001b[39m\u001b[38;5;241m.\u001b[39mf1_api_support:\n\u001b[1;32m   2145\u001b[0m     \u001b[38;5;66;03m# load driver info from f1 api\u001b[39;00m\n\u001b[0;32m-> 2146\u001b[0m     driver_info_f1 \u001b[38;5;241m=\u001b[39m \u001b[38;5;28;43mself\u001b[39;49m\u001b[38;5;241;43m.\u001b[39;49m\u001b[43m_drivers_from_f1_api\u001b[49m\u001b[43m(\u001b[49m\u001b[43mlivedata\u001b[49m\u001b[38;5;241;43m=\u001b[39;49m\u001b[43mlivedata\u001b[49m\u001b[43m)\u001b[49m\n\u001b[1;32m   2147\u001b[0m \u001b[38;5;28;01mif\u001b[39;00m \u001b[38;5;129;01mnot\u001b[39;00m \u001b[38;5;28mself\u001b[39m\u001b[38;5;241m.\u001b[39mevent\u001b[38;5;241m.\u001b[39mis_testing():\n\u001b[1;32m   2148\u001b[0m     \u001b[38;5;66;03m# load driver info from ergast\u001b[39;00m\n\u001b[1;32m   2149\u001b[0m     driver_info_ergast \u001b[38;5;241m=\u001b[39m \u001b[38;5;28mself\u001b[39m\u001b[38;5;241m.\u001b[39m_drivers_results_from_ergast(\n\u001b[1;32m   2150\u001b[0m         load_drivers\u001b[38;5;241m=\u001b[39m\u001b[38;5;28;01mTrue\u001b[39;00m, load_results\u001b[38;5;241m=\u001b[39m\u001b[38;5;28;01mTrue\u001b[39;00m\n\u001b[1;32m   2151\u001b[0m     )\n",
      "File \u001b[0;32m~/.local/lib/python3.8/site-packages/fastf1/core.py:2230\u001b[0m, in \u001b[0;36mSession._drivers_from_f1_api\u001b[0;34m(self, livedata)\u001b[0m\n\u001b[1;32m   2227\u001b[0m         \u001b[38;5;28;01mfor\u001b[39;00m first, last \u001b[38;5;129;01min\u001b[39;00m \u001b[38;5;28mzip\u001b[39m(driver_info[\u001b[38;5;124m'\u001b[39m\u001b[38;5;124mFirstName\u001b[39m\u001b[38;5;124m'\u001b[39m],\n\u001b[1;32m   2228\u001b[0m                                driver_info[\u001b[38;5;124m'\u001b[39m\u001b[38;5;124mLastName\u001b[39m\u001b[38;5;124m'\u001b[39m]):\n\u001b[1;32m   2229\u001b[0m             driver_info[\u001b[38;5;124m'\u001b[39m\u001b[38;5;124mFullName\u001b[39m\u001b[38;5;124m'\u001b[39m]\u001b[38;5;241m.\u001b[39mappend(\u001b[38;5;124mf\u001b[39m\u001b[38;5;124m\"\u001b[39m\u001b[38;5;132;01m{\u001b[39;00mfirst\u001b[38;5;132;01m}\u001b[39;00m\u001b[38;5;124m \u001b[39m\u001b[38;5;132;01m{\u001b[39;00mlast\u001b[38;5;132;01m}\u001b[39;00m\u001b[38;5;124m\"\u001b[39m)\n\u001b[0;32m-> 2230\u001b[0m \u001b[38;5;28;01mreturn\u001b[39;00m pd\u001b[38;5;241m.\u001b[39mDataFrame(driver_info, index\u001b[38;5;241m=\u001b[39m\u001b[43mdriver_info\u001b[49m\u001b[43m[\u001b[49m\u001b[38;5;124;43m'\u001b[39;49m\u001b[38;5;124;43mDriverNumber\u001b[39;49m\u001b[38;5;124;43m'\u001b[39;49m\u001b[43m]\u001b[49m)\n",
      "\u001b[0;31mKeyError\u001b[0m: 'DriverNumber'"
     ]
    }
   ],
   "source": [
    "session = ff1.get_session(2025, 9, 'FP1')\n",
    "session.load()\n",
    "\n",
    "lap = session.laps.pick_fastest()\n",
    "pos = lap.get_pos_data()\n",
    "\n",
    "circuit_info = session.get_circuit_info()\n",
    "libraryDataF1.draw_track(circuit_info,pos,\"Circuit de Barcelona-Catalunya\")"
   ]
  },
  {
   "cell_type": "markdown",
   "metadata": {},
   "source": [
    "## Free Practice 1\n",
    "### Obtain setup"
   ]
  },
  {
   "cell_type": "code",
   "execution_count": 7,
   "metadata": {},
   "outputs": [],
   "source": [
    "practice = libraryDataF1.obtain_information('laps',session_key=9964)\n",
    "stintInformation = libraryDataF1.obtain_information('stints',session_key=9964)\n",
    "drivers = libraryDataF1.obtain_information('drivers',session_key=9964)"
   ]
  },
  {
   "cell_type": "code",
   "execution_count": 8,
   "metadata": {},
   "outputs": [],
   "source": [
    "stintsDataFrame =libraryDataF1.stint_configuration(drivers,stintInformation)\n",
    "jointables2 = pd.merge(practice,stintsDataFrame,on=['lap_number','driver_number'])\n",
    "libraryDataF1.obtain_drivers_colours(drivers)"
   ]
  },
  {
   "cell_type": "markdown",
   "metadata": {},
   "source": [
    "### Speed trap\n",
    "It seems that Ferrari centered on the turns and Red Bull on straights"
   ]
  },
  {
   "cell_type": "code",
   "execution_count": 9,
   "metadata": {},
   "outputs": [
    {
     "data": {
      "image/png": "[encoded data removed]",
      "text/plain": [
       "<Figure size 1200x900 with 1 Axes>"
      ]
     },
     "metadata": {},
     "output_type": "display_data"
    }
   ],
   "source": [
    "top_speed = jointables2.loc[jointables2.groupby(['name_acronym'])['st_speed'].idxmax()].sort_values(by=['st_speed'],ascending=False)\n",
    "libraryDataF1.obtainchart(\"name_acronym\",\"st_speed\",top_speed)"
   ]
  },
  {
   "cell_type": "code",
   "execution_count": 10,
   "metadata": {},
   "outputs": [
    {
     "data": {
      "image/png": "[encoded data removed]",
      "text/plain": [
       "<Figure size 1200x900 with 1 Axes>"
      ]
     },
     "metadata": {},
     "output_type": "display_data"
    }
   ],
   "source": [
    "top_speed = jointables2.loc[jointables2.groupby(['name_acronym'])['i1_speed'].idxmax()].sort_values(by=['i1_speed'],ascending=False)\n",
    "libraryDataF1.obtainchart(\"name_acronym\",\"i1_speed\",top_speed)"
   ]
  },
  {
   "cell_type": "code",
   "execution_count": 11,
   "metadata": {},
   "outputs": [
    {
     "data": {
      "image/png": "[encoded data removed]",
      "text/plain": [
       "<Figure size 1200x900 with 1 Axes>"
      ]
     },
     "metadata": {},
     "output_type": "display_data"
    }
   ],
   "source": [
    "top_speed = jointables2.loc[jointables2.groupby(['name_acronym'])['i2_speed'].idxmax()].sort_values(by=['i2_speed'],ascending=False)\n",
    "libraryDataF1.obtainchart(\"name_acronym\",\"i2_speed\",top_speed)"
   ]
  },
  {
   "cell_type": "markdown",
   "metadata": {},
   "source": [
    "### Fastest lap per compound\n",
    "In this section, I will show the best lap with the different compounds of the session. "
   ]
  },
  {
   "cell_type": "code",
   "execution_count": 12,
   "metadata": {},
   "outputs": [
    {
     "data": {
      "text/html": [
       "<div>\n",
       "<style scoped>\n",
       "    .dataframe tbody tr th:only-of-type {\n",
       "        vertical-align: middle;\n",
       "    }\n",
       "\n",
       "    .dataframe tbody tr th {\n",
       "        vertical-align: top;\n",
       "    }\n",
       "\n",
       "    .dataframe thead th {\n",
       "        text-align: right;\n",
       "    }\n",
       "</style>\n",
       "<table border=\"1\" class=\"dataframe\">\n",
       "  <thead>\n",
       "    <tr style=\"text-align: right;\">\n",
       "      <th></th>\n",
       "      <th>full_name</th>\n",
       "      <th>compound</th>\n",
       "      <th>duration_sector_1</th>\n",
       "      <th>duration_sector_2</th>\n",
       "      <th>duration_sector_3</th>\n",
       "      <th>lap_duration</th>\n",
       "    </tr>\n",
       "  </thead>\n",
       "  <tbody>\n",
       "    <tr>\n",
       "      <th>100</th>\n",
       "      <td>Lando NORRIS</td>\n",
       "      <td>HARD</td>\n",
       "      <td>22.120</td>\n",
       "      <td>30.198</td>\n",
       "      <td>22.941</td>\n",
       "      <td>75.259</td>\n",
       "    </tr>\n",
       "    <tr>\n",
       "      <th>211</th>\n",
       "      <td>George RUSSELL</td>\n",
       "      <td>MEDIUM</td>\n",
       "      <td>22.265</td>\n",
       "      <td>29.796</td>\n",
       "      <td>22.690</td>\n",
       "      <td>74.751</td>\n",
       "    </tr>\n",
       "    <tr>\n",
       "      <th>246</th>\n",
       "      <td>Lando NORRIS</td>\n",
       "      <td>SOFT</td>\n",
       "      <td>21.866</td>\n",
       "      <td>29.453</td>\n",
       "      <td>22.399</td>\n",
       "      <td>73.718</td>\n",
       "    </tr>\n",
       "  </tbody>\n",
       "</table>\n",
       "</div>"
      ],
      "text/plain": [
       "          full_name compound  duration_sector_1  duration_sector_2  \\\n",
       "100    Lando NORRIS     HARD             22.120             30.198   \n",
       "211  George RUSSELL   MEDIUM             22.265             29.796   \n",
       "246    Lando NORRIS     SOFT             21.866             29.453   \n",
       "\n",
       "     duration_sector_3  lap_duration  \n",
       "100             22.941        75.259  \n",
       "211             22.690        74.751  \n",
       "246             22.399        73.718  "
      ]
     },
     "execution_count": 12,
     "metadata": {},
     "output_type": "execute_result"
    }
   ],
   "source": [
    "compoundsPace = jointables2.loc[jointables2.groupby(['compound'])['lap_duration'].idxmin()]\n",
    "compoundsPace[['full_name','compound','duration_sector_1','duration_sector_2','duration_sector_3','lap_duration']]"
   ]
  },
  {
   "cell_type": "markdown",
   "metadata": {},
   "source": [
    "### Deltas\n",
    "FP1 is not representative and we dont watch much changes. Ferrari was competitive and McLaren seems competitve as previous rounds. Mercedes and Sauber suffered and Colapinto had an old floor.\n",
    "For qualyfing, just one attemp is allowed for soft tyre."
   ]
  },
  {
   "cell_type": "code",
   "execution_count": 13,
   "metadata": {},
   "outputs": [],
   "source": [
    "practiceCleaned = jointables2.query(\"lap_duration >1\")\n",
    "drivers_list = list(practiceCleaned['driver_number'].unique())\n",
    "newdataset = pd.DataFrame()\n",
    "for driver in drivers_list:\n",
    "    newdataset =libraryDataF1.obtain_fastest_lap(driver,practiceCleaned,newdataset)\n",
    "\n",
    "arr= libraryDataF1.obtain_deltas(newdataset)\n",
    "newdataset.insert(3,'delta',arr)\n"
   ]
  },
  {
   "cell_type": "code",
   "execution_count": 14,
   "metadata": {},
   "outputs": [
    {
     "data": {
      "image/png": "[encoded data removed]",
      "text/plain": [
       "<Figure size 1200x900 with 1 Axes>"
      ]
     },
     "metadata": {},
     "output_type": "display_data"
    }
   ],
   "source": [
    "dt = newdataset.sort_values(ascending=True,by='delta')\n",
    "libraryDataF1.obtainchart(\"name_acronym\",\"delta\",dt)"
   ]
  },
  {
   "cell_type": "markdown",
   "metadata": {},
   "source": [
    "### Track dominance\n",
    "In this section, best sector are taken of each sector to see the car's performance in each sector.\n",
    "S1: McLaren, Aston Martin and Red Bull are competitive. Mercedes should improve here.\n",
    "S2:Ferrari and RB seems competitive and Verstappen suffers here.\n",
    "S3: RB is competitive here and if McLaren fails, Ferrari could take the pole\n"
   ]
  },
  {
   "cell_type": "code",
   "execution_count": 15,
   "metadata": {},
   "outputs": [
    {
     "data": {
      "image/png": "[encoded data removed]",
      "text/plain": [
       "<Figure size 1200x900 with 1 Axes>"
      ]
     },
     "metadata": {},
     "output_type": "display_data"
    }
   ],
   "source": [
    "sectorPace = jointables2.loc[jointables2.groupby(['driver_number'])['duration_sector_1'].idxmin()].sort_values(by=['duration_sector_1'],ascending=True)\n",
    "libraryDataF1.obtainchart(\"name_acronym\",\"duration_sector_1\",sectorPace)"
   ]
  },
  {
   "cell_type": "code",
   "execution_count": 16,
   "metadata": {},
   "outputs": [
    {
     "data": {
      "image/png": "[encoded data removed]",
      "text/plain": [
       "<Figure size 1200x900 with 1 Axes>"
      ]
     },
     "metadata": {},
     "output_type": "display_data"
    }
   ],
   "source": [
    "sectorPace = jointables2.loc[jointables2.groupby(['driver_number'])['duration_sector_2'].idxmin()].sort_values(by=['duration_sector_2'],ascending=True)\n",
    "libraryDataF1.obtainchart(\"name_acronym\",\"duration_sector_2\",sectorPace)"
   ]
  },
  {
   "cell_type": "code",
   "execution_count": 17,
   "metadata": {},
   "outputs": [
    {
     "data": {
      "image/png": "[encoded data removed]",
      "text/plain": [
       "<Figure size 1200x900 with 1 Axes>"
      ]
     },
     "metadata": {},
     "output_type": "display_data"
    }
   ],
   "source": [
    "sectorPace = jointables2.loc[jointables2.groupby(['driver_number'])['duration_sector_3'].idxmin()].sort_values(by=['duration_sector_3'],ascending=True)\n",
    "libraryDataF1.obtainchart(\"name_acronym\",\"duration_sector_3\",sectorPace)"
   ]
  },
  {
   "cell_type": "markdown",
   "metadata": {},
   "source": [
    "### Mean pace with the different compound used on the session"
   ]
  },
  {
   "cell_type": "code",
   "execution_count": 18,
   "metadata": {},
   "outputs": [
    {
     "data": {
      "text/html": [
       "<div>\n",
       "<style scoped>\n",
       "    .dataframe tbody tr th:only-of-type {\n",
       "        vertical-align: middle;\n",
       "    }\n",
       "\n",
       "    .dataframe tbody tr th {\n",
       "        vertical-align: top;\n",
       "    }\n",
       "\n",
       "    .dataframe thead th {\n",
       "        text-align: right;\n",
       "    }\n",
       "</style>\n",
       "<table border=\"1\" class=\"dataframe\">\n",
       "  <thead>\n",
       "    <tr style=\"text-align: right;\">\n",
       "      <th></th>\n",
       "      <th>lap_duration</th>\n",
       "    </tr>\n",
       "    <tr>\n",
       "      <th>compound</th>\n",
       "      <th></th>\n",
       "    </tr>\n",
       "  </thead>\n",
       "  <tbody>\n",
       "    <tr>\n",
       "      <th>HARD</th>\n",
       "      <td>78.383914</td>\n",
       "    </tr>\n",
       "    <tr>\n",
       "      <th>SOFT</th>\n",
       "      <td>79.082789</td>\n",
       "    </tr>\n",
       "    <tr>\n",
       "      <th>MEDIUM</th>\n",
       "      <td>79.603154</td>\n",
       "    </tr>\n",
       "  </tbody>\n",
       "</table>\n",
       "</div>"
      ],
      "text/plain": [
       "          lap_duration\n",
       "compound              \n",
       "HARD         78.383914\n",
       "SOFT         79.082789\n",
       "MEDIUM       79.603154"
      ]
     },
     "execution_count": 18,
     "metadata": {},
     "output_type": "execute_result"
    }
   ],
   "source": [
    "race_pace = pd.DataFrame(jointables2.query(\"is_pit_out_lap == False  and lap_duration <= 83\").groupby(\"compound\")['lap_duration'].mean().sort_values(ascending=True))\n",
    "race_pace"
   ]
  },
  {
   "cell_type": "markdown",
   "metadata": {},
   "source": [
    "## Free Practice 2\n",
    "### Obtain setup"
   ]
  },
  {
   "cell_type": "code",
   "execution_count": null,
   "metadata": {},
   "outputs": [],
   "source": [
    "practice = libraryDataF1.obtain_information('laps',session_key=9533)\n",
    "stintInformation = libraryDataF1.obtain_information('stints',session_key=9533)\n",
    "drivers = libraryDataF1.obtain_information('drivers',session_key=9533)"
   ]
  },
  {
   "cell_type": "code",
   "execution_count": null,
   "metadata": {},
   "outputs": [],
   "source": [
    "stintsDataFrame =libraryDataF1.stint_configuration(drivers,stintInformation)\n",
    "jointables2 = pd.merge(practice,stintsDataFrame,on=['lap_number','driver_number'])\n",
    "libraryDataF1.obtain_drivers_colours(drivers)"
   ]
  },
  {
   "cell_type": "markdown",
   "metadata": {},
   "source": [
    "### Speed trap"
   ]
  },
  {
   "cell_type": "code",
   "execution_count": null,
   "metadata": {},
   "outputs": [],
   "source": [
    "top_speed = jointables2.loc[jointables2.groupby(['name_acronym'])['st_speed'].idxmax()].sort_values(by=['st_speed'],ascending=False)\n",
    "libraryDataF1.obtainchart(\"name_acronym\",\"st_speed\",top_speed)"
   ]
  },
  {
   "cell_type": "code",
   "execution_count": null,
   "metadata": {},
   "outputs": [],
   "source": [
    "top_speed = jointables2.loc[jointables2.groupby(['name_acronym'])['i1_speed'].idxmax()].sort_values(by=['i1_speed'],ascending=False)\n",
    "libraryDataF1.obtainchart(\"name_acronym\",\"i1_speed\",top_speed)"
   ]
  },
  {
   "cell_type": "code",
   "execution_count": null,
   "metadata": {},
   "outputs": [],
   "source": [
    "top_speed = jointables2.loc[jointables2.groupby(['name_acronym'])['i2_speed'].idxmax()].sort_values(by=['i2_speed'],ascending=False)\n",
    "libraryDataF1.obtainchart(\"name_acronym\",\"i2_speed\",top_speed)"
   ]
  },
  {
   "cell_type": "markdown",
   "metadata": {},
   "source": [
    "### Fastest lap per compound\n",
    "In this section, I will show the best lap with the different compounds of the session. "
   ]
  },
  {
   "cell_type": "code",
   "execution_count": null,
   "metadata": {},
   "outputs": [],
   "source": [
    "compoundsPace = jointables2.loc[jointables2.groupby(['compound'])['lap_duration'].idxmin()]\n",
    "compoundsPace[['full_name','compound','duration_sector_1','duration_sector_2','duration_sector_3','lap_duration']]"
   ]
  },
  {
   "cell_type": "markdown",
   "metadata": {},
   "source": [
    "### Deltas\n",
    "In this section we can see the deltas of the fastest lap of each driver compared with the fastest lap of the session.Due to changing conditions, only a part of the free practice were important and this part will be taken into consideration."
   ]
  },
  {
   "cell_type": "code",
   "execution_count": null,
   "metadata": {},
   "outputs": [],
   "source": [
    "practiceCleaned = jointables2.query(\"lap_duration >1\")\n",
    "drivers_list = list(practiceCleaned['driver_number'].unique())\n",
    "newdataset = pd.DataFrame()\n",
    "for driver in drivers_list:\n",
    "    newdataset =libraryDataF1.obtain_fastest_lap(driver,practiceCleaned,newdataset)\n",
    "\n",
    "arr= libraryDataF1.obtain_deltas(newdataset)\n",
    "newdataset.insert(3,'delta',arr)\n"
   ]
  },
  {
   "cell_type": "code",
   "execution_count": null,
   "metadata": {},
   "outputs": [],
   "source": [
    "dt = newdataset.sort_values(ascending=True,by='delta')\n",
    "libraryDataF1.obtainchart(\"name_acronym\",\"delta\",dt)"
   ]
  },
  {
   "cell_type": "markdown",
   "metadata": {},
   "source": [
    "### Track dominance\n",
    "In this section, best sector are taken of each sector to see the car's performance in each sector. As I said in the previous section, the changing conditions made that the data obtained in this section are not representatives."
   ]
  },
  {
   "cell_type": "code",
   "execution_count": null,
   "metadata": {},
   "outputs": [],
   "source": [
    "sectorPace = jointables2.loc[jointables2.groupby(['driver_number'])['duration_sector_1'].idxmin()].sort_values(by=['duration_sector_1'],ascending=True)\n",
    "libraryDataF1.obtainchart(\"name_acronym\",\"duration_sector_1\",sectorPace)"
   ]
  },
  {
   "cell_type": "code",
   "execution_count": null,
   "metadata": {},
   "outputs": [],
   "source": [
    "sectorPace = jointables2.loc[jointables2.groupby(['driver_number'])['duration_sector_2'].idxmin()].sort_values(by=['duration_sector_2'],ascending=True)\n",
    "libraryDataF1.obtainchart(\"name_acronym\",\"duration_sector_2\",sectorPace)"
   ]
  },
  {
   "cell_type": "code",
   "execution_count": null,
   "metadata": {},
   "outputs": [],
   "source": [
    "sectorPace = jointables2.loc[jointables2.groupby(['driver_number'])['duration_sector_3'].idxmin()].sort_values(by=['duration_sector_3'],ascending=True)\n",
    "libraryDataF1.obtainchart(\"name_acronym\",\"duration_sector_3\",sectorPace)"
   ]
  },
  {
   "cell_type": "markdown",
   "metadata": {},
   "source": [
    "### Mean pace with the different compound used on the session"
   ]
  },
  {
   "cell_type": "code",
   "execution_count": null,
   "metadata": {},
   "outputs": [],
   "source": [
    "race_pace = pd.DataFrame(jointables2.query(\"is_pit_out_lap == False  and lap_duration <= 83\").groupby(\"compound\")['lap_duration'].mean().sort_values(ascending=True))\n",
    "race_pace"
   ]
  },
  {
   "cell_type": "markdown",
   "metadata": {},
   "source": [
    "### Long runs"
   ]
  },
  {
   "cell_type": "code",
   "execution_count": null,
   "metadata": {},
   "outputs": [],
   "source": [
    "MINIMUN_SECONDS = 79.5\n",
    "MAXIMUM_SECONDS = 83"
   ]
  },
  {
   "cell_type": "markdown",
   "metadata": {},
   "source": [
    "#### Red Bull Racing"
   ]
  },
  {
   "cell_type": "code",
   "execution_count": null,
   "metadata": {},
   "outputs": [],
   "source": [
    "stintInformation.query('driver_number == 1 or driver_number == 11')"
   ]
  },
  {
   "cell_type": "code",
   "execution_count": null,
   "metadata": {},
   "outputs": [],
   "source": [
    "data = libraryDataF1.getinfolongruns(jointables2,1,'Red Bull Racing',MINIMUN_SECONDS,MAXIMUM_SECONDS)\n",
    "data"
   ]
  },
  {
   "cell_type": "code",
   "execution_count": null,
   "metadata": {},
   "outputs": [],
   "source": [
    "if len(data) != 0:\n",
    "    libraryDataF1.race_pace_graph(data)"
   ]
  },
  {
   "cell_type": "code",
   "execution_count": null,
   "metadata": {},
   "outputs": [],
   "source": [
    "if len(data) != 0:\n",
    "    libraryDataF1.race_pace_divided_per_sectors(data)"
   ]
  },
  {
   "cell_type": "code",
   "execution_count": null,
   "metadata": {},
   "outputs": [],
   "source": [
    "data = libraryDataF1.getinfolongruns(jointables2,11,'Red Bull Racing',MINIMUN_SECONDS,MAXIMUM_SECONDS)\n",
    "data"
   ]
  },
  {
   "cell_type": "code",
   "execution_count": null,
   "metadata": {},
   "outputs": [],
   "source": [
    "if len(data) != 0:\n",
    "    libraryDataF1.race_pace_graph(data)"
   ]
  },
  {
   "cell_type": "code",
   "execution_count": null,
   "metadata": {},
   "outputs": [],
   "source": [
    "if len(data) != 0:\n",
    "    libraryDataF1.race_pace_divided_per_sectors(data)"
   ]
  },
  {
   "cell_type": "markdown",
   "metadata": {},
   "source": [
    "#### Ferrari"
   ]
  },
  {
   "cell_type": "code",
   "execution_count": null,
   "metadata": {},
   "outputs": [],
   "source": [
    "stintInformation.query('driver_number == 55 or driver_number == 16')"
   ]
  },
  {
   "cell_type": "code",
   "execution_count": null,
   "metadata": {},
   "outputs": [],
   "source": [
    "data = libraryDataF1.getinfolongruns(jointables2,16,'Ferrari',MINIMUN_SECONDS,MAXIMUM_SECONDS)\n",
    "data"
   ]
  },
  {
   "cell_type": "code",
   "execution_count": null,
   "metadata": {},
   "outputs": [],
   "source": [
    "if len(data) != 0:\n",
    "    libraryDataF1.race_pace_graph(data)"
   ]
  },
  {
   "cell_type": "code",
   "execution_count": null,
   "metadata": {},
   "outputs": [],
   "source": [
    "if len(data) != 0:\n",
    "    libraryDataF1.race_pace_divided_per_sectors(data)"
   ]
  },
  {
   "cell_type": "code",
   "execution_count": null,
   "metadata": {},
   "outputs": [],
   "source": [
    "data = libraryDataF1.getinfolongruns(jointables2,55,'Ferrari',MINIMUN_SECONDS,MAXIMUM_SECONDS)\n",
    "data"
   ]
  },
  {
   "cell_type": "code",
   "execution_count": null,
   "metadata": {},
   "outputs": [],
   "source": [
    "if len(data) != 0:\n",
    "    libraryDataF1.race_pace_graph(data)"
   ]
  },
  {
   "cell_type": "code",
   "execution_count": null,
   "metadata": {},
   "outputs": [],
   "source": [
    "if len(data) != 0:\n",
    "    libraryDataF1.race_pace_divided_per_sectors(data)"
   ]
  },
  {
   "cell_type": "markdown",
   "metadata": {},
   "source": [
    "#### Mercedes"
   ]
  },
  {
   "cell_type": "code",
   "execution_count": null,
   "metadata": {},
   "outputs": [],
   "source": [
    "stintInformation.query('driver_number == 63 or driver_number == 44')"
   ]
  },
  {
   "cell_type": "code",
   "execution_count": null,
   "metadata": {},
   "outputs": [],
   "source": [
    "data = libraryDataF1.getinfolongruns(jointables2,44,'Mercedes',MINIMUN_SECONDS,MAXIMUM_SECONDS)\n",
    "data"
   ]
  },
  {
   "cell_type": "code",
   "execution_count": null,
   "metadata": {},
   "outputs": [],
   "source": [
    "if len(data) != 0:\n",
    "    libraryDataF1.race_pace_graph(data)"
   ]
  },
  {
   "cell_type": "code",
   "execution_count": null,
   "metadata": {},
   "outputs": [],
   "source": [
    "if len(data) != 0:\n",
    "    libraryDataF1.race_pace_divided_per_sectors(data)"
   ]
  },
  {
   "cell_type": "code",
   "execution_count": null,
   "metadata": {},
   "outputs": [],
   "source": [
    "data = libraryDataF1.getinfolongruns(jointables2,63,'Mercedes',MINIMUN_SECONDS,MAXIMUM_SECONDS)\n",
    "data"
   ]
  },
  {
   "cell_type": "code",
   "execution_count": null,
   "metadata": {},
   "outputs": [],
   "source": [
    "if len(data) != 0:\n",
    "    libraryDataF1.race_pace_graph(data)"
   ]
  },
  {
   "cell_type": "code",
   "execution_count": null,
   "metadata": {},
   "outputs": [],
   "source": [
    "if len(data) != 0:\n",
    "    libraryDataF1.race_pace_divided_per_sectors(data)"
   ]
  },
  {
   "cell_type": "markdown",
   "metadata": {},
   "source": [
    "#### McLaren"
   ]
  },
  {
   "cell_type": "code",
   "execution_count": null,
   "metadata": {},
   "outputs": [],
   "source": [
    "stintInformation.query('driver_number == 81 or driver_number == 4')"
   ]
  },
  {
   "cell_type": "code",
   "execution_count": null,
   "metadata": {},
   "outputs": [],
   "source": [
    "data = libraryDataF1.getinfolongruns(jointables2,4,'McLaren',MINIMUN_SECONDS,MAXIMUM_SECONDS)\n",
    "data"
   ]
  },
  {
   "cell_type": "code",
   "execution_count": null,
   "metadata": {},
   "outputs": [],
   "source": [
    "if len(data) != 0:\n",
    "    libraryDataF1.race_pace_graph(data)"
   ]
  },
  {
   "cell_type": "code",
   "execution_count": null,
   "metadata": {},
   "outputs": [],
   "source": [
    "if len(data) != 0:\n",
    "    libraryDataF1.race_pace_divided_per_sectors(data)"
   ]
  },
  {
   "cell_type": "code",
   "execution_count": null,
   "metadata": {},
   "outputs": [],
   "source": [
    "data = libraryDataF1.getinfolongruns(jointables2,81,'McLaren',MINIMUN_SECONDS,MAXIMUM_SECONDS)\n",
    "data"
   ]
  },
  {
   "cell_type": "code",
   "execution_count": null,
   "metadata": {},
   "outputs": [],
   "source": [
    "if len(data) != 0:\n",
    "    libraryDataF1.race_pace_graph(data)"
   ]
  },
  {
   "cell_type": "code",
   "execution_count": null,
   "metadata": {},
   "outputs": [],
   "source": [
    "if len(data) != 0:\n",
    "    libraryDataF1.race_pace_divided_per_sectors(data)"
   ]
  },
  {
   "cell_type": "markdown",
   "metadata": {},
   "source": [
    "#### Aston Martin"
   ]
  },
  {
   "cell_type": "code",
   "execution_count": null,
   "metadata": {},
   "outputs": [],
   "source": [
    "stintInformation.query('driver_number == 18 or driver_number == 14')"
   ]
  },
  {
   "cell_type": "code",
   "execution_count": null,
   "metadata": {},
   "outputs": [],
   "source": [
    "data = libraryDataF1.getinfolongruns(jointables2,14,'Aston Martin',MINIMUN_SECONDS,MAXIMUM_SECONDS)\n",
    "data"
   ]
  },
  {
   "cell_type": "code",
   "execution_count": null,
   "metadata": {},
   "outputs": [],
   "source": [
    "if len(data) != 0:\n",
    "    libraryDataF1.race_pace_graph(data)"
   ]
  },
  {
   "cell_type": "code",
   "execution_count": null,
   "metadata": {},
   "outputs": [],
   "source": [
    "if len(data) != 0:\n",
    "    libraryDataF1.race_pace_divided_per_sectors(data)"
   ]
  },
  {
   "cell_type": "code",
   "execution_count": null,
   "metadata": {},
   "outputs": [],
   "source": [
    "data = libraryDataF1.getinfolongruns(jointables2,18,'Aston Martin',MINIMUN_SECONDS,MAXIMUM_SECONDS)\n",
    "data"
   ]
  },
  {
   "cell_type": "code",
   "execution_count": null,
   "metadata": {},
   "outputs": [],
   "source": [
    "if len(data) != 0:\n",
    "    libraryDataF1.race_pace_graph(data)"
   ]
  },
  {
   "cell_type": "code",
   "execution_count": null,
   "metadata": {},
   "outputs": [],
   "source": [
    "if len(data) != 0:\n",
    "    libraryDataF1.race_pace_divided_per_sectors(data)"
   ]
  },
  {
   "cell_type": "markdown",
   "metadata": {},
   "source": [
    "#### RB"
   ]
  },
  {
   "cell_type": "code",
   "execution_count": null,
   "metadata": {},
   "outputs": [],
   "source": [
    "stintInformation.query('driver_number == 3 or driver_number == 22')"
   ]
  },
  {
   "cell_type": "code",
   "execution_count": null,
   "metadata": {},
   "outputs": [],
   "source": [
    "data = libraryDataF1.getinfolongruns(jointables2,3,'RB',MINIMUN_SECONDS,MAXIMUM_SECONDS)\n",
    "data"
   ]
  },
  {
   "cell_type": "code",
   "execution_count": null,
   "metadata": {},
   "outputs": [],
   "source": [
    "if len(data) != 0:\n",
    "    libraryDataF1.race_pace_graph(data)"
   ]
  },
  {
   "cell_type": "code",
   "execution_count": null,
   "metadata": {},
   "outputs": [],
   "source": [
    "if len(data) != 0:\n",
    "    libraryDataF1.race_pace_divided_per_sectors(data)"
   ]
  },
  {
   "cell_type": "code",
   "execution_count": null,
   "metadata": {},
   "outputs": [],
   "source": [
    "data = libraryDataF1.getinfolongruns(jointables2,22,'RB',MINIMUN_SECONDS,MAXIMUM_SECONDS)\n",
    "data"
   ]
  },
  {
   "cell_type": "code",
   "execution_count": null,
   "metadata": {},
   "outputs": [],
   "source": [
    "if len(data) != 0:\n",
    "    libraryDataF1.race_pace_graph(data)"
   ]
  },
  {
   "cell_type": "code",
   "execution_count": null,
   "metadata": {},
   "outputs": [],
   "source": [
    "if len(data) != 0:\n",
    "    libraryDataF1.race_pace_divided_per_sectors(data)"
   ]
  },
  {
   "cell_type": "markdown",
   "metadata": {},
   "source": [
    "#### Haas"
   ]
  },
  {
   "cell_type": "code",
   "execution_count": null,
   "metadata": {},
   "outputs": [],
   "source": [
    "stintInformation.query('driver_number == 20 or driver_number == 27')"
   ]
  },
  {
   "cell_type": "code",
   "execution_count": null,
   "metadata": {},
   "outputs": [],
   "source": [
    "data = libraryDataF1.getinfolongruns(jointables2,20,'Haas F1 Team',MINIMUN_SECONDS,MAXIMUM_SECONDS)\n",
    "data"
   ]
  },
  {
   "cell_type": "code",
   "execution_count": null,
   "metadata": {},
   "outputs": [],
   "source": [
    "if len(data) != 0:\n",
    "    libraryDataF1.race_pace_graph(data)"
   ]
  },
  {
   "cell_type": "code",
   "execution_count": null,
   "metadata": {},
   "outputs": [],
   "source": [
    "if len(data) != 0:\n",
    "    libraryDataF1.race_pace_divided_per_sectors(data)"
   ]
  },
  {
   "cell_type": "code",
   "execution_count": null,
   "metadata": {},
   "outputs": [],
   "source": [
    "data = libraryDataF1.getinfolongruns(jointables2,27,'Haas F1 Team',MINIMUN_SECONDS,MAXIMUM_SECONDS)\n",
    "data\n"
   ]
  },
  {
   "cell_type": "code",
   "execution_count": null,
   "metadata": {},
   "outputs": [],
   "source": [
    "if len(data) != 0:\n",
    "    libraryDataF1.race_pace_graph(data)"
   ]
  },
  {
   "cell_type": "code",
   "execution_count": null,
   "metadata": {},
   "outputs": [],
   "source": [
    "if len(data) != 0:\n",
    "    libraryDataF1.race_pace_divided_per_sectors(data)"
   ]
  },
  {
   "cell_type": "markdown",
   "metadata": {},
   "source": [
    "#### Alpine"
   ]
  },
  {
   "cell_type": "code",
   "execution_count": null,
   "metadata": {},
   "outputs": [],
   "source": [
    "stintInformation.query('driver_number == 10 or driver_number == 31')"
   ]
  },
  {
   "cell_type": "code",
   "execution_count": null,
   "metadata": {},
   "outputs": [],
   "source": [
    "data =libraryDataF1.getinfolongruns(jointables2,31,'Alpine',MINIMUN_SECONDS,MAXIMUM_SECONDS)\n",
    "data"
   ]
  },
  {
   "cell_type": "code",
   "execution_count": null,
   "metadata": {},
   "outputs": [],
   "source": [
    "if len(data) != 0:\n",
    "    libraryDataF1.race_pace_graph(data)"
   ]
  },
  {
   "cell_type": "code",
   "execution_count": null,
   "metadata": {},
   "outputs": [],
   "source": [
    "if len(data) != 0:\n",
    "    libraryDataF1.race_pace_divided_per_sectors(data)"
   ]
  },
  {
   "cell_type": "code",
   "execution_count": null,
   "metadata": {},
   "outputs": [],
   "source": [
    "data = libraryDataF1.getinfolongruns(jointables2,10,'Alpine',MINIMUN_SECONDS,MAXIMUM_SECONDS)\n",
    "data"
   ]
  },
  {
   "cell_type": "code",
   "execution_count": null,
   "metadata": {},
   "outputs": [],
   "source": [
    "if len(data) != 0:\n",
    "    libraryDataF1.race_pace_graph(data)"
   ]
  },
  {
   "cell_type": "code",
   "execution_count": null,
   "metadata": {},
   "outputs": [],
   "source": [
    "if len(data) != 0:\n",
    "    libraryDataF1.race_pace_divided_per_sectors(data)"
   ]
  },
  {
   "cell_type": "markdown",
   "metadata": {},
   "source": [
    "#### Williams"
   ]
  },
  {
   "cell_type": "code",
   "execution_count": null,
   "metadata": {},
   "outputs": [],
   "source": [
    "stintInformation.query('driver_number == 2 or driver_number == 23')"
   ]
  },
  {
   "cell_type": "code",
   "execution_count": null,
   "metadata": {},
   "outputs": [],
   "source": [
    "data = libraryDataF1.getinfolongruns(jointables2,23,'Williams',MINIMUN_SECONDS,MAXIMUM_SECONDS)\n",
    "data"
   ]
  },
  {
   "cell_type": "code",
   "execution_count": null,
   "metadata": {},
   "outputs": [],
   "source": [
    "if len(data) != 0:\n",
    "    libraryDataF1.race_pace_graph(data)"
   ]
  },
  {
   "cell_type": "code",
   "execution_count": null,
   "metadata": {},
   "outputs": [],
   "source": [
    "if len(data) != 0:\n",
    "    libraryDataF1.race_pace_divided_per_sectors(data)"
   ]
  },
  {
   "cell_type": "code",
   "execution_count": null,
   "metadata": {},
   "outputs": [],
   "source": [
    "data= libraryDataF1.getinfolongruns(jointables2,2,'Williams',MINIMUN_SECONDS,MAXIMUM_SECONDS)\n",
    "data"
   ]
  },
  {
   "cell_type": "code",
   "execution_count": null,
   "metadata": {},
   "outputs": [],
   "source": [
    "if len(data) != 0:\n",
    "    libraryDataF1.race_pace_graph(data)"
   ]
  },
  {
   "cell_type": "code",
   "execution_count": null,
   "metadata": {},
   "outputs": [],
   "source": [
    "if len(data) != 0:\n",
    "    libraryDataF1.race_pace_divided_per_sectors(data)"
   ]
  },
  {
   "cell_type": "markdown",
   "metadata": {},
   "source": [
    "#### Kick Sauber"
   ]
  },
  {
   "cell_type": "code",
   "execution_count": null,
   "metadata": {},
   "outputs": [],
   "source": [
    "stintInformation.query('driver_number == 24 or driver_number == 77')"
   ]
  },
  {
   "cell_type": "code",
   "execution_count": null,
   "metadata": {},
   "outputs": [],
   "source": [
    "data = libraryDataF1.getinfolongruns(jointables2,24,'Kick Sauber',MINIMUN_SECONDS,MAXIMUM_SECONDS)\n",
    "data"
   ]
  },
  {
   "cell_type": "code",
   "execution_count": null,
   "metadata": {},
   "outputs": [],
   "source": [
    "if len(data) != 0:\n",
    "    libraryDataF1.race_pace_graph(data)"
   ]
  },
  {
   "cell_type": "code",
   "execution_count": null,
   "metadata": {},
   "outputs": [],
   "source": [
    "if len(data) != 0:\n",
    "    libraryDataF1.race_pace_divided_per_sectors(data)"
   ]
  },
  {
   "cell_type": "code",
   "execution_count": null,
   "metadata": {},
   "outputs": [],
   "source": [
    "data = libraryDataF1.getinfolongruns(jointables2,77,'Kick Sauber',MINIMUN_SECONDS,MAXIMUM_SECONDS)\n",
    "data"
   ]
  },
  {
   "cell_type": "code",
   "execution_count": null,
   "metadata": {},
   "outputs": [],
   "source": [
    "if len(data) != 0:\n",
    "    libraryDataF1.race_pace_graph(data)"
   ]
  },
  {
   "cell_type": "code",
   "execution_count": null,
   "metadata": {},
   "outputs": [],
   "source": [
    "if len(data) != 0:\n",
    "    libraryDataF1.race_pace_divided_per_sectors(data)"
   ]
  },
  {
   "cell_type": "markdown",
   "metadata": {},
   "source": [
    "#### Long runs mean for each driver"
   ]
  },
  {
   "cell_type": "code",
   "execution_count": null,
   "metadata": {},
   "outputs": [],
   "source": [
    "longrun_data = libraryDataF1.obtainLongRunData(drivers,jointables2,MINIMUN_SECONDS,MAXIMUM_SECONDS)"
   ]
  },
  {
   "cell_type": "markdown",
   "metadata": {},
   "source": [
    "##### Sorted by lap duration"
   ]
  },
  {
   "cell_type": "code",
   "execution_count": null,
   "metadata": {},
   "outputs": [],
   "source": [
    "sorted_laps = pd.DataFrame(longrun_data,columns=['driver','compound','lap_duration','sector1','sector2','sector3'])"
   ]
  },
  {
   "cell_type": "code",
   "execution_count": null,
   "metadata": {},
   "outputs": [],
   "source": [
    "sorted_laps.sort_values(by='lap_duration',ascending=True)"
   ]
  },
  {
   "cell_type": "markdown",
   "metadata": {},
   "source": [
    "##### Sorted by sector 1"
   ]
  },
  {
   "cell_type": "code",
   "execution_count": null,
   "metadata": {},
   "outputs": [],
   "source": [
    "sorted_laps.sort_values(by='sector1',ascending=True)[['driver','compound','sector1']]"
   ]
  },
  {
   "cell_type": "markdown",
   "metadata": {},
   "source": [
    "##### Sorted by sector 2"
   ]
  },
  {
   "cell_type": "code",
   "execution_count": null,
   "metadata": {},
   "outputs": [],
   "source": [
    "sorted_laps.sort_values(by='sector2',ascending=True)[['driver','compound','sector2']]"
   ]
  },
  {
   "cell_type": "markdown",
   "metadata": {},
   "source": [
    "##### Sorted by sector 3"
   ]
  },
  {
   "cell_type": "code",
   "execution_count": null,
   "metadata": {},
   "outputs": [],
   "source": [
    "sorted_laps.sort_values(by='sector3',ascending=True)[['driver','compound','sector3']]"
   ]
  },
  {
   "cell_type": "markdown",
   "metadata": {},
   "source": [
    "#### Long runs mean"
   ]
  },
  {
   "cell_type": "code",
   "execution_count": null,
   "metadata": {},
   "outputs": [],
   "source": [
    "longruns_summary = libraryDataF1.obtainMeanLongRuns(drivers,jointables2,MINIMUN_SECONDS,MAXIMUM_SECONDS)"
   ]
  },
  {
   "cell_type": "markdown",
   "metadata": {},
   "source": [
    "##### Mean pace per compound"
   ]
  },
  {
   "cell_type": "code",
   "execution_count": null,
   "metadata": {},
   "outputs": [],
   "source": [
    "#libraryDataF1.showDataLongRuns(longruns_summary,\"INTERMEDIATE\",\"mean_lap_time\",['driver','mean_lap_time'])"
   ]
  },
  {
   "cell_type": "code",
   "execution_count": null,
   "metadata": {},
   "outputs": [],
   "source": [
    "#libraryDataF1.showDataLongRuns(longruns_summary,\"SOFT\",\"mean_lap_time\",['driver','mean_lap_time'])"
   ]
  },
  {
   "cell_type": "code",
   "execution_count": null,
   "metadata": {},
   "outputs": [],
   "source": [
    "#libraryDataF1.showDataLongRuns(longruns_summary,\"HARD\",\"mean_lap_time\",['driver','mean_lap_time'])"
   ]
  },
  {
   "cell_type": "markdown",
   "metadata": {},
   "source": [
    "## Free Practice 3\n",
    "### Obtain setup"
   ]
  },
  {
   "cell_type": "code",
   "execution_count": null,
   "metadata": {},
   "outputs": [],
   "source": [
    "practice = libraryDataF1.obtain_information('laps',session_key=9534)\n",
    "stintInformation = libraryDataF1.obtain_information('stints',session_key=9534)\n",
    "drivers = libraryDataF1.obtain_information('drivers',session_key=9534)"
   ]
  },
  {
   "cell_type": "code",
   "execution_count": null,
   "metadata": {},
   "outputs": [],
   "source": [
    "stintsDataFrame =libraryDataF1.stint_configuration(drivers,stintInformation)\n",
    "jointables2 = pd.merge(practice,stintsDataFrame,on=['lap_number','driver_number'])\n",
    "libraryDataF1.obtain_drivers_colours(drivers)"
   ]
  },
  {
   "cell_type": "code",
   "execution_count": null,
   "metadata": {},
   "outputs": [],
   "source": [
    "session = ff1.get_session(2024, 10, 'FP3')\n",
    "session.load();"
   ]
  },
  {
   "cell_type": "markdown",
   "metadata": {},
   "source": [
    "### Speed trap"
   ]
  },
  {
   "cell_type": "code",
   "execution_count": null,
   "metadata": {},
   "outputs": [],
   "source": [
    "top_speed = jointables2.loc[jointables2.groupby(['name_acronym'])['st_speed'].idxmax()].sort_values(by=['st_speed'],ascending=False)\n",
    "libraryDataF1.obtainchart(\"name_acronym\",\"st_speed\",top_speed)"
   ]
  },
  {
   "cell_type": "code",
   "execution_count": null,
   "metadata": {},
   "outputs": [],
   "source": [
    "top_speed = jointables2.loc[jointables2.groupby(['name_acronym'])['i1_speed'].idxmax()].sort_values(by=['i1_speed'],ascending=False)\n",
    "libraryDataF1.obtainchart(\"name_acronym\",\"i1_speed\",top_speed)"
   ]
  },
  {
   "cell_type": "code",
   "execution_count": null,
   "metadata": {},
   "outputs": [],
   "source": [
    "top_speed = jointables2.loc[jointables2.groupby(['name_acronym'])['i2_speed'].idxmax()].sort_values(by=['i2_speed'],ascending=False)\n",
    "libraryDataF1.obtainchart(\"name_acronym\",\"i2_speed\",top_speed)"
   ]
  },
  {
   "cell_type": "markdown",
   "metadata": {},
   "source": [
    "### Fastest lap per compound\n",
    "In this section, I will show the best lap with the different compounds of the session. "
   ]
  },
  {
   "cell_type": "code",
   "execution_count": null,
   "metadata": {},
   "outputs": [],
   "source": [
    "compoundsPace = jointables2.loc[jointables2.groupby(['compound'])['lap_duration'].idxmin()]\n",
    "compoundsPace[['full_name','compound','duration_sector_1','duration_sector_2','duration_sector_3','lap_duration']]"
   ]
  },
  {
   "cell_type": "markdown",
   "metadata": {},
   "source": [
    "### Deltas\n",
    "In this section we can see the deltas of the fastest lap of each driver compared with the fastest lap of the session"
   ]
  },
  {
   "cell_type": "code",
   "execution_count": null,
   "metadata": {},
   "outputs": [],
   "source": [
    "practiceCleaned = jointables2.query(\"lap_duration >1\")\n",
    "drivers_list = list(practiceCleaned['driver_number'].unique())\n",
    "newdataset = pd.DataFrame()\n",
    "for driver in drivers_list:\n",
    "    newdataset =libraryDataF1.obtain_fastest_lap(driver,practiceCleaned,newdataset)\n",
    "\n",
    "arr= libraryDataF1.obtain_deltas(newdataset)\n",
    "newdataset.insert(3,'delta',arr)\n"
   ]
  },
  {
   "cell_type": "code",
   "execution_count": null,
   "metadata": {},
   "outputs": [],
   "source": [
    "dt = newdataset.sort_values(ascending=True,by='delta')\n",
    "libraryDataF1.obtainchart(\"name_acronym\",\"delta\",dt)"
   ]
  },
  {
   "cell_type": "markdown",
   "metadata": {},
   "source": [
    "### Track dominance\n",
    "In this section, best sector are taken of each sector to see the car's performance in each sector. Sainz was the fastest driver in this session with a narrow difference with Norris and Leclerc. This qualyfing test showed that the pole was going to be very disputed among Ferrari,Norris and Verstappen with Mercedes one step behind.\n",
    "\n",
    "<b>Sector 1:</b> In this sector we can see that is Leclerc who was the fastest but his difference in this sector was very narrow with one tenth of difference with Ocon who was the sixth fastest. Also, we can see that there is another group among Hamilton(7th) and Piastri(12th)\n",
    "<br>\n",
    "<b>Sector 2:</b> In sector 2, Leclerc was the fastest, followed by Hamilton and Sainz.\n",
    "<br>\n",
    "<b>Sector 3:</b> In the sector 3 it is Carlos who was the fastest, obtaining the fastest time thanks to his third sector. We can see that this sector it could be decisive to take the pole."
   ]
  },
  {
   "cell_type": "code",
   "execution_count": null,
   "metadata": {},
   "outputs": [],
   "source": [
    "sectorPace = jointables2.loc[jointables2.groupby(['driver_number'])['duration_sector_1'].idxmin()].sort_values(by=['duration_sector_1'],ascending=True)\n",
    "libraryDataF1.obtainchart(\"name_acronym\",\"duration_sector_1\",sectorPace)"
   ]
  },
  {
   "cell_type": "code",
   "execution_count": null,
   "metadata": {},
   "outputs": [],
   "source": [
    "sectorPace = jointables2.loc[jointables2.groupby(['driver_number'])['duration_sector_2'].idxmin()].sort_values(by=['duration_sector_2'],ascending=True)\n",
    "libraryDataF1.obtainchart(\"name_acronym\",\"duration_sector_2\",sectorPace)"
   ]
  },
  {
   "cell_type": "code",
   "execution_count": null,
   "metadata": {},
   "outputs": [],
   "source": [
    "sectorPace = jointables2.loc[jointables2.groupby(['driver_number'])['duration_sector_3'].idxmin()].sort_values(by=['duration_sector_3'],ascending=True)\n",
    "libraryDataF1.obtainchart(\"name_acronym\",\"duration_sector_3\",sectorPace)"
   ]
  },
  {
   "cell_type": "markdown",
   "metadata": {},
   "source": [
    "### Mean pace with the different compound used on the session"
   ]
  },
  {
   "cell_type": "code",
   "execution_count": null,
   "metadata": {},
   "outputs": [],
   "source": [
    "race_pace = pd.DataFrame(jointables2.query(\"is_pit_out_lap == False  and lap_duration <= 83\").groupby(\"compound\")['lap_duration'].mean().sort_values(ascending=True))\n",
    "race_pace"
   ]
  },
  {
   "cell_type": "markdown",
   "metadata": {},
   "source": [
    "### Comparaison between the poleman and the second"
   ]
  },
  {
   "cell_type": "code",
   "execution_count": null,
   "metadata": {},
   "outputs": [],
   "source": [
    "libraryDataF1.plot_telemetry(\"Distance\",\"Speed\",dt,session)"
   ]
  },
  {
   "cell_type": "code",
   "execution_count": null,
   "metadata": {},
   "outputs": [],
   "source": [
    "libraryDataF1.plot_telemetry(\"Distance\",\"Throttle\",dt,session)"
   ]
  },
  {
   "cell_type": "code",
   "execution_count": null,
   "metadata": {},
   "outputs": [],
   "source": [
    "libraryDataF1.plot_telemetry(\"Distance\",\"Brake\",dt,session)"
   ]
  },
  {
   "cell_type": "code",
   "execution_count": null,
   "metadata": {},
   "outputs": [],
   "source": [
    "libraryDataF1.plot_telemetry(\"Distance\",\"nGear\",dt,session)"
   ]
  },
  {
   "cell_type": "markdown",
   "metadata": {},
   "source": [
    "## Qualyfing\n",
    "### Set up\n",
    "First of all, it is neccesary to obtain the data about the qualyfing\n",
    "#### Race control\n",
    "This section has been added in order to know which laps has been deleted and knowing what happened on track during this session. As every laptime that has been deleted were slow laps, none of them were removed."
   ]
  },
  {
   "cell_type": "code",
   "execution_count": null,
   "metadata": {},
   "outputs": [],
   "source": [
    "libraryDataF1.obtain_information('race_control',session_key=9535)"
   ]
  },
  {
   "cell_type": "markdown",
   "metadata": {},
   "source": [
    "### Obtain setup"
   ]
  },
  {
   "cell_type": "code",
   "execution_count": null,
   "metadata": {},
   "outputs": [],
   "source": [
    "qualyfing = libraryDataF1.obtain_information('laps',session_key=9535)\n",
    "stintInformation = libraryDataF1.obtain_information('stints',session_key=9535)\n",
    "drivers = libraryDataF1.obtain_information('drivers',session_key=9535)\n",
    "libraryDataF1.obtain_drivers_colours(drivers)"
   ]
  },
  {
   "cell_type": "code",
   "execution_count": null,
   "metadata": {},
   "outputs": [],
   "source": [
    "session = ff1.get_session(2024, 10, 'Q')\n",
    "session.load()\n",
    "session.laps[\"LapTimeSeconds\"] = session.laps[\"LapTime\"].dt.total_seconds()"
   ]
  },
  {
   "cell_type": "markdown",
   "metadata": {},
   "source": [
    "To obtain a better analysis, those laptimes deleted will be removed from this analysis in order to obtain the data with valid values. So that,taking into account the race control table, it will be neccesary to consult the qualyfing data to obtain the ids. "
   ]
  },
  {
   "cell_type": "code",
   "execution_count": null,
   "metadata": {},
   "outputs": [],
   "source": [
    "qualyfing = qualyfing.drop(213)\n",
    "# qualyfing = qualyfing.drop(33)\n",
    "# qualyfing = qualyfing.drop(118)\n",
    "# qualyfing = qualyfing.drop(203)"
   ]
  },
  {
   "cell_type": "code",
   "execution_count": null,
   "metadata": {},
   "outputs": [],
   "source": [
    "bestlap = qualyfing.loc[qualyfing.groupby(['driver_number'])['lap_duration'].idxmin()].sort_values(by=['lap_duration'],ascending=True)\n",
    "bestlap[0:1]"
   ]
  },
  {
   "cell_type": "markdown",
   "metadata": {},
   "source": [
    "In this case, the fastest lap is 71.383 seconds (1.11.383 = so that to obtain the competitve laps the fastest lap will be multiplied by 1.07 (76.37 seconds) due to, according to the rules all the drivers have to do unless one lap within this gap."
   ]
  },
  {
   "cell_type": "code",
   "execution_count": null,
   "metadata": {},
   "outputs": [],
   "source": [
    "competitiveLaps = qualyfing.query(\"is_pit_out_lap == False and lap_duration < 76.37\")"
   ]
  },
  {
   "cell_type": "code",
   "execution_count": null,
   "metadata": {},
   "outputs": [],
   "source": [
    "drivers_list = list(competitiveLaps['driver_number'].unique())\n",
    "newdataset = pd.DataFrame()\n",
    "for driver in drivers_list:\n",
    "    newdataset =libraryDataF1.obtain_information_qualy(driver,competitiveLaps,newdataset)\n",
    "jointables = pd.merge(newdataset,drivers,on=['driver_number'])\n",
    "jointables.sort_values(by=['fastest_lap'],ascending=True)\n",
    "print()"
   ]
  },
  {
   "cell_type": "markdown",
   "metadata": {},
   "source": [
    "#### Best lap per driver compared with the best lap of the session\n",
    "In this chart we can see the deltas with compared with the fastest lap of the session that it could be different than the pole."
   ]
  },
  {
   "cell_type": "code",
   "execution_count": null,
   "metadata": {},
   "outputs": [],
   "source": [
    "dt = jointables.sort_values(by=['fastest_lap'],ascending=True)\n",
    "libraryDataF1.obtainchart(\"name_acronym\",\"delta\",dt)"
   ]
  },
  {
   "cell_type": "markdown",
   "metadata": {},
   "source": [
    "### Speed trap"
   ]
  },
  {
   "cell_type": "markdown",
   "metadata": {},
   "source": [
    "#### Maximum speed per drivers"
   ]
  },
  {
   "cell_type": "code",
   "execution_count": null,
   "metadata": {},
   "outputs": [],
   "source": [
    "top_speed = jointables.loc[jointables.groupby(['name_acronym'])['i1_speed'].idxmax()].sort_values(by=['i1_speed'],ascending=False)\n",
    "libraryDataF1.obtainchart(\"name_acronym\",\"i1_speed\",top_speed)"
   ]
  },
  {
   "cell_type": "code",
   "execution_count": null,
   "metadata": {},
   "outputs": [],
   "source": [
    "top_speed = jointables.loc[jointables.groupby(['name_acronym'])['i2_speed'].idxmax()].sort_values(by=['i2_speed'],ascending=False)\n",
    "libraryDataF1.obtainchart(\"name_acronym\",\"i2_speed\",top_speed)"
   ]
  },
  {
   "cell_type": "code",
   "execution_count": null,
   "metadata": {},
   "outputs": [],
   "source": [
    "top_speed = jointables.loc[jointables.groupby(['name_acronym'])['st_speed'].idxmax()].sort_values(by=['st_speed'],ascending=False)\n",
    "libraryDataF1.obtainchart(\"name_acronym\",\"st_speed\",top_speed)"
   ]
  },
  {
   "cell_type": "markdown",
   "metadata": {},
   "source": [
    "### Maximum speed per teams"
   ]
  },
  {
   "cell_type": "code",
   "execution_count": null,
   "metadata": {},
   "outputs": [],
   "source": [
    "top_speed = jointables.loc[jointables.groupby(['team_name'])['i1_speed'].idxmax()].sort_values(by=['i1_speed'],ascending=False)\n",
    "libraryDataF1.obtainchart(\"team_name\",\"i1_speed\",top_speed)"
   ]
  },
  {
   "cell_type": "code",
   "execution_count": null,
   "metadata": {},
   "outputs": [],
   "source": [
    "top_speed = jointables.loc[jointables.groupby(['team_name'])['i2_speed'].idxmax()].sort_values(by=['i2_speed'],ascending=False)\n",
    "libraryDataF1.obtainchart(\"team_name\",\"i2_speed\",top_speed)"
   ]
  },
  {
   "cell_type": "code",
   "execution_count": null,
   "metadata": {},
   "outputs": [],
   "source": [
    "top_speed = jointables.loc[jointables.groupby(['team_name'])['st_speed'].idxmax()].sort_values(by=['st_speed'],ascending=False)\n",
    "libraryDataF1.obtainchart(\"team_name\",\"st_speed\",top_speed)"
   ]
  },
  {
   "cell_type": "code",
   "execution_count": null,
   "metadata": {},
   "outputs": [],
   "source": [
    "mergequaly = pd.merge(competitiveLaps,drivers,on=['driver_number'])"
   ]
  },
  {
   "cell_type": "markdown",
   "metadata": {},
   "source": [
    "In order to know when each session finished, race control dataset will be consulted."
   ]
  },
  {
   "cell_type": "code",
   "execution_count": null,
   "metadata": {},
   "outputs": [],
   "source": [
    "maximumDateQ1 = \"date_start <'2024-06-22T14:25:00+00:00'\"\n",
    "maximumDateQ2 = \"date_start <'2024-06-22T14:48:00+00:00' and date_start >'2024-06-22T14:25:00+00:00'\"\n",
    "maximumDateQ3 = \"date_start >'2024-06-22T14:48:00+00:00'\""
   ]
  },
  {
   "cell_type": "markdown",
   "metadata": {},
   "source": [
    "### Qualyfing 1\n",
    "In this session the surprise came from Sergio Perez that was knocked-out in this section. In the next sesssion, we will see what happened with Perez."
   ]
  },
  {
   "cell_type": "code",
   "execution_count": null,
   "metadata": {},
   "outputs": [],
   "source": [
    "q1Data = libraryDataF1.obtainInfoAboutQualySession(mergequaly,maximumDateQ1).query(\"isFastestLap == True\").sort_values(by=['lap_duration'],ascending=True)"
   ]
  },
  {
   "cell_type": "markdown",
   "metadata": {},
   "source": [
    "##### Comparaison with driver at risk\n",
    "In this section with the fastest lap done for each driver,I will do a comparaison in order to see where the driver eliminated lost/gain time in their fastest lap. As we can see in Qualyfing 1 Perez was knocked-out and according to the data, Perez lost his chance to pass to Q2. Compared with Gasly, he was 0.225 slower than Gasly. In order to investigate how Perez lost his chances, F1 tempo (a website where the telemetry can be consulted and thanks to his kind interface we can choose which part of the circuit we want to see) will be consulted.\n",
    "Turns were crucial in this sector gaining Gasly one tenth in the exit of turn 6, having 0.221 in the exit of the turn 5 and in the exit of the turn 9 Gasly had 3 tenths of difference.\n",
    "As the rest od the circuit has a lot of straights, Red Bull was able to cut the gap only 2 tenths un the exit of the second sector and, in L'Epangle Checo was 2 tenth behind Gasly. Since this moment, Perez was able to cut the gap being 0.028 tenths at the exit of this turn. In this moment, Perez had the possiblity to pass to Q2 but, Gasly took the exit of the turn better than Checo affording him to pass to Q2.\n"
   ]
  },
  {
   "cell_type": "code",
   "execution_count": null,
   "metadata": {},
   "outputs": [],
   "source": [
    "#Reference\n",
    "P15 = q1Data[14:15]"
   ]
  },
  {
   "cell_type": "code",
   "execution_count": null,
   "metadata": {},
   "outputs": [],
   "source": [
    "print(\n",
    "\"Driver:\",P15.full_name.to_string(index=False),\n",
    "\"Sector 1: \",P15.duration_sector_1.to_string(index=False),\n",
    "\"Sector 2: \",P15.duration_sector_2.to_string(index=False),\n",
    "\"Sector 3: \",P15.duration_sector_3.to_string(index=False)\n",
    ")"
   ]
  },
  {
   "cell_type": "code",
   "execution_count": null,
   "metadata": {},
   "outputs": [],
   "source": [
    "q1Data[15::]"
   ]
  },
  {
   "cell_type": "markdown",
   "metadata": {},
   "source": [
    "##### Analysis of each sector of the driver at risk compared to the drivers eliminated.\n"
   ]
  },
  {
   "cell_type": "code",
   "execution_count": null,
   "metadata": {},
   "outputs": [],
   "source": [
    "newdataset2 = pd.DataFrame()\n",
    "for index,row in q1Data[15::].iterrows():\n",
    "    newdataset2 = libraryDataF1.obtain_difference_regard_reference(row,P15,newdataset2)\n",
    "\n",
    "newdataset2"
   ]
  },
  {
   "cell_type": "code",
   "execution_count": null,
   "metadata": {},
   "outputs": [],
   "source": [
    "libraryDataF1.draw_gap(P15,15,20,q1Data,drivers,session)"
   ]
  },
  {
   "cell_type": "markdown",
   "metadata": {},
   "source": [
    "##### Analysis with the drivers that finished better than the driver at risk\n",
    "I bring this section in order to know where the driver at risk lost his chances to improve in the qualyfing."
   ]
  },
  {
   "cell_type": "code",
   "execution_count": null,
   "metadata": {},
   "outputs": [],
   "source": [
    "newdataset2 = pd.DataFrame()\n",
    "for index,row in q1Data[0:14].iterrows():\n",
    "    newdataset2 = libraryDataF1.obtain_difference_regard_reference(row,P15,newdataset2)\n",
    "\n",
    "newdataset2"
   ]
  },
  {
   "cell_type": "markdown",
   "metadata": {},
   "source": [
    "#### Best sector per driver\n",
    "In this section we can see the best sector of the session"
   ]
  },
  {
   "cell_type": "code",
   "execution_count": null,
   "metadata": {},
   "outputs": [],
   "source": [
    "libraryDataF1.obtainchart(\"name_acronym\",\"duration_sector_1\",q1Data.sort_values(by=['duration_sector_1'],ascending=True))"
   ]
  },
  {
   "cell_type": "code",
   "execution_count": null,
   "metadata": {},
   "outputs": [],
   "source": [
    "libraryDataF1.obtainchart(\"name_acronym\",\"duration_sector_2\",q1Data.sort_values(by=['duration_sector_2'],ascending=True))"
   ]
  },
  {
   "cell_type": "code",
   "execution_count": null,
   "metadata": {},
   "outputs": [],
   "source": [
    "libraryDataF1.obtainchart(\"name_acronym\",\"duration_sector_3\",q1Data.sort_values(by=['duration_sector_3'],ascending=True))"
   ]
  },
  {
   "cell_type": "markdown",
   "metadata": {},
   "source": [
    "### Qualyfing 2\n",
    "In this session, both Ferrari were knocked-out in Q2."
   ]
  },
  {
   "cell_type": "code",
   "execution_count": null,
   "metadata": {},
   "outputs": [],
   "source": [
    "q2Data = libraryDataF1.obtainInfoAboutQualySession(mergequaly,maximumDateQ2).query(\"isFastestLap == True\").sort_values(by=['lap_duration'],ascending=True)"
   ]
  },
  {
   "cell_type": "markdown",
   "metadata": {},
   "source": [
    "##### Comparaison with driver at risk\n",
    "In this section with the fastest lap done for each driver (laptimes deleted will not be taken into account to do this analysis) it will be a comparaison in order to see where the driver eliminated lost/gain time in their fastest lap."
   ]
  },
  {
   "cell_type": "code",
   "execution_count": null,
   "metadata": {},
   "outputs": [],
   "source": [
    "#Reference\n",
    "P10 = q2Data[9:10]\n",
    "print(\n",
    "\"Driver:\",P10.full_name.to_string(index=False),\n",
    "\"Sector 1: \",P10.duration_sector_1.to_string(index=False),\n",
    "\"Sector 2: \",P10.duration_sector_2.to_string(index=False),\n",
    "\"Sector 3: \",P10.duration_sector_3.to_string(index=False)\n",
    ")"
   ]
  },
  {
   "cell_type": "markdown",
   "metadata": {},
   "source": [
    "##### Analysis of each sector of the driver at risk compared to the drivers eliminated.\n",
    "Both Ferrari suffered a lot in sector 1 with a two-tenths of gap with Stroll. In sector 2, Carlos were able to cut the difference and in the third sector Carlos made a mistake in the last chicane that costed his presence in Q3."
   ]
  },
  {
   "cell_type": "code",
   "execution_count": null,
   "metadata": {},
   "outputs": [],
   "source": [
    "newdataset2 = pd.DataFrame()\n",
    "for index,row in q2Data[10::].iterrows():\n",
    "    newdataset2 = libraryDataF1.obtain_difference_regard_reference(row,P10,newdataset2)\n",
    "\n",
    "newdataset2"
   ]
  },
  {
   "cell_type": "code",
   "execution_count": null,
   "metadata": {},
   "outputs": [],
   "source": [
    "libraryDataF1.draw_gap(P10,10,15,q2Data,drivers,session)"
   ]
  },
  {
   "cell_type": "markdown",
   "metadata": {},
   "source": [
    "##### Analysis with the drivers that finished better than the driver at risk"
   ]
  },
  {
   "cell_type": "code",
   "execution_count": null,
   "metadata": {},
   "outputs": [],
   "source": [
    "newdataset2 = pd.DataFrame()\n",
    "for index,row in q2Data[0:9].iterrows():\n",
    "    newdataset2 = libraryDataF1.obtain_difference_regard_reference(row,P10,newdataset2)\n",
    "\n",
    "newdataset2"
   ]
  },
  {
   "cell_type": "markdown",
   "metadata": {},
   "source": [
    "#### Best sector per driver\n",
    "In this section we can see the best sector of the session"
   ]
  },
  {
   "cell_type": "code",
   "execution_count": null,
   "metadata": {},
   "outputs": [],
   "source": [
    "libraryDataF1.obtainchart(\"name_acronym\",\"duration_sector_1\",q2Data.sort_values(by=['duration_sector_1'],ascending=True))"
   ]
  },
  {
   "cell_type": "code",
   "execution_count": null,
   "metadata": {},
   "outputs": [],
   "source": [
    "libraryDataF1.obtainchart(\"name_acronym\",\"duration_sector_2\",q2Data.sort_values(by=['duration_sector_2'],ascending=True))"
   ]
  },
  {
   "cell_type": "code",
   "execution_count": null,
   "metadata": {},
   "outputs": [],
   "source": [
    "libraryDataF1.obtainchart(\"name_acronym\",\"duration_sector_3\",q2Data.sort_values(by=['duration_sector_3'],ascending=True))"
   ]
  },
  {
   "cell_type": "markdown",
   "metadata": {},
   "source": [
    "### Qualyfing 3"
   ]
  },
  {
   "cell_type": "code",
   "execution_count": null,
   "metadata": {},
   "outputs": [],
   "source": [
    "q3Data = libraryDataF1.obtainInfoAboutQualySession(mergequaly,maximumDateQ3).query(\"isFastestLap == True\").sort_values(by=['lap_duration'],ascending=True)"
   ]
  },
  {
   "cell_type": "markdown",
   "metadata": {},
   "source": [
    "##### Comparaison with poleman\n",
    "In this section with the fastest lap done for each driver (laptimes deleted will not be taken into account to do this analysis) it will be a comparaison in order to see where the driver eliminated lost/gain time in their fastest lap."
   ]
  },
  {
   "cell_type": "code",
   "execution_count": null,
   "metadata": {},
   "outputs": [],
   "source": [
    "#Reference\n",
    "P1 = q3Data[:1]\n",
    "print(\n",
    "\"Driver:\",P1.full_name.to_string(index=False),\n",
    "\"Sector 1: \",P1.duration_sector_1.to_string(index=False),\n",
    "\"Sector 2: \",P1.duration_sector_2.to_string(index=False),\n",
    "\"Sector 3: \",P1.duration_sector_3.to_string(index=False)\n",
    ")"
   ]
  },
  {
   "cell_type": "markdown",
   "metadata": {},
   "source": [
    "##### Analysis of each sector of the driver at risk compared to the drivers eliminated.\n",
    "Pole position was disputed until the final with a narrow difference among Russell,Verstappen and both McLaren."
   ]
  },
  {
   "cell_type": "code",
   "execution_count": null,
   "metadata": {},
   "outputs": [],
   "source": [
    "newdataset2 = pd.DataFrame()\n",
    "for index,row in q3Data[1::].iterrows():\n",
    "    newdataset2 = libraryDataF1.obtain_difference_regard_reference(row,P1,newdataset2)\n",
    "newdataset2"
   ]
  },
  {
   "cell_type": "markdown",
   "metadata": {},
   "source": [
    "#### Best sector per driver\n",
    "In this section we can see the best sector of the session"
   ]
  },
  {
   "cell_type": "code",
   "execution_count": null,
   "metadata": {},
   "outputs": [],
   "source": [
    "libraryDataF1.obtainchart(\"name_acronym\",\"duration_sector_1\",q3Data.sort_values(by=['duration_sector_1'],ascending=True))"
   ]
  },
  {
   "cell_type": "code",
   "execution_count": null,
   "metadata": {},
   "outputs": [],
   "source": [
    "libraryDataF1.obtainchart(\"name_acronym\",\"duration_sector_2\",q3Data.sort_values(by=['duration_sector_2'],ascending=True))"
   ]
  },
  {
   "cell_type": "code",
   "execution_count": null,
   "metadata": {},
   "outputs": [],
   "source": [
    "libraryDataF1.obtainchart(\"name_acronym\",\"duration_sector_3\",q3Data.sort_values(by=['duration_sector_3'],ascending=True))"
   ]
  },
  {
   "cell_type": "markdown",
   "metadata": {},
   "source": [
    "#### Best sector per driver of the session (in general)"
   ]
  },
  {
   "cell_type": "code",
   "execution_count": null,
   "metadata": {},
   "outputs": [],
   "source": [
    "libraryDataF1.obtainchart(\"name_acronym\",\"duration_sector_1\",pd.DataFrame(mergequaly.groupby(\"name_acronym\")['duration_sector_1'].min().sort_values(ascending=True)).reset_index())"
   ]
  },
  {
   "cell_type": "code",
   "execution_count": null,
   "metadata": {},
   "outputs": [],
   "source": [
    "libraryDataF1.obtainchart(\"name_acronym\",\"duration_sector_2\",pd.DataFrame(mergequaly.groupby(\"name_acronym\")['duration_sector_2'].min().sort_values(ascending=True)).reset_index())"
   ]
  },
  {
   "cell_type": "code",
   "execution_count": null,
   "metadata": {},
   "outputs": [],
   "source": [
    "libraryDataF1.obtainchart(\"name_acronym\",\"duration_sector_3\",pd.DataFrame(mergequaly.groupby(\"name_acronym\")['duration_sector_3'].min().sort_values(ascending=True)).reset_index())"
   ]
  },
  {
   "cell_type": "markdown",
   "metadata": {},
   "source": [
    "### Comparaison between the poleman and the second"
   ]
  },
  {
   "cell_type": "code",
   "execution_count": null,
   "metadata": {},
   "outputs": [],
   "source": [
    "libraryDataF1.plot_telemetry(\"Distance\",\"Speed\",dt,session)"
   ]
  },
  {
   "cell_type": "code",
   "execution_count": null,
   "metadata": {},
   "outputs": [],
   "source": [
    "libraryDataF1.plot_telemetry(\"Distance\",\"Throttle\",dt,session)"
   ]
  },
  {
   "cell_type": "code",
   "execution_count": null,
   "metadata": {},
   "outputs": [],
   "source": [
    "libraryDataF1.plot_telemetry(\"Distance\",\"Brake\",dt,session)"
   ]
  },
  {
   "cell_type": "code",
   "execution_count": null,
   "metadata": {},
   "outputs": [],
   "source": [
    "libraryDataF1.plot_telemetry(\"Distance\",\"nGear\",dt,session)"
   ]
  },
  {
   "cell_type": "markdown",
   "metadata": {},
   "source": [
    "## Race\n",
    "### Obtain setup"
   ]
  },
  {
   "cell_type": "code",
   "execution_count": null,
   "metadata": {},
   "outputs": [],
   "source": [
    "race = libraryDataF1.obtain_information('laps',session_key=9539)\n",
    "stintInformation = libraryDataF1.obtain_information('stints',session_key=9539)\n",
    "drivers = libraryDataF1.obtain_information('drivers',session_key=9539)\n",
    "libraryDataF1.obtain_drivers_colours(drivers)"
   ]
  },
  {
   "cell_type": "code",
   "execution_count": null,
   "metadata": {},
   "outputs": [],
   "source": [
    "stintsDataFrame =libraryDataF1.stint_configuration(drivers,stintInformation)"
   ]
  },
  {
   "cell_type": "code",
   "execution_count": null,
   "metadata": {},
   "outputs": [],
   "source": [
    "raceLaps = race.query(\"is_pit_out_lap == False\")\n",
    "jointables = pd.merge(raceLaps,stintsDataFrame,on=['lap_number','driver_number'])"
   ]
  },
  {
   "cell_type": "markdown",
   "metadata": {},
   "source": [
    "### Mean pace with the different compound used on the session"
   ]
  },
  {
   "cell_type": "code",
   "execution_count": null,
   "metadata": {},
   "outputs": [],
   "source": [
    "race_pace = pd.DataFrame(jointables.query(\"is_pit_out_lap == False  and lap_duration <= 84\").groupby(\"compound\")['lap_duration'].mean().sort_values(ascending=True))\n",
    "race_pace"
   ]
  },
  {
   "cell_type": "markdown",
   "metadata": {},
   "source": [
    "### Speed trap"
   ]
  },
  {
   "cell_type": "code",
   "execution_count": null,
   "metadata": {},
   "outputs": [],
   "source": [
    "top_speed = jointables.loc[jointables.groupby(['name_acronym'])['st_speed'].idxmax()].sort_values(by=['st_speed'],ascending=False)\n",
    "libraryDataF1.obtainchart(\"name_acronym\",\"st_speed\",top_speed)"
   ]
  },
  {
   "cell_type": "code",
   "execution_count": null,
   "metadata": {},
   "outputs": [],
   "source": [
    "top_speed = jointables.loc[jointables.groupby(['name_acronym'])['i1_speed'].idxmax()].sort_values(by=['i1_speed'],ascending=False)\n",
    "libraryDataF1.obtainchart(\"name_acronym\",\"i1_speed\",top_speed)"
   ]
  },
  {
   "cell_type": "code",
   "execution_count": null,
   "metadata": {},
   "outputs": [],
   "source": [
    "top_speed = jointables.loc[jointables.groupby(['name_acronym'])['i2_speed'].idxmax()].sort_values(by=['i2_speed'],ascending=False)\n",
    "libraryDataF1.obtainchart(\"name_acronym\",\"i2_speed\",top_speed)"
   ]
  },
  {
   "cell_type": "markdown",
   "metadata": {},
   "source": [
    "### Race pace"
   ]
  },
  {
   "cell_type": "code",
   "execution_count": null,
   "metadata": {},
   "outputs": [],
   "source": [
    "race_pace = pd.DataFrame(jointables.query(\"is_pit_out_lap == False  and lap_duration <= 84\").dropna().groupby(\"team_name\")['lap_duration'].mean().sort_values(ascending=True))\n",
    "race_pace"
   ]
  },
  {
   "cell_type": "markdown",
   "metadata": {},
   "source": [
    "#### Mean race pace per sector\n",
    "In this section, we can see the pace shown per each team in each sector sorted ascending."
   ]
  },
  {
   "cell_type": "markdown",
   "metadata": {},
   "source": [
    "#### Sector 1"
   ]
  },
  {
   "cell_type": "code",
   "execution_count": null,
   "metadata": {},
   "outputs": [],
   "source": [
    "race_pace = pd.DataFrame(jointables.query(\"is_pit_out_lap == False  and lap_duration <= 80\").dropna().groupby(\"team_name\")['duration_sector_1'].mean().sort_values(ascending=True))\n",
    "race_pace"
   ]
  },
  {
   "cell_type": "markdown",
   "metadata": {},
   "source": [
    "#### Sector 2"
   ]
  },
  {
   "cell_type": "code",
   "execution_count": null,
   "metadata": {},
   "outputs": [],
   "source": [
    "race_pace = pd.DataFrame(jointables.query(\"is_pit_out_lap == False  and lap_duration <= 80\").dropna().groupby(\"team_name\")['duration_sector_2'].mean().sort_values(ascending=True))\n",
    "race_pace"
   ]
  },
  {
   "cell_type": "markdown",
   "metadata": {},
   "source": [
    "#### Sector 3"
   ]
  },
  {
   "cell_type": "code",
   "execution_count": null,
   "metadata": {},
   "outputs": [],
   "source": [
    "race_pace = pd.DataFrame(jointables.query(\"is_pit_out_lap == False  and lap_duration <= 80\").dropna().groupby(\"team_name\")['duration_sector_3'].mean().sort_values(ascending=True))\n",
    "race_pace"
   ]
  },
  {
   "cell_type": "markdown",
   "metadata": {},
   "source": [
    "### Long runs"
   ]
  },
  {
   "cell_type": "code",
   "execution_count": null,
   "metadata": {},
   "outputs": [],
   "source": [
    "MINIMUN_SECONDS = 77\n",
    "MAXIMUM_SECONDS = 85"
   ]
  },
  {
   "cell_type": "markdown",
   "metadata": {},
   "source": [
    "#### Red Bull Racing"
   ]
  },
  {
   "cell_type": "code",
   "execution_count": null,
   "metadata": {},
   "outputs": [],
   "source": [
    "stintInformation.query('driver_number == 1 or driver_number == 11')"
   ]
  },
  {
   "cell_type": "code",
   "execution_count": null,
   "metadata": {},
   "outputs": [],
   "source": [
    "data = libraryDataF1.getinfolongruns(jointables,1,'Red Bull Racing',MINIMUN_SECONDS,MAXIMUM_SECONDS)\n",
    "data"
   ]
  },
  {
   "cell_type": "code",
   "execution_count": null,
   "metadata": {},
   "outputs": [],
   "source": [
    "if len(data) != 0:\n",
    "    libraryDataF1.race_pace_graph(data)"
   ]
  },
  {
   "cell_type": "code",
   "execution_count": null,
   "metadata": {},
   "outputs": [],
   "source": [
    "if len(data) != 0:\n",
    "    libraryDataF1.race_pace_divided_per_sectors(data)"
   ]
  },
  {
   "cell_type": "code",
   "execution_count": null,
   "metadata": {},
   "outputs": [],
   "source": [
    "data = libraryDataF1.getinfolongruns(jointables,11,'Red Bull Racing',MINIMUN_SECONDS,MAXIMUM_SECONDS)\n",
    "data"
   ]
  },
  {
   "cell_type": "code",
   "execution_count": null,
   "metadata": {},
   "outputs": [],
   "source": [
    "if len(data) != 0:\n",
    "    libraryDataF1.race_pace_graph(data)"
   ]
  },
  {
   "cell_type": "code",
   "execution_count": null,
   "metadata": {},
   "outputs": [],
   "source": [
    "if len(data) != 0:\n",
    "    libraryDataF1.race_pace_divided_per_sectors(data)"
   ]
  },
  {
   "cell_type": "markdown",
   "metadata": {},
   "source": [
    "#### Ferrari"
   ]
  },
  {
   "cell_type": "code",
   "execution_count": null,
   "metadata": {},
   "outputs": [],
   "source": [
    "stintInformation.query('driver_number == 55 or driver_number == 16')"
   ]
  },
  {
   "cell_type": "code",
   "execution_count": null,
   "metadata": {},
   "outputs": [],
   "source": [
    "data = libraryDataF1.getinfolongruns(jointables,16,'Ferrari',MINIMUN_SECONDS,MAXIMUM_SECONDS)\n",
    "data"
   ]
  },
  {
   "cell_type": "code",
   "execution_count": null,
   "metadata": {},
   "outputs": [],
   "source": [
    "if len(data) != 0:\n",
    "    libraryDataF1.race_pace_graph(data)"
   ]
  },
  {
   "cell_type": "code",
   "execution_count": null,
   "metadata": {},
   "outputs": [],
   "source": [
    "if len(data) != 0:\n",
    "    libraryDataF1.race_pace_divided_per_sectors(data)"
   ]
  },
  {
   "cell_type": "code",
   "execution_count": null,
   "metadata": {},
   "outputs": [],
   "source": [
    "data = libraryDataF1.getinfolongruns(jointables,55,'Ferrari',MINIMUN_SECONDS,MAXIMUM_SECONDS)\n",
    "data"
   ]
  },
  {
   "cell_type": "code",
   "execution_count": null,
   "metadata": {},
   "outputs": [],
   "source": [
    "if len(data) != 0:\n",
    "    libraryDataF1.race_pace_graph(data)"
   ]
  },
  {
   "cell_type": "code",
   "execution_count": null,
   "metadata": {},
   "outputs": [],
   "source": [
    "if len(data) != 0:\n",
    "    libraryDataF1.race_pace_divided_per_sectors(data)"
   ]
  },
  {
   "cell_type": "markdown",
   "metadata": {},
   "source": [
    "#### Mercedes"
   ]
  },
  {
   "cell_type": "code",
   "execution_count": null,
   "metadata": {},
   "outputs": [],
   "source": [
    "stintInformation.query('driver_number == 63 or driver_number == 44')"
   ]
  },
  {
   "cell_type": "code",
   "execution_count": null,
   "metadata": {},
   "outputs": [],
   "source": [
    "data = libraryDataF1.getinfolongruns(jointables,44,'Mercedes',MINIMUN_SECONDS,MAXIMUM_SECONDS)\n",
    "data"
   ]
  },
  {
   "cell_type": "code",
   "execution_count": null,
   "metadata": {},
   "outputs": [],
   "source": [
    "if len(data) != 0:\n",
    "    libraryDataF1.race_pace_graph(data)"
   ]
  },
  {
   "cell_type": "code",
   "execution_count": null,
   "metadata": {},
   "outputs": [],
   "source": [
    "if len(data) != 0:\n",
    "    libraryDataF1.race_pace_divided_per_sectors(data)"
   ]
  },
  {
   "cell_type": "code",
   "execution_count": null,
   "metadata": {},
   "outputs": [],
   "source": [
    "data = libraryDataF1.getinfolongruns(jointables,63,'Mercedes',MINIMUN_SECONDS,MAXIMUM_SECONDS)\n",
    "data"
   ]
  },
  {
   "cell_type": "code",
   "execution_count": null,
   "metadata": {},
   "outputs": [],
   "source": [
    "if len(data) != 0:\n",
    "    libraryDataF1.race_pace_graph(data)"
   ]
  },
  {
   "cell_type": "code",
   "execution_count": null,
   "metadata": {},
   "outputs": [],
   "source": [
    "if len(data) != 0:\n",
    "    libraryDataF1.race_pace_divided_per_sectors(data)"
   ]
  },
  {
   "cell_type": "markdown",
   "metadata": {},
   "source": [
    "#### McLaren"
   ]
  },
  {
   "cell_type": "code",
   "execution_count": null,
   "metadata": {},
   "outputs": [],
   "source": [
    "stintInformation.query('driver_number == 81 or driver_number == 4')"
   ]
  },
  {
   "cell_type": "code",
   "execution_count": null,
   "metadata": {},
   "outputs": [],
   "source": [
    "data = libraryDataF1.getinfolongruns(jointables,4,'McLaren',MINIMUN_SECONDS,MAXIMUM_SECONDS)\n",
    "data"
   ]
  },
  {
   "cell_type": "code",
   "execution_count": null,
   "metadata": {},
   "outputs": [],
   "source": [
    "if len(data) != 0:\n",
    "    libraryDataF1.race_pace_graph(data)"
   ]
  },
  {
   "cell_type": "code",
   "execution_count": null,
   "metadata": {},
   "outputs": [],
   "source": [
    "if len(data) != 0:\n",
    "    libraryDataF1.race_pace_divided_per_sectors(data)"
   ]
  },
  {
   "cell_type": "code",
   "execution_count": null,
   "metadata": {},
   "outputs": [],
   "source": [
    "data = libraryDataF1.getinfolongruns(jointables,81,'McLaren',MINIMUN_SECONDS,MAXIMUM_SECONDS)\n",
    "data"
   ]
  },
  {
   "cell_type": "code",
   "execution_count": null,
   "metadata": {},
   "outputs": [],
   "source": [
    "if len(data) != 0:\n",
    "    libraryDataF1.race_pace_graph(data)"
   ]
  },
  {
   "cell_type": "code",
   "execution_count": null,
   "metadata": {},
   "outputs": [],
   "source": [
    "if len(data) != 0:\n",
    "    libraryDataF1.race_pace_divided_per_sectors(data)"
   ]
  },
  {
   "cell_type": "markdown",
   "metadata": {},
   "source": [
    "#### Aston Martin"
   ]
  },
  {
   "cell_type": "code",
   "execution_count": null,
   "metadata": {},
   "outputs": [],
   "source": [
    "stintInformation.query('driver_number == 18 or driver_number == 14')"
   ]
  },
  {
   "cell_type": "code",
   "execution_count": null,
   "metadata": {},
   "outputs": [],
   "source": [
    "data = libraryDataF1.getinfolongruns(jointables,14,'Aston Martin',MINIMUN_SECONDS,MAXIMUM_SECONDS)\n",
    "data"
   ]
  },
  {
   "cell_type": "code",
   "execution_count": null,
   "metadata": {},
   "outputs": [],
   "source": [
    "if len(data) != 0:\n",
    "    libraryDataF1.race_pace_graph(data)"
   ]
  },
  {
   "cell_type": "code",
   "execution_count": null,
   "metadata": {},
   "outputs": [],
   "source": [
    "if len(data) != 0:\n",
    "    libraryDataF1.race_pace_divided_per_sectors(data)"
   ]
  },
  {
   "cell_type": "code",
   "execution_count": null,
   "metadata": {},
   "outputs": [],
   "source": [
    "data = libraryDataF1.getinfolongruns(jointables,18,'Aston Martin',MINIMUN_SECONDS,MAXIMUM_SECONDS)\n",
    "data"
   ]
  },
  {
   "cell_type": "code",
   "execution_count": null,
   "metadata": {},
   "outputs": [],
   "source": [
    "if len(data) != 0:\n",
    "    libraryDataF1.race_pace_graph(data)"
   ]
  },
  {
   "cell_type": "code",
   "execution_count": null,
   "metadata": {},
   "outputs": [],
   "source": [
    "if len(data) != 0:\n",
    "    libraryDataF1.race_pace_divided_per_sectors(data)"
   ]
  },
  {
   "cell_type": "markdown",
   "metadata": {},
   "source": [
    "#### RB"
   ]
  },
  {
   "cell_type": "code",
   "execution_count": null,
   "metadata": {},
   "outputs": [],
   "source": [
    "stintInformation.query('driver_number == 3 or driver_number == 22')"
   ]
  },
  {
   "cell_type": "code",
   "execution_count": null,
   "metadata": {},
   "outputs": [],
   "source": [
    "data = libraryDataF1.getinfolongruns(jointables,3,'RB',MINIMUN_SECONDS,MAXIMUM_SECONDS)\n",
    "data"
   ]
  },
  {
   "cell_type": "code",
   "execution_count": null,
   "metadata": {},
   "outputs": [],
   "source": [
    "if len(data) != 0:\n",
    "    libraryDataF1.race_pace_graph(data)"
   ]
  },
  {
   "cell_type": "code",
   "execution_count": null,
   "metadata": {},
   "outputs": [],
   "source": [
    "if len(data) != 0:\n",
    "    libraryDataF1.race_pace_divided_per_sectors(data)"
   ]
  },
  {
   "cell_type": "code",
   "execution_count": null,
   "metadata": {},
   "outputs": [],
   "source": [
    "data = libraryDataF1.getinfolongruns(jointables,22,'RB',MINIMUN_SECONDS,MAXIMUM_SECONDS)\n",
    "data"
   ]
  },
  {
   "cell_type": "code",
   "execution_count": null,
   "metadata": {},
   "outputs": [],
   "source": [
    "if len(data) != 0:\n",
    "    libraryDataF1.race_pace_graph(data)"
   ]
  },
  {
   "cell_type": "code",
   "execution_count": null,
   "metadata": {},
   "outputs": [],
   "source": [
    "if len(data) != 0:\n",
    "    libraryDataF1.race_pace_divided_per_sectors(data)"
   ]
  },
  {
   "cell_type": "markdown",
   "metadata": {},
   "source": [
    "#### Haas"
   ]
  },
  {
   "cell_type": "code",
   "execution_count": null,
   "metadata": {},
   "outputs": [],
   "source": [
    "stintInformation.query('driver_number == 20 or driver_number == 27')"
   ]
  },
  {
   "cell_type": "code",
   "execution_count": null,
   "metadata": {},
   "outputs": [],
   "source": [
    "data = libraryDataF1.getinfolongruns(jointables,20,'Haas F1 Team',MINIMUN_SECONDS,MAXIMUM_SECONDS)\n",
    "data"
   ]
  },
  {
   "cell_type": "code",
   "execution_count": null,
   "metadata": {},
   "outputs": [],
   "source": [
    "if len(data) != 0:\n",
    "    libraryDataF1.race_pace_graph(data)"
   ]
  },
  {
   "cell_type": "code",
   "execution_count": null,
   "metadata": {},
   "outputs": [],
   "source": [
    "if len(data) != 0:\n",
    "    libraryDataF1.race_pace_divided_per_sectors(data)"
   ]
  },
  {
   "cell_type": "code",
   "execution_count": null,
   "metadata": {},
   "outputs": [],
   "source": [
    "data = libraryDataF1.getinfolongruns(jointables,27,'Haas F1 Team',MINIMUN_SECONDS,MAXIMUM_SECONDS)\n",
    "data\n"
   ]
  },
  {
   "cell_type": "code",
   "execution_count": null,
   "metadata": {},
   "outputs": [],
   "source": [
    "if len(data) != 0:\n",
    "    libraryDataF1.race_pace_graph(data)"
   ]
  },
  {
   "cell_type": "code",
   "execution_count": null,
   "metadata": {},
   "outputs": [],
   "source": [
    "if len(data) != 0:\n",
    "    libraryDataF1.race_pace_divided_per_sectors(data)"
   ]
  },
  {
   "cell_type": "markdown",
   "metadata": {},
   "source": [
    "#### Alpine"
   ]
  },
  {
   "cell_type": "code",
   "execution_count": null,
   "metadata": {},
   "outputs": [],
   "source": [
    "stintInformation.query('driver_number == 10 or driver_number == 31')"
   ]
  },
  {
   "cell_type": "code",
   "execution_count": null,
   "metadata": {},
   "outputs": [],
   "source": [
    "data =libraryDataF1.getinfolongruns(jointables,31,'Alpine',MINIMUN_SECONDS,MAXIMUM_SECONDS)\n",
    "data"
   ]
  },
  {
   "cell_type": "code",
   "execution_count": null,
   "metadata": {},
   "outputs": [],
   "source": [
    "if len(data) != 0:\n",
    "    libraryDataF1.race_pace_graph(data)"
   ]
  },
  {
   "cell_type": "code",
   "execution_count": null,
   "metadata": {},
   "outputs": [],
   "source": [
    "if len(data) != 0:\n",
    "    libraryDataF1.race_pace_divided_per_sectors(data)"
   ]
  },
  {
   "cell_type": "code",
   "execution_count": null,
   "metadata": {},
   "outputs": [],
   "source": [
    "data = libraryDataF1.getinfolongruns(jointables,10,'Alpine',MINIMUN_SECONDS,MAXIMUM_SECONDS)\n",
    "data"
   ]
  },
  {
   "cell_type": "code",
   "execution_count": null,
   "metadata": {},
   "outputs": [],
   "source": [
    "if len(data) != 0:\n",
    "    libraryDataF1.race_pace_graph(data)"
   ]
  },
  {
   "cell_type": "code",
   "execution_count": null,
   "metadata": {},
   "outputs": [],
   "source": [
    "if len(data) != 0:\n",
    "    libraryDataF1.race_pace_divided_per_sectors(data)"
   ]
  },
  {
   "cell_type": "markdown",
   "metadata": {},
   "source": [
    "#### Williams"
   ]
  },
  {
   "cell_type": "code",
   "execution_count": null,
   "metadata": {},
   "outputs": [],
   "source": [
    "stintInformation.query('driver_number == 2 or driver_number == 23')"
   ]
  },
  {
   "cell_type": "code",
   "execution_count": null,
   "metadata": {},
   "outputs": [],
   "source": [
    "data = libraryDataF1.getinfolongruns(jointables,23,'Williams',MINIMUN_SECONDS,MAXIMUM_SECONDS)\n",
    "data"
   ]
  },
  {
   "cell_type": "code",
   "execution_count": null,
   "metadata": {},
   "outputs": [],
   "source": [
    "if len(data) != 0:\n",
    "    libraryDataF1.race_pace_graph(data)"
   ]
  },
  {
   "cell_type": "code",
   "execution_count": null,
   "metadata": {},
   "outputs": [],
   "source": [
    "if len(data) != 0:\n",
    "    libraryDataF1.race_pace_divided_per_sectors(data)"
   ]
  },
  {
   "cell_type": "code",
   "execution_count": null,
   "metadata": {},
   "outputs": [],
   "source": [
    "data= libraryDataF1.getinfolongruns(jointables,2,'Williams',MINIMUN_SECONDS,MAXIMUM_SECONDS)\n",
    "data"
   ]
  },
  {
   "cell_type": "code",
   "execution_count": null,
   "metadata": {},
   "outputs": [],
   "source": [
    "if len(data) != 0:\n",
    "    libraryDataF1.race_pace_graph(data)"
   ]
  },
  {
   "cell_type": "code",
   "execution_count": null,
   "metadata": {},
   "outputs": [],
   "source": [
    "if len(data) != 0:\n",
    "    libraryDataF1.race_pace_divided_per_sectors(data)"
   ]
  },
  {
   "cell_type": "markdown",
   "metadata": {},
   "source": [
    "#### Kick Sauber"
   ]
  },
  {
   "cell_type": "code",
   "execution_count": null,
   "metadata": {},
   "outputs": [],
   "source": [
    "stintInformation.query('driver_number == 24 or driver_number == 77')"
   ]
  },
  {
   "cell_type": "code",
   "execution_count": null,
   "metadata": {},
   "outputs": [],
   "source": [
    "data = libraryDataF1.getinfolongruns(jointables,24,'Kick Sauber',MINIMUN_SECONDS,MAXIMUM_SECONDS)\n",
    "data"
   ]
  },
  {
   "cell_type": "code",
   "execution_count": null,
   "metadata": {},
   "outputs": [],
   "source": [
    "if len(data) != 0:\n",
    "    libraryDataF1.race_pace_graph(data)"
   ]
  },
  {
   "cell_type": "code",
   "execution_count": null,
   "metadata": {},
   "outputs": [],
   "source": [
    "if len(data) != 0:\n",
    "    libraryDataF1.race_pace_divided_per_sectors(data)"
   ]
  },
  {
   "cell_type": "code",
   "execution_count": null,
   "metadata": {},
   "outputs": [],
   "source": [
    "data = libraryDataF1.getinfolongruns(jointables,77,'Kick Sauber',MINIMUN_SECONDS,MAXIMUM_SECONDS)\n",
    "data"
   ]
  },
  {
   "cell_type": "code",
   "execution_count": null,
   "metadata": {},
   "outputs": [],
   "source": [
    "if len(data) != 0:\n",
    "    libraryDataF1.race_pace_graph(data)"
   ]
  },
  {
   "cell_type": "code",
   "execution_count": null,
   "metadata": {},
   "outputs": [],
   "source": [
    "if len(data) != 0:\n",
    "    libraryDataF1.race_pace_divided_per_sectors(data)"
   ]
  },
  {
   "cell_type": "markdown",
   "metadata": {},
   "source": [
    "### Pits\n",
    "Before to finish the analysis, I added the Pits sections where it can see how much time teams spent in the box."
   ]
  },
  {
   "cell_type": "code",
   "execution_count": null,
   "metadata": {},
   "outputs": [],
   "source": [
    "pit = libraryDataF1.obtain_information('pit',session_key=9539)"
   ]
  },
  {
   "cell_type": "code",
   "execution_count": null,
   "metadata": {},
   "outputs": [],
   "source": [
    "jointables = pd.merge(drivers,pit,on=['driver_number']).query(\"pit_duration<120\")\n",
    "jointables\n",
    "pit_duration = pd.DataFrame(jointables.groupby('team_name')['pit_duration'].mean().sort_values(ascending=True))\n",
    "pit_duration"
   ]
  }
 ],
 "metadata": {
  "kernelspec": {
   "display_name": "Python 3",
   "language": "python",
   "name": "python3"
  },
  "language_info": {
   "codemirror_mode": {
    "name": "ipython",
    "version": 3
   },
   "file_extension": ".py",
   "mimetype": "text/x-python",
   "name": "python",
   "nbconvert_exporter": "python",
   "pygments_lexer": "ipython3",
   "version": "3.8.6"
  }
 },
 "nbformat": 4,
 "nbformat_minor": 2
}
